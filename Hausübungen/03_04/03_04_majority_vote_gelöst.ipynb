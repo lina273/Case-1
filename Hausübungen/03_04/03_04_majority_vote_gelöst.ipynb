{
 "cells": [
  {
   "cell_type": "markdown",
   "metadata": {},
   "source": [
    "<table style=\"width: 100%\">\n",
    "    <tr style=\"background: #ffffff\">\n",
    "        <td style=\"padding-top:25px; width: 180px\">\n",
    "            <img src=\"https://mci.edu/templates/mci/images/logo.svg\" alt=\"Logo\">\n",
    "        </td>\n",
    "        <td style=\"width: 100%\">\n",
    "            <div style=\"width: 100%; text-align:right\"><font style=\"font-size:38px\"><b>Softwaredesign</b></font></div>\n",
    "            <div style=\"padding-top:0px; width: 100%; text-align:right\"><font size=\"4\"><b>WS 2023</b></font></div>\n",
    "        </td>\n",
    "    </tr>\n",
    "</table>\n",
    "\n",
    "---\n",
    "\n",
    "# Majority Vote Algorithm\n",
    "\n",
    "Implementieren Sie einen Algorithmus mit dem bestimmt werden kann, ob in einer Liste ein Element mit einer absoluten Mehrheit existiert.\n",
    "Damit dies der Fall ist, muss es mindestens $\\frac{n}{2}$-mal vorkommen, wobei $n$ die Anzahl der Elemente in der Liste ist. \n",
    "Ihr Algorithmus soll, falls so ein Element existiert zurück geben um welches Element es sich handelt. Falls kein solches Element existiert soll `None` zurück gegeben werden.\n",
    "\n",
    "## Testdaten\n",
    "Zum Testen werden Sie ihren Algorithmus auf kurze Listen anwenden.\n",
    "```Python\n",
    "my_list   = [2, 8, 7, 4, 1, 5, 2, 3, 1, 2, 2]\n",
    "my_list_2 = [2, 8, 7, 2, 2, 5, 2, 3, 1, 2, 2]\n",
    "```\n",
    "Für `my_list` ist keine absolute Mehrheit vorhanden, ihr Algorithmus soll daher `None` zurück geben.\n",
    "Für `my_list_2` ist die absolute Mehrheit `2`, ihr Algorithmus soll daher `2` zurück geben.\n",
    "\n",
    "## Echte Daten\n",
    "Für den tatsächlichen Fall soll der Algorithmus aber auf Daten angewendet werden, die den gültig abgegebenen Stimmen bei zwei Nationalratswahlen in Österreich entsprechen. Die Länge dieser Listen beläuft sich daher auf ca. 4.8 Millionen Elemente.\n",
    "\n",
    "Dies setzt voraus, dass Sie die Zeitkomplexität Ihres Algorithmus berücksichtigen und hier eine effizient Implementierung wählen. Es lässt sich hier eine Lösung finden die in linearer Zeit ($\\mathcal{O}(n)$) ausgeführt werden kann."
   ]
  },
  {
   "cell_type": "markdown",
   "metadata": {},
   "source": [
    "---\n",
    "## Beginn der Setup-Code-Blöcke\n",
    "Hier werden Daten und Hilfsfunktionen für Sie definiert. Sie müssen diese nicht verstehen, können aber gerne einen Blick darauf werfen.\n",
    "\n",
    "Sie beginnen mit ihrere Implementierung weiter unten im Notebook ab der Überschfit \"Beginn der eigentlichen Implementierung\"."
   ]
  },
  {
   "cell_type": "code",
   "execution_count": 1,
   "metadata": {},
   "outputs": [],
   "source": [
    "import random"
   ]
  },
  {
   "cell_type": "markdown",
   "metadata": {},
   "source": [
    "### Generieren der Testdaten der Nationalratswahl 2019\n",
    "Quelle: https://www.bmi.gv.at/412/Nationalratswahlen/Nationalratswahl_2019/start.aspx  \n",
    "Fiktive Stimmenliste für die Nationalratswahl 2019. Die absolute Anzahl an Stimmen für jede der gelisteten Parteien ist korrekt, jedoch sind die Stimmen und deren Reihenfolge in der Liste fiktiv.  \n",
    "Bei dieser Wahl wurde keine absolute Mehrheit erreicht, daher soll Ihr Algorithmus `None` zurück geben."
   ]
  },
  {
   "cell_type": "code",
   "execution_count": 2,
   "metadata": {},
   "outputs": [
    {
     "name": "stdout",
     "output_type": "stream",
     "text": [
      "Anzahl an Stimmen: 4777246 für 13 Parteien\n"
     ]
    }
   ],
   "source": [
    "parties = [\"ÖVP\", \"SPÖ\", \"FPÖ\", \"NEOS\", \"JETZT\", \"GRÜNE\", \"KPÖ\", \"WANDL\", \"BZÖ\", \"BIER\", \"CPÖ\", \"GILT\", \"SLP\"]\n",
    "amounts = [1789417, 1011868, 772666, 387124, 89169, 664055, 32736, 22168, 760, 4946, 260, 1767, 310]\n",
    "\n",
    "votes_2019 = []\n",
    "for i, amount in enumerate(amounts):\n",
    "    votes_2019.extend([parties[i] for x in range(amount)])\n",
    "\n",
    "random.shuffle(votes_2019)\n",
    "print(F\"Anzahl an Stimmen: {len(votes_2019)} für {len(parties)} Parteien\")"
   ]
  },
  {
   "cell_type": "markdown",
   "metadata": {},
   "source": [
    "### Generieren der Testdaten der Nationalratswahl 1979\n",
    "Quelle: https://www.bmi.gv.at/412/Nationalratswahlen/Nationalratswahl_1979/start.aspx  \n",
    "Fiktive Stimmenliste für die Nationalratswahl 1979. Die absolute Anzahl an Stimmen für jede der gelisteten Parteien ist korrekt, jedoch sind die Stimmen und deren Reihenfolge in der Liste fiktiv.  \n",
    "Dies war die Letzte Nationalratswahl mit absoluter Mehrheit, in diesem Fall für die SPÖ. Ihr Algorithmus soll daher `SPÖ` zurück geben."
   ]
  },
  {
   "cell_type": "markdown",
   "metadata": {},
   "source": []
  },
  {
   "cell_type": "code",
   "execution_count": 3,
   "metadata": {},
   "outputs": [
    {
     "name": "stdout",
     "output_type": "stream",
     "text": [
      "Anzahl an Stimmen: 4729251 für 5 Parteien\n"
     ]
    }
   ],
   "source": [
    "parties = [\"ÖVP\", \"SPÖ\", \"FPÖ\", \"KPÖ\", \"CSA\"]\n",
    "amounts = [1981739, 2413226, 286743, 45280, 2263]\n",
    "\n",
    "votes_1979 = []\n",
    "for i, amount in enumerate(amounts):\n",
    "    votes_1979.extend([parties[i] for x in range(amount)])\n",
    "\n",
    "random.shuffle(votes_1979)\n",
    "print(F\"Anzahl an Stimmen: {len(votes_1979)} für {len(parties)} Parteien\")"
   ]
  },
  {
   "cell_type": "markdown",
   "metadata": {},
   "source": [
    "## Definition der simplen Testfälle"
   ]
  },
  {
   "cell_type": "code",
   "execution_count": 4,
   "metadata": {},
   "outputs": [],
   "source": [
    "my_list = [2, 8, 7, 4, 1, 5, 2, 3, 1, 2, 2]\n",
    "my_list_2 = [2, 8, 7, 2, 2, 5, 2, 3, 1, 2, 2]"
   ]
  },
  {
   "cell_type": "markdown",
   "metadata": {},
   "source": [
    "### Löschen von Hilfsvariablen\n",
    "Die Hilfsvariablen die zur Generierung der Listen genutzt wurden werden gelöscht, da diese für die Aufgabenstellung nicht genutzt werden sollen."
   ]
  },
  {
   "cell_type": "code",
   "execution_count": 5,
   "metadata": {},
   "outputs": [],
   "source": [
    "del parties, amounts, i, amount"
   ]
  },
  {
   "cell_type": "markdown",
   "metadata": {},
   "source": [
    "### Timing-Funktion\n",
    "\n",
    "Diese Funktion stellt einen \"Decorator\" dar, der die Laufzeit einer Funktion misst und ausgibt.\n",
    "\n",
    "Die Verwendung sieht wie folgt aus:\n",
    "```Python\n",
    "@timeit\n",
    "def my_function():\n",
    "    # do something\n",
    "    pass\n",
    "\n",
    "#Funktionsaufruf wie gehabt:\n",
    "my_function()\n",
    "```"
   ]
  },
  {
   "cell_type": "code",
   "execution_count": 6,
   "metadata": {},
   "outputs": [],
   "source": [
    "from functools import wraps\n",
    "import time\n",
    "\n",
    "def timeit(func):\n",
    "    @wraps(func)\n",
    "    def timeit_wrapper(*args, **kwargs):\n",
    "        start_time = time.perf_counter()\n",
    "        result = func(*args, **kwargs)\n",
    "        end_time = time.perf_counter()\n",
    "        total_time = end_time - start_time\n",
    "        print(f'@timeit: {func.__name__} took {(total_time*1e3):.4f} milliseconds')\n",
    "        #return result, total_time\n",
    "        return result\n",
    "    return timeit_wrapper"
   ]
  },
  {
   "cell_type": "markdown",
   "metadata": {},
   "source": [
    "---\n",
    "## Beginn der eigentlichen Implementierung\n",
    "Ab hier können Sie mit ihrer eigentlichen Implementierung beginnen."
   ]
  },
  {
   "cell_type": "markdown",
   "metadata": {},
   "source": [
    "## Simpler Ansatz\n",
    "Implementieren Sie hier den ersten Ansatz, der Ihnen einfällt. Dieser muss nicht effizient sein, sollte aber korrekt sein.  \n",
    "Bestimmen Sie für diesen Algorithmus die Zeitkomplexität $\\mathcal{O}$ und geben Sie diese in der Markdown-Zelle weiter unten an.\n",
    "\n",
    "Versehen Sie die Funktion mit dem Decorator `@timeit` um die Laufzeit zu messen."
   ]
  },
  {
   "cell_type": "code",
   "execution_count": null,
   "metadata": {},
   "outputs": [],
   "source": [
    "from collections import Counter\n",
    "\n",
    "@timeit\n",
    "def find_majority_element(a_list):\n",
    "    # Zähle die Vorkommen der Elemente\n",
    "    counts = Counter(a_list)\n",
    "    n = len(a_list)\n",
    "    \n",
    "    # Suche nach einem Element mit Vorkommen >= n / 2\n",
    "    for element, count in counts.items():\n",
    "        if count > n / 2:\n",
    "            return element\n",
    "    return None\n"
   ]
  },
  {
   "cell_type": "code",
   "execution_count": 8,
   "metadata": {},
   "outputs": [
    {
     "name": "stdout",
     "output_type": "stream",
     "text": [
      "@timeit: find_majority_element took 0.0151 milliseconds\n",
      "None\n",
      "@timeit: find_majority_element took 0.0066 milliseconds\n",
      "2\n"
     ]
    }
   ],
   "source": [
    "print(find_majority_element(my_list))\n",
    "print(find_majority_element(my_list_2))"
   ]
  },
  {
   "cell_type": "code",
   "execution_count": null,
   "metadata": {},
   "outputs": [],
   "source": [
    "# Mit hoher Wahrscheinlichkeit müssen Sie ihren naiven Algorithmus abbrechen, wenn er für diese Liste zu lange braucht\n",
    "print(find_majority_element(votes_1979))\n",
    "print(find_majority_element(votes_2019))"
   ]
  },
  {
   "cell_type": "markdown",
   "metadata": {},
   "source": [
    "Hier Lösung einfügen:  \n",
    "Die Zeitkomplexität dieses Algorithmus beträgt: $\\mathcal{O}(\\dots)$"
   ]
  },
  {
   "cell_type": "markdown",
   "metadata": {},
   "source": [
    "---\n",
    "## Effizienter Ansatz\n",
    "Überlegen Sie sich oder recherchieren Sie einen Algorithmus der die Problemstellung effizienter lösen kann.  \n",
    "Es existieren meherere Varianten, eine davon kann in linearer Zeit ($\\mathcal{O}(n)$) ausgeführt werden.\n",
    "\n",
    "Bestimmen Sie für Ihren effizienteren Algorithmus die Zeitkomplexität $\\mathcal{O}$ und geben Sie diese in der Markdown-Zelle weiter unten an."
   ]
  },
  {
   "cell_type": "code",
   "execution_count": null,
   "metadata": {},
   "outputs": [],
   "source": [
    "@timeit\n",
    "def find_majority_element_efficient(input_list):\n",
    "    candidate = None\n",
    "    count = 0\n",
    "\n",
    "    for item in input_list:\n",
    "        if count == 0:\n",
    "            candidate = item\n",
    "            count = 1\n",
    "        elif item == candidate:\n",
    "            count += 1\n",
    "        else:\n",
    "            count -= 1\n",
    "\n",
    "\n",
    "    if input_list.count(candidate) > len(input_list) / 2:\n",
    "        return candidate\n",
    "\n",
    "    return None\n"
   ]
  },
  {
   "cell_type": "code",
   "execution_count": 11,
   "metadata": {},
   "outputs": [
    {
     "name": "stdout",
     "output_type": "stream",
     "text": [
      "@timeit: find_majority_element_efficient took 0.0109 milliseconds\n",
      "None\n",
      "@timeit: find_majority_element_efficient took 0.0065 milliseconds\n",
      "2\n"
     ]
    }
   ],
   "source": [
    "print(find_majority_element_efficient(my_list))\n",
    "print(find_majority_element_efficient(my_list_2))"
   ]
  },
  {
   "cell_type": "code",
   "execution_count": 12,
   "metadata": {},
   "outputs": [
    {
     "name": "stdout",
     "output_type": "stream",
     "text": [
      "@timeit: find_majority_element_efficient took 721.8948 milliseconds\n",
      "None\n",
      "@timeit: find_majority_element_efficient took 784.9789 milliseconds\n",
      "SPÖ\n"
     ]
    }
   ],
   "source": [
    "print(find_majority_element_efficient(votes_2019))\n",
    "print(find_majority_element_efficient(votes_1979))"
   ]
  },
  {
   "cell_type": "markdown",
   "metadata": {},
   "source": [
    "Hier Lösung einfügen:  \n",
    "Die Zeitkomplexität dieses Algorithmus beträgt: $\\mathcal{O}(\\dots)$"
   ]
  },
  {
   "cell_type": "markdown",
   "metadata": {},
   "source": [
    "---\n",
    "## OPTIONAL: Zweiter effizienter Ansatz\n",
    "\n",
    "Es existieren mehrere effiziente Ansätze, die Problemstellung zu lösen.  \n",
    "Falls Sie noch weitere Ansätze implementieren wollen, können Sie dies hier optional gerne tun."
   ]
  },
  {
   "cell_type": "code",
   "execution_count": 27,
   "metadata": {},
   "outputs": [],
   "source": [
    "from bisect import bisect_left, bisect_right\n",
    "\n",
    "@timeit\n",
    "def find_majority_element_sorting(a_list):\n",
    "    pass"
   ]
  },
  {
   "cell_type": "code",
   "execution_count": 28,
   "metadata": {},
   "outputs": [
    {
     "name": "stdout",
     "output_type": "stream",
     "text": [
      "@timeit: find_majority_element_sorting took 0.0128 milliseconds\n",
      "None\n",
      "@timeit: find_majority_element_sorting took 0.0038 milliseconds\n",
      "2\n",
      "@timeit: find_majority_element_sorting took 448.2505 milliseconds\n",
      "SPÖ\n",
      "@timeit: find_majority_element_sorting took 5217.9359 milliseconds\n",
      "None\n"
     ]
    }
   ],
   "source": [
    "print(find_majority_element_sorting(my_list))\n",
    "print(find_majority_element_sorting(my_list_2))\n",
    "\n",
    "print(find_majority_element_sorting(votes_1979))\n",
    "print(find_majority_element_sorting(votes_2019))"
   ]
  },
  {
   "cell_type": "markdown",
   "metadata": {},
   "source": [
    "---\n",
    "## Tests für simplen Algorithmus"
   ]
  },
  {
   "cell_type": "code",
   "execution_count": 13,
   "metadata": {},
   "outputs": [
    {
     "name": "stdout",
     "output_type": "stream",
     "text": [
      "@timeit: find_majority_element took 0.0079 milliseconds\n",
      "@timeit: find_majority_element took 0.0061 milliseconds\n",
      "@timeit: find_majority_element took 1149.2500 milliseconds\n",
      "Unexpected exception formatting exception. Falling back to standard exception\n"
     ]
    },
    {
     "name": "stderr",
     "output_type": "stream",
     "text": [
      "Traceback (most recent call last):\n",
      "  File \"h:\\01_Lehre\\01_Kurse\\Softwaredesign\\MCI-MECH-B-3-SWD-SWD-ILV\\Code\\.venv\\Lib\\site-packages\\IPython\\core\\interactiveshell.py\", line 3508, in run_code\n",
      "    exec(code_obj, self.user_global_ns, self.user_ns)\n",
      "  File \"C:\\Users\\mtpanny\\AppData\\Local\\Temp\\ipykernel_13964\\3548866997.py\", line 4, in <module>\n",
      "    assert find_majority_element(votes_2019) == None\n",
      "           ^^^^^^^^^^^^^^^^^^^^^^^^^^^^^^^^^\n",
      "  File \"C:\\Users\\mtpanny\\AppData\\Local\\Temp\\ipykernel_13964\\4179701232.py\", line 8, in timeit_wrapper\n",
      "    result = func(*args, **kwargs)\n",
      "             ^^^^^^^^^^^^^^^^^^^^^\n",
      "  File \"C:\\Users\\mtpanny\\AppData\\Local\\Temp\\ipykernel_13964\\1424594334.py\", line -1, in find_majority_element\n",
      "KeyboardInterrupt\n",
      "\n",
      "During handling of the above exception, another exception occurred:\n",
      "\n",
      "Traceback (most recent call last):\n",
      "  File \"h:\\01_Lehre\\01_Kurse\\Softwaredesign\\MCI-MECH-B-3-SWD-SWD-ILV\\Code\\.venv\\Lib\\site-packages\\IPython\\core\\interactiveshell.py\", line 2105, in showtraceback\n",
      "    stb = self.InteractiveTB.structured_traceback(\n",
      "          ^^^^^^^^^^^^^^^^^^^^^^^^^^^^^^^^^^^^^^^^\n",
      "  File \"h:\\01_Lehre\\01_Kurse\\Softwaredesign\\MCI-MECH-B-3-SWD-SWD-ILV\\Code\\.venv\\Lib\\site-packages\\IPython\\core\\ultratb.py\", line 1428, in structured_traceback\n",
      "    return FormattedTB.structured_traceback(\n",
      "           ^^^^^^^^^^^^^^^^^^^^^^^^^^^^^^^^^\n",
      "  File \"h:\\01_Lehre\\01_Kurse\\Softwaredesign\\MCI-MECH-B-3-SWD-SWD-ILV\\Code\\.venv\\Lib\\site-packages\\IPython\\core\\ultratb.py\", line 1319, in structured_traceback\n",
      "    return VerboseTB.structured_traceback(\n",
      "           ^^^^^^^^^^^^^^^^^^^^^^^^^^^^^^^\n",
      "  File \"h:\\01_Lehre\\01_Kurse\\Softwaredesign\\MCI-MECH-B-3-SWD-SWD-ILV\\Code\\.venv\\Lib\\site-packages\\IPython\\core\\ultratb.py\", line 1172, in structured_traceback\n",
      "    formatted_exception = self.format_exception_as_a_whole(etype, evalue, etb, number_of_lines_of_context,\n",
      "                          ^^^^^^^^^^^^^^^^^^^^^^^^^^^^^^^^^^^^^^^^^^^^^^^^^^^^^^^^^^^^^^^^^^^^^^^^^^^^^^^^\n",
      "  File \"h:\\01_Lehre\\01_Kurse\\Softwaredesign\\MCI-MECH-B-3-SWD-SWD-ILV\\Code\\.venv\\Lib\\site-packages\\IPython\\core\\ultratb.py\", line 1087, in format_exception_as_a_whole\n",
      "    frames.append(self.format_record(record))\n",
      "                  ^^^^^^^^^^^^^^^^^^^^^^^^^^\n",
      "  File \"h:\\01_Lehre\\01_Kurse\\Softwaredesign\\MCI-MECH-B-3-SWD-SWD-ILV\\Code\\.venv\\Lib\\site-packages\\IPython\\core\\ultratb.py\", line 969, in format_record\n",
      "    frame_info.lines, Colors, self.has_colors, lvals\n",
      "    ^^^^^^^^^^^^^^^^\n",
      "  File \"h:\\01_Lehre\\01_Kurse\\Softwaredesign\\MCI-MECH-B-3-SWD-SWD-ILV\\Code\\.venv\\Lib\\site-packages\\IPython\\core\\ultratb.py\", line 792, in lines\n",
      "    return self._sd.lines\n",
      "           ^^^^^^^^^^^^^^\n",
      "  File \"h:\\01_Lehre\\01_Kurse\\Softwaredesign\\MCI-MECH-B-3-SWD-SWD-ILV\\Code\\.venv\\Lib\\site-packages\\stack_data\\utils.py\", line 144, in cached_property_wrapper\n",
      "    value = obj.__dict__[self.func.__name__] = self.func(obj)\n",
      "                                               ^^^^^^^^^^^^^^\n",
      "  File \"h:\\01_Lehre\\01_Kurse\\Softwaredesign\\MCI-MECH-B-3-SWD-SWD-ILV\\Code\\.venv\\Lib\\site-packages\\stack_data\\core.py\", line 734, in lines\n",
      "    pieces = self.included_pieces\n",
      "             ^^^^^^^^^^^^^^^^^^^^\n",
      "  File \"h:\\01_Lehre\\01_Kurse\\Softwaredesign\\MCI-MECH-B-3-SWD-SWD-ILV\\Code\\.venv\\Lib\\site-packages\\stack_data\\utils.py\", line 144, in cached_property_wrapper\n",
      "    value = obj.__dict__[self.func.__name__] = self.func(obj)\n",
      "                                               ^^^^^^^^^^^^^^\n",
      "  File \"h:\\01_Lehre\\01_Kurse\\Softwaredesign\\MCI-MECH-B-3-SWD-SWD-ILV\\Code\\.venv\\Lib\\site-packages\\stack_data\\core.py\", line 681, in included_pieces\n",
      "    pos = scope_pieces.index(self.executing_piece)\n",
      "                             ^^^^^^^^^^^^^^^^^^^^\n",
      "  File \"h:\\01_Lehre\\01_Kurse\\Softwaredesign\\MCI-MECH-B-3-SWD-SWD-ILV\\Code\\.venv\\Lib\\site-packages\\stack_data\\utils.py\", line 144, in cached_property_wrapper\n",
      "    value = obj.__dict__[self.func.__name__] = self.func(obj)\n",
      "                                               ^^^^^^^^^^^^^^\n",
      "  File \"h:\\01_Lehre\\01_Kurse\\Softwaredesign\\MCI-MECH-B-3-SWD-SWD-ILV\\Code\\.venv\\Lib\\site-packages\\stack_data\\core.py\", line 660, in executing_piece\n",
      "    return only(\n",
      "           ^^^^^\n",
      "  File \"h:\\01_Lehre\\01_Kurse\\Softwaredesign\\MCI-MECH-B-3-SWD-SWD-ILV\\Code\\.venv\\Lib\\site-packages\\executing\\executing.py\", line 190, in only\n",
      "    raise NotOneValueFound('Expected one value, found 0')\n",
      "executing.executing.NotOneValueFound: Expected one value, found 0\n"
     ]
    }
   ],
   "source": [
    "assert find_majority_element(my_list) == None\n",
    "assert find_majority_element(my_list_2) == 2\n",
    "assert find_majority_element(votes_1979) == \"SPÖ\"\n",
    "assert find_majority_element(votes_2019) == None"
   ]
  },
  {
   "cell_type": "markdown",
   "metadata": {},
   "source": [
    "---\n",
    "## Tests für effizienten Algorithmus"
   ]
  },
  {
   "cell_type": "code",
   "execution_count": 29,
   "metadata": {},
   "outputs": [
    {
     "name": "stdout",
     "output_type": "stream",
     "text": [
      "@timeit: find_majority_element_linear_time took 0.0057 milliseconds\n",
      "@timeit: find_majority_element_linear_time took 0.0060 milliseconds\n",
      "@timeit: find_majority_element_linear_time took 706.0503 milliseconds\n",
      "@timeit: find_majority_element_linear_time took 708.4645 milliseconds\n"
     ]
    }
   ],
   "source": [
    "assert find_majority_element_efficient(my_list) == None\n",
    "assert find_majority_element_efficient(my_list_2) == 2\n",
    "assert find_majority_element_efficient(votes_1979) == \"SPÖ\"\n",
    "assert find_majority_element_efficient(votes_2019) == None"
   ]
  },
  {
   "cell_type": "markdown",
   "metadata": {},
   "source": [
    "---\n",
    "## OPTIONAL: Tests für 3. Algorithmus"
   ]
  },
  {
   "cell_type": "code",
   "execution_count": 31,
   "metadata": {},
   "outputs": [
    {
     "name": "stdout",
     "output_type": "stream",
     "text": [
      "@timeit: find_majority_element_sorting took 0.0154 milliseconds\n",
      "@timeit: find_majority_element_sorting took 0.0074 milliseconds\n",
      "@timeit: find_majority_element_sorting took 414.5053 milliseconds\n",
      "@timeit: find_majority_element_sorting took 5072.4383 milliseconds\n"
     ]
    }
   ],
   "source": [
    "assert find_majority_element_sorting(my_list) == None\n",
    "assert find_majority_element_sorting(my_list_2) == 2\n",
    "assert find_majority_element_sorting(votes_1979) == \"SPÖ\"\n",
    "assert find_majority_element_sorting(votes_2019) == None"
   ]
  }
 ],
 "metadata": {
  "kernelspec": {
   "display_name": ".venv",
   "language": "python",
   "name": "python3"
  },
  "language_info": {
   "codemirror_mode": {
    "name": "ipython",
    "version": 3
   },
   "file_extension": ".py",
   "mimetype": "text/x-python",
   "name": "python",
   "nbconvert_exporter": "python",
   "pygments_lexer": "ipython3",
   "version": "3.11.3"
  },
  "orig_nbformat": 4
 },
 "nbformat": 4,
 "nbformat_minor": 2
}
