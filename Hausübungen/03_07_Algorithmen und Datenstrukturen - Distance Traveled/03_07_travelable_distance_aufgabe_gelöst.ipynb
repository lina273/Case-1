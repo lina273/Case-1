{
 "cells": [
  {
   "cell_type": "markdown",
   "metadata": {},
   "source": [
    "<table style=\"width: 100%\">\n",
    "    <tr style=\"background: #ffffff\">\n",
    "        <td style=\"padding-top:25px; width: 180px\">\n",
    "            <img src=\"https://mci.edu/templates/mci/images/logo.svg\" alt=\"Logo\">\n",
    "        </td>\n",
    "        <td style=\"width: 100%\">\n",
    "            <div style=\"width: 100%; text-align:right\"><font style=\"font-size:38px\"><b>Softwaredesign</b></font></div>\n",
    "            <div style=\"padding-top:0px; width: 100%; text-align:right\"><font size=\"4\"><b>Mechatronik</b></font></div>\n",
    "        </td>\n",
    "    </tr>\n",
    "</table>\n",
    "\n",
    "---\n",
    "\n",
    "# Travelable Distance - Fahrreichweiten-Simulation\n",
    "Die Flotte an Logistikfahrzeugen Ihres Arbeitgebers soll erneuert werden. Nun stellt sich die große Frage, in welchem Ausmaß Elektro- bzw. Wasserstofffahrzeuge hier sinnvoll eingesetzt werden können.\n",
    "\n",
    "Sie sollen nun bestimmen welche Reichweite ein solches Fahrzeug haben müsste, um tatsächlich praktikabel zu sein. Da sich das Liefergebiet prinzipiell auf ganz Europa erstreckt, sind Sie nicht mehr in der Lage dieses Problem händisch zu lösen.\n",
    "\n",
    "Sie sollen daher basierend auf einem Datensatz mit ca. 69500 europäischen Ortschaften und Städten bestimmen wie viele Stopps bei einer Lieferung eingelegt werden müssen, um das Lieferfahrzeug voll zu tanken."
   ]
  },
  {
   "cell_type": "markdown",
   "metadata": {},
   "source": [
    "---\n",
    "## Beginn der Setup-Code-Blöcke"
   ]
  },
  {
   "cell_type": "code",
   "execution_count": 95,
   "metadata": {},
   "outputs": [],
   "source": [
    "import pandas as pd\n",
    "import math\n",
    "from math import radians, sin, cos, atan2, sqrt"
   ]
  },
  {
   "cell_type": "markdown",
   "metadata": {},
   "source": [
    "### Hilfsfunktion um die Distanz zw. zwei Punkten auf der Erde zu bestimmen\n",
    "Implementieren Sie die Funktion `distance_on_earth(lat1, lon1, lat2, lon2)` die aus den geographischen Koordinaten zweier Punkte auf der Erde die Distanz in Kilometern berechnet.  \n",
    "Nutzen Sie hierfür die [Haversine-Formel](https://en.wikipedia.org/wiki/Haversine_formula). Dies ist zwar nur eine Näherungsformel, welche die Erde als perfekte Kugel annimmt, aber das Ergebnis ist für unsere Zwecke ausreichend genau."
   ]
  },
  {
   "cell_type": "code",
   "execution_count": 96,
   "metadata": {},
   "outputs": [
    {
     "name": "stdout",
     "output_type": "stream",
     "text": [
      "14.629436193849216\n"
     ]
    }
   ],
   "source": [
    "def distance_on_earth(lat1, lon1, lat2, lon2):\n",
    "    \"\"\"Calculates distance between two points on earth using the haversine formula.\"\"\"\n",
    "    \n",
    "    radius = 6371  \n",
    "    diff_lat = lat2 - lat1\n",
    "    diff_lon = lon2 - lon1\n",
    "\n",
    "    lat1 = lat1 * math.pi / 180\n",
    "    lon1_rad = lon1 * (math.pi / 180)\n",
    "    diff_lat_rad = diff_lat * (math.pi / 180)\n",
    "    lat2 = lat2 * math.pi / 180\n",
    "    lon2_rad = lon2 * (math.pi / 180)\n",
    "    diff_lon_rad = diff_lon * (math.pi / 180)\n",
    "\n",
    "    a1 = math.sin(diff_lat_rad / 2) ** 2\n",
    "    cos1 = math.cos(lat1)\n",
    "    cos2 = math.cos(lat2)\n",
    "    a2 = math.sin(diff_lon_rad / 2) ** 2\n",
    "\n",
    "    middle_step = a1 + cos1 * cos2 * a2  \n",
    "    sqrt1 = math.sqrt(middle_step)\n",
    "    sqrt2 = math.sqrt(1 - middle_step)\n",
    "\n",
    "  \n",
    "    angle = 2 * math.atan2(sqrt1, sqrt2)\n",
    "    result = angle * radius  \n",
    "\n",
    "    final_distance = result\n",
    "\n",
    "    return final_distance\n",
    "\n",
    "# Test\n",
    "assert 14 < distance_on_earth(47.296464, 11.586556, 47.259659, 11.400375) < 15\n",
    "print(distance_on_earth(47.296464, 11.586556, 47.259659, 11.400375))\n",
    "\n"
   ]
  },
  {
   "cell_type": "markdown",
   "metadata": {},
   "source": [
    "---\n",
    "### Klasse um eine Stadt zu repräsentieren\n",
    "Diese Klasse soll in der Lage sein eine Stadt mit deren Namen und Koordinaten zu repärsentierne.  \n",
    "Weiter müssen zwei Städte auf Gleichheit überprüfbar sein und hier `True` zurück liefern, wenn der Name und die Koordinaten der Städte ident sind.  \n",
    "Außerdem muss die Klasse hashbar sein, damit sie in einem `dict` gespeichert werden kann.\n",
    "\n",
    "Ebenso notwendig ist eine Methode `distance_to()` mit der die Distanz zu einer anderen Stadt berechnet werden kann."
   ]
  },
  {
   "cell_type": "code",
   "execution_count": 115,
   "metadata": {},
   "outputs": [],
   "source": [
    "import math\n",
    "\n",
    "class City:\n",
    "    def __init__(self, name, lat, lon):\n",
    "        self.name_of_city = name\n",
    "        self.latitude = lat\n",
    "        self.longitude = lon\n",
    "\n",
    "    def distance_to(self, other):\n",
    "        radius = 6371  \n",
    "        lat_diff = self.latitude - other.latitude\n",
    "        lon_diff = self.longitude - other.longitude\n",
    "        lat_radians = math.radians(lat_diff)\n",
    "        lon_radians = math.radians(lon_diff)\n",
    "        \n",
    "        a = math.sin(lat_radians / 2.0)**2 + math.cos(math.radians(self.latitude)) * math.cos(math.radians(other.latitude)) * math.sin(lon_radians / 2.0)**2\n",
    "        c = math.atan2(math.sqrt(a), math.sqrt(1 - a))\n",
    "\n",
    "        distance = radius * c \n",
    "        return distance\n",
    "\n",
    "    def __eq__(self, other):\n",
    "        if not isinstance(other, City): \n",
    "            return False\n",
    "        return self.name_of_city == other.name_of_city and self.latitude == other.latitude and self.longitude == other.longitude\n",
    "\n",
    "    def __hash__(self):\n",
    "        return hash((self.name_of_city, self.latitude, self.longitude))\n",
    "\n",
    "    def __str__(self):\n",
    "        return f\"Die Stadt {self.name_of_city} ist bei {self.latitude} und {self.longitude}\"\n",
    "    \n",
    "    def __repr__(self):\n",
    "        return self.__str__()\n",
    "\n"
   ]
  },
  {
   "cell_type": "markdown",
   "metadata": {},
   "source": [
    "### Einlesen der CSV-Datei\n",
    "Hier wird die Datei `cities_in_europe.csv` für Sie eingelesen und die darin enthaltenen Städte in einem Pandas `DateFrame` abgespeichert.  \n",
    "Verschaffen Sie sich einen überblick darüber wie die Daten aufgebaut sind."
   ]
  },
  {
   "cell_type": "code",
   "execution_count": 98,
   "metadata": {},
   "outputs": [
    {
     "data": {
      "text/html": [
       "<div>\n",
       "<style scoped>\n",
       "    .dataframe tbody tr th:only-of-type {\n",
       "        vertical-align: middle;\n",
       "    }\n",
       "\n",
       "    .dataframe tbody tr th {\n",
       "        vertical-align: top;\n",
       "    }\n",
       "\n",
       "    .dataframe thead th {\n",
       "        text-align: right;\n",
       "    }\n",
       "</style>\n",
       "<table border=\"1\" class=\"dataframe\">\n",
       "  <thead>\n",
       "    <tr style=\"text-align: right;\">\n",
       "      <th></th>\n",
       "      <th>ASCII Name</th>\n",
       "      <th>Country name EN</th>\n",
       "      <th>Country Code</th>\n",
       "      <th>Population</th>\n",
       "      <th>LABEL EN</th>\n",
       "      <th>Coordinates</th>\n",
       "      <th>Latitude</th>\n",
       "      <th>Longitude</th>\n",
       "    </tr>\n",
       "  </thead>\n",
       "  <tbody>\n",
       "    <tr>\n",
       "      <th>0</th>\n",
       "      <td>Istanbul</td>\n",
       "      <td>Turkey</td>\n",
       "      <td>TR</td>\n",
       "      <td>14804116</td>\n",
       "      <td>Turkey</td>\n",
       "      <td>41.01384, 28.94966</td>\n",
       "      <td>41.01384</td>\n",
       "      <td>28.94966</td>\n",
       "    </tr>\n",
       "    <tr>\n",
       "      <th>1</th>\n",
       "      <td>Moscow</td>\n",
       "      <td>Russian Federation</td>\n",
       "      <td>RU</td>\n",
       "      <td>10381222</td>\n",
       "      <td>Russian Federation</td>\n",
       "      <td>55.75222, 37.61556</td>\n",
       "      <td>55.75222</td>\n",
       "      <td>37.61556</td>\n",
       "    </tr>\n",
       "    <tr>\n",
       "      <th>2</th>\n",
       "      <td>London</td>\n",
       "      <td>United Kingdom</td>\n",
       "      <td>GB</td>\n",
       "      <td>8961989</td>\n",
       "      <td>United Kingdom</td>\n",
       "      <td>51.50853, -0.12574</td>\n",
       "      <td>51.50853</td>\n",
       "      <td>-0.12574</td>\n",
       "    </tr>\n",
       "    <tr>\n",
       "      <th>3</th>\n",
       "      <td>Saint Petersburg</td>\n",
       "      <td>Russian Federation</td>\n",
       "      <td>RU</td>\n",
       "      <td>5351935</td>\n",
       "      <td>Russian Federation</td>\n",
       "      <td>59.93863, 30.31413</td>\n",
       "      <td>59.93863</td>\n",
       "      <td>30.31413</td>\n",
       "    </tr>\n",
       "    <tr>\n",
       "      <th>4</th>\n",
       "      <td>Ankara</td>\n",
       "      <td>Turkey</td>\n",
       "      <td>TR</td>\n",
       "      <td>3517182</td>\n",
       "      <td>Turkey</td>\n",
       "      <td>39.91987, 32.85427</td>\n",
       "      <td>39.91987</td>\n",
       "      <td>32.85427</td>\n",
       "    </tr>\n",
       "  </tbody>\n",
       "</table>\n",
       "</div>"
      ],
      "text/plain": [
       "         ASCII Name     Country name EN Country Code  Population  \\\n",
       "0          Istanbul              Turkey           TR    14804116   \n",
       "1            Moscow  Russian Federation           RU    10381222   \n",
       "2            London      United Kingdom           GB     8961989   \n",
       "3  Saint Petersburg  Russian Federation           RU     5351935   \n",
       "4            Ankara              Turkey           TR     3517182   \n",
       "\n",
       "             LABEL EN         Coordinates  Latitude  Longitude  \n",
       "0              Turkey  41.01384, 28.94966  41.01384   28.94966  \n",
       "1  Russian Federation  55.75222, 37.61556  55.75222   37.61556  \n",
       "2      United Kingdom  51.50853, -0.12574  51.50853   -0.12574  \n",
       "3  Russian Federation  59.93863, 30.31413  59.93863   30.31413  \n",
       "4              Turkey  39.91987, 32.85427  39.91987   32.85427  "
      ]
     },
     "execution_count": 98,
     "metadata": {},
     "output_type": "execute_result"
    }
   ],
   "source": [
    "df = pd.read_csv('cities_in_europe.csv', sep=';', encoding='latin1')\n",
    "df.head()\n"
   ]
  },
  {
   "cell_type": "markdown",
   "metadata": {},
   "source": [
    "---\n",
    "### Aufbau eines Graphen\n",
    "Um unsere Daten sinnvoll miteinander in Verbindung zu bringen muss eine geeignete Datenstruktur für das Problem gewählt werden.  \n",
    "In diesem Fall wird das ein Graph sein, welchen wir mittels `networkx`-Modul implementieren."
   ]
  },
  {
   "cell_type": "code",
   "execution_count": 99,
   "metadata": {},
   "outputs": [],
   "source": [
    "import networkx as nx"
   ]
  },
  {
   "cell_type": "markdown",
   "metadata": {},
   "source": [
    "### Knoten des Graphen hinzufügen\n",
    "Erstellen Sie einen neuen Graphen und fügen Sie die ersten `amount_of_cities` Städte hinzu. Städte sollen dabei immer als `City`-Objekt repräsentiert werden.  \n",
    "Hierfür können Sie die `add_node(...)`-Methode des Graphen verwenden, wie sie in der [Vorlesung vorgestellt](https://mrp123.github.io/MCI-MECH-B-3-SWD-SWD-ILV/03_Algorithmen_und_Datenstrukturen/Examples/B%C3%A4ume_und_Graphen/networkx_example.py) wurde. Für genauere Informationen können Sie auch die [Dokumentation von `networkx`](https://networkx.org/documentation/stable/reference/classes/graph.html) zu Rate ziehen."
   ]
  },
  {
   "cell_type": "code",
   "execution_count": 125,
   "metadata": {},
   "outputs": [
    {
     "name": "stdout",
     "output_type": "stream",
     "text": [
      "Anzahl der Städte: 4000\n"
     ]
    }
   ],
   "source": [
    "graph = nx.Graph()\n",
    "\n",
    "amount_of_cities = 4000\n",
    "cities_added = 0\n",
    "\n",
    "for i in range(amount_of_cities):\n",
    "    name = df['ASCII Name'][i]\n",
    "    lat = df['Latitude'][i]\n",
    "    lon = df['Longitude'][i]\n",
    "    city = City(name, lat, lon)\n",
    "    \n",
    "    graph.add_node(city)\n",
    "    cities_added += 1\n",
    "\n",
    "print(f\"Anzahl der Städte: {cities_added}\")\n",
    "assert amount_of_cities == len(graph.nodes)\n",
    "\n",
    "\n"
   ]
  },
  {
   "cell_type": "markdown",
   "metadata": {},
   "source": [
    "---\n",
    "### Kanten des Graphen hinzufügen\n",
    "Wir können nun über die Knoten des Graphen iterieren und daraus die Distanze zwischen allen Städten bestimmen. Wir nehmen an, dass zwei Städte miteinander verbunden werden können, wenn die Distanz zwischen ihnen kleiner als `travel_range` ist. Das soll abbilden, dass ein Fahrzeug mit einer Reichweite von `travel_range` die beiden Städte erreichen kann.\n",
    "Sollten zwei Städte innerhalb unserer bestimmten Reichweite liegen, dann kann eine Kante zwischen den beiden beteiligten Knoten hinzugefügt werden.\n",
    "\n",
    "Um dies zu implementieren, iterieren Sie über alle Knoten des Graphen (lassen sich in eine Liste umwandeln) und bestimmen Sie für jeden Knoten die Distanz zu allen anderen Knoten.\n",
    "\n",
    "Je nach Anzahl an Knoten kann dieser Vorgang etwas Zeit in Anspruch nehmen, da für alle möglichen Kombination aus Knoten und Kanten die Distanz bestimmt werden muss. Erst dann kann entschieden werden, ob eine Kante hinzugefügt werden kann oder nicht.\n",
    "\n",
    "Es lassen sich sinnvollere Datenstrukturen finden, um den Aufbau der Kanten zu beschleunigen. Dies ist aber nicht Teil der Aufgabe, weiters wollen wir in der Lage sein aus unserem gesamten Datensatz an Städten und deren Distanzen je zu extrahieren die innerhalb unserer Reichweite liegen."
   ]
  },
  {
   "cell_type": "code",
   "execution_count": 117,
   "metadata": {},
   "outputs": [],
   "source": [
    "city_distances_dict = {}\n",
    "cities = list(graph.nodes) #Knoten des Graphen als Liste"
   ]
  },
  {
   "cell_type": "markdown",
   "metadata": {},
   "source": [
    "Sie können das `itertools`-Modul verwenden um alle möglichen Kombinationen aus Knoten zu erstellen. Hierzu können Sie die Funktion `combinations(iterable, r)` verwenden.  \n",
    "Ein sinnvoller Schlüssel für das `city_distances_dict` könnte ein `Tupel` aus den beiden `City`-Objekten sein."
   ]
  },
  {
   "cell_type": "code",
   "execution_count": null,
   "metadata": {},
   "outputs": [
    {
     "name": "stdout",
     "output_type": "stream",
     "text": [
      "Es wurden Distanzen für 7998000 Kombinationen berechnet\n",
      "Der Graph hat 401448 Kanten\n"
     ]
    }
   ],
   "source": [
    "import itertools\n",
    "travel_range = 150\n",
    "city_distances_dict = {}\n",
    "cities = list(graph.nodes)\n",
    "\n",
    "\n",
    "city_distances_dict.clear() \n",
    "for city1, city2 in itertools.combinations(cities, 2):\n",
    "    distance = city1.distance_to(city2)\n",
    "    city_distances_dict[(city1, city2)] = distance\n",
    "\n",
    "print(f\"Es wurden Distanzen für {len(city_distances_dict)} Kombinationen berechnet\")\n",
    "\n",
    "for (city1, city2), distance in city_distances_dict.items():\n",
    "    if distance <= travel_range:\n",
    "        graph.add_edge(city1, city2, weight=distance)\n",
    "\n",
    "print(f\"Der Graph hat {len(graph.edges)} Kanten\")\n"
   ]
  },
  {
   "cell_type": "markdown",
   "metadata": {},
   "source": [
    "Kanten können mit der Funktion `add_edge()` hinzugefügt werden. Diese Funktion erwartet zwei Knoten. Die Distanz zwischen diesen beiden Knoten kann als optionaler Parameter `weight` übergeben werden."
   ]
  },
  {
   "cell_type": "markdown",
   "metadata": {},
   "source": [
    "---\n",
    "### Bestimmen der kürzesten Routen\n",
    "Sie können aus dem Graphen jene Route bestimmen die am wenigsten Zwischenstopps hat. Die Anzahl der Stopps hängt stark nicht-linear von der Reichweite des Fahrzeugs ab.\n",
    "\n",
    "Machen Sie sich hierzu mit der [Dokumentation von `networkx`](https://networkx.org/documentation/stable/reference/algorithms/shortest_paths.html) vertraut, um die richtigen Funktionen zu finden.  \n",
    "Überlegen Sie sich ob für diese Anwendung die Gewichtung des Graphen bei der Pfadsuche berücksichtigt werden soll, oder nicht. Implementieren Sie zum Testen beide Varianten.\n",
    "\n",
    "Wir wollen für den ersten Test die kürzeste Route von Malaga nach Moskau bestimmen."
   ]
  },
  {
   "cell_type": "code",
   "execution_count": 129,
   "metadata": {},
   "outputs": [
    {
     "name": "stdout",
     "output_type": "stream",
     "text": [
      "Ungewichteter Pfad: [Die Stadt Malaga ist bei 36.72016 und -4.42034, Die Stadt Lorca ist bei 37.67119 und -1.7017, Die Stadt Castello de la Plana ist bei 39.98567 und -0.04935, Die Stadt Vic ist bei 41.93012 und 2.25486, Die Stadt Salon-de-Provence ist bei 43.64229 und 5.09478, Die Stadt Aosta ist bei 45.73764 und 7.31722, Die Stadt Ravensburg ist bei 47.78198 und 9.61062, Die Stadt Passau ist bei 48.5665 und 13.43122, Die Stadt Prostejov ist bei 49.47188 und 17.11184, Die Stadt Kielce ist bei 50.87033 und 20.62752, Die Stadt Kobryn ist bei 52.21173 und 24.3563, Die Stadt Minsk ist bei 53.9 und 27.56667, Die Stadt Vitebsk ist bei 55.1904 und 30.2049, Die Stadt Rzhev ist bei 56.26289 und 34.3289, Die Stadt Moscow ist bei 55.75222 und 37.61556]\n",
      "Es werden 15 Stationen (inkl. Start & Ende) angefahren und 14 Zwischenstopps eingelegt.\n",
      "Gewichteter Pfad: [Die Stadt Malaga ist bei 36.72016 und -4.42034, Die Stadt Campina ist bei 38.21896 und -2.98069, Die Stadt Albacete ist bei 38.99424 und -1.85643, Die Stadt Tortosa ist bei 40.81249 und 0.5216, Die Stadt Perpignan ist bei 42.69764 und 2.89541, Die Stadt Orange ist bei 44.13806 und 4.81025, Die Stadt Aosta ist bei 45.73764 und 7.31722, Die Stadt Feldkirch ist bei 47.23306 und 9.6, Die Stadt Pasing ist bei 48.14146 und 11.45599, Die Stadt Deggendorf ist bei 48.84085 und 12.96068, Die Stadt Pardubice ist bei 50.04075 und 15.77659, Die Stadt Belchatow ist bei 51.36883 und 19.35671, Die Stadt Minsk Mazowiecki ist bei 52.17935 und 21.57251, Die Stadt Volkovysk ist bei 53.1561 und 24.4513, Die Stadt Minsk ist bei 53.9 und 27.56667, Die Stadt Orsha ist bei 54.5081 und 30.4172, Die Stadt Vyaz'ma ist bei 55.20997 und 34.29695, Die Stadt Moscow ist bei 55.75222 und 37.61556]\n",
      "Es werden 18 Stationen (inkl. Start & Ende) angefahren und eine Distanz von 1891.29 km zurückgelegt.\n"
     ]
    }
   ],
   "source": [
    "route_start = City(\"Malaga\", 36.72016, -4.42034)\n",
    "route_end = City('Moscow', 55.75222, 37.61556)\n",
    "\n",
    "if route_start not in graph.nodes or route_end not in graph.nodes:\n",
    "    raise ValueError(\"Start- oder Zielstadt ist nicht im Graph enthalten. Bitte überprüfen!\")\n",
    "\n",
    "path_unweighted = nx.shortest_path(graph, source=route_start, target=route_end)\n",
    "path_unweighted_length = len(path_unweighted) - 1  \n",
    "\n",
    "path_weighted = nx.shortest_path(graph, source=route_start, target=route_end, weight='weight')\n",
    "path_weighted_length = sum(\n",
    "    graph.edges[path_weighted[i], path_weighted[i + 1]]['weight']\n",
    "    for i in range(len(path_weighted) - 1)\n",
    ")\n",
    "\n",
    "\n",
    "print(\"Ungewichteter Pfad:\", path_unweighted)\n",
    "print(f\"Es werden {len(path_unweighted)} Stationen (inkl. Start & Ende) angefahren und {path_unweighted_length} Zwischenstopps eingelegt.\")\n",
    "\n",
    "print(\"Gewichteter Pfad:\", path_weighted)\n",
    "print(f\"Es werden {len(path_weighted)} Stationen (inkl. Start & Ende) angefahren und eine Distanz von {path_weighted_length:.2f} km zurückgelegt.\")\n"
   ]
  },
  {
   "cell_type": "markdown",
   "metadata": {},
   "source": [
    "---\n",
    "Sie haben sicherlich bemerkt, dass für den ungewichteten Fall die Pfadlänge nur der Anzahl an gefahrenen Etappen entspricht.  \n",
    "Nutzen Sie die hier definierte Hilfsfunktion\n",
    "```Python\n",
    "def get_length_from_path(path: list[City]) -> float:\n",
    "```\n",
    "Um die tatsächliche Distanz der Route zu bestimmen führen Sie die Zelle dazu davor aus, um die Funktion zu definieren und oben verwenden zu können."
   ]
  },
  {
   "cell_type": "code",
   "execution_count": 130,
   "metadata": {},
   "outputs": [],
   "source": [
    "def get_length_from_path(path: list[City]) -> float:\n",
    "    length = 0.0\n",
    "    for start, end in zip(path, path[1:]):\n",
    "        length += graph[start][end]['weight']\n",
    "    return length\n",
    "\n",
    "##bis hier hin gelöst"
   ]
  },
  {
   "cell_type": "markdown",
   "metadata": {},
   "source": [
    "---\n",
    "### Bestimmen sie die Pfade für die zufällig ausgewählten Zielstädte\n",
    "\n",
    "In Ihrere Logistikfirma ist jedoch natürlich nicht im vorhinein bekannt, welche Städte angefahren werden müssen.  \n",
    "Wir bestimmen also 5 zufällige Städte aus unserem Datensatz und bestimmen für diese die kürzeste Route vom Startpunkt Innsbruck."
   ]
  },
  {
   "cell_type": "code",
   "execution_count": 44,
   "metadata": {},
   "outputs": [
    {
     "name": "stdout",
     "output_type": "stream",
     "text": [
      "[Die Stadt Suceava ist bei 47.63333 und 26.25, Die Stadt Ozerki ist bei 60.03947 und 30.31128, Die Stadt Horishni Plavni ist bei 49.00835 und 33.62926, Die Stadt Bergedorf ist bei 53.48462 und 10.22904, Die Stadt Langenfeld ist bei 51.10821 und 6.94831]\n"
     ]
    }
   ],
   "source": [
    "import sys, random\n",
    "\n",
    "# Speichern des Seed des Random Generators um wieder die selben Zufallszahlen zu erhalten\n",
    "seed = random.randrange(sys.maxsize)\n",
    "random.seed(seed)\n",
    "random_goals = [random.choice(list(graph.nodes)) for _ in range(5)]\n",
    "\n",
    "print(random_goals) #Die Musterausgabe unten wird natürlich höchstwahrscheinlich nicht mit Ihrer Ausgabe übereinstimmen"
   ]
  },
  {
   "cell_type": "markdown",
   "metadata": {},
   "source": [
    "Iterieren Sie durch alle Zielstädte (`random_goals`) und bestimmen Sie den kürzesten Weg.  \n",
    "Behandeln Sie auch den Ausnahmefall, dass keine Route gefunden werden kann. Die Dokumentation von `networkx` gibt Ihnen dabei an, welche `Exception` in diesem Fall geworfen wird."
   ]
  },
  {
   "cell_type": "code",
   "execution_count": 43,
   "metadata": {},
   "outputs": [
    {
     "ename": "SyntaxError",
     "evalue": "invalid syntax (3165487845.py, line 8)",
     "output_type": "error",
     "traceback": [
      "\u001b[0;36m  Cell \u001b[0;32mIn[43], line 8\u001b[0;36m\u001b[0m\n\u001b[0;31m    path_weighted =\u001b[0m\n\u001b[0m                   ^\u001b[0m\n\u001b[0;31mSyntaxError\u001b[0m\u001b[0;31m:\u001b[0m invalid syntax\n"
     ]
    }
   ],
   "source": [
    "innsbruck = City(\"Innsbruck\", 47.26266, 11.39454)\n",
    "\n",
    "my_paths = []\n",
    "for current_goal in random_goals:\n",
    "    # Lösung hier einfügen\n",
    "    # Achten Sie auf das Exception-Handling, falls keine mögliche Route gefunden wird!\n",
    "    \n",
    "    path_weighted =\n",
    "    path_weighted_length =\n",
    "\n",
    "    # Ende der Lösung\n",
    "    print(F\"Pfad von {innsbruck} nach {current_goal} gefunden --> {path_weighted_length} km lang in {len(path_weighted)} Stationen\")\n",
    "    my_paths.append(path_weighted)\n"
   ]
  },
  {
   "cell_type": "markdown",
   "metadata": {},
   "source": [
    "---\n",
    "### Wir wollen nun unsere Routen auf einer Karte visualisieren\n",
    "Dazu soll das Modul `plotly` verwendet werden. Dieses muss, ähnlich wie `networkx` zuvor, erst installiert werden."
   ]
  },
  {
   "cell_type": "markdown",
   "metadata": {},
   "source": [
    "Es wird eine eigenen Colormap erstellt, welche jede Route in einer anderen Farbe darstellt."
   ]
  },
  {
   "cell_type": "code",
   "execution_count": 42,
   "metadata": {},
   "outputs": [],
   "source": [
    "import matplotlib.pyplot as plt\n",
    "import matplotlib.colors\n",
    "\n",
    "def my_color_map(n) -> str:\n",
    "    color = plt.cm.tab20(n % 20)\n",
    "    return matplotlib.colors.to_hex(color)\n",
    "\n"
   ]
  },
  {
   "cell_type": "markdown",
   "metadata": {},
   "source": [
    "Hier werden für Sie bereits Funktionen definiert, mit denen eine Liste an Städten auf einer Karte visualisiert werden kann.  \n",
    "Ebenseo kann eine Liste an Pfaden (entspricht einer Liste an Listen an Städten) auf einer Karte visualisiert werden.\n",
    "\n",
    "Beachten Sie, dass es faktisch nicht möglich ist mit diesen Funktionen alle Kanten des Graphen zu visualisieren, auch wenn dies natürlich sehr spannend wäre. Der dadurch entstehende Output ist schlicht zu groß um stabil in einem Juptyer Notebook dargestellt werden zu können."
   ]
  },
  {
   "cell_type": "code",
   "execution_count": 13,
   "metadata": {},
   "outputs": [
    {
     "ename": "ModuleNotFoundError",
     "evalue": "No module named 'plotly'",
     "output_type": "error",
     "traceback": [
      "\u001b[0;31m---------------------------------------------------------------------------\u001b[0m",
      "\u001b[0;31mModuleNotFoundError\u001b[0m                       Traceback (most recent call last)",
      "Cell \u001b[0;32mIn[13], line 1\u001b[0m\n\u001b[0;32m----> 1\u001b[0m \u001b[38;5;28;01mimport\u001b[39;00m \u001b[38;5;21;01mplotly\u001b[39;00m\u001b[38;5;21;01m.\u001b[39;00m\u001b[38;5;21;01mgraph_objects\u001b[39;00m \u001b[38;5;28;01mas\u001b[39;00m \u001b[38;5;21;01mgo\u001b[39;00m\n",
      "\u001b[0;31mModuleNotFoundError\u001b[0m: No module named 'plotly'"
     ]
    }
   ],
   "source": [
    "\n"
   ]
  },
  {
   "cell_type": "markdown",
   "metadata": {},
   "source": [
    "### Erstellen der `plotly`-Figure\n",
    "Hier wird die `plotly`-Figure erstellt, welche die Karte mit den Routen darstellt."
   ]
  },
  {
   "cell_type": "code",
   "execution_count": 44,
   "metadata": {},
   "outputs": [
    {
     "ename": "NameError",
     "evalue": "name 'go' is not defined",
     "output_type": "error",
     "traceback": [
      "\u001b[0;31m---------------------------------------------------------------------------\u001b[0m",
      "\u001b[0;31mNameError\u001b[0m                                 Traceback (most recent call last)",
      "Cell \u001b[0;32mIn[44], line 1\u001b[0m\n\u001b[0;32m----> 1\u001b[0m fig \u001b[38;5;241m=\u001b[39m \u001b[43mgo\u001b[49m\u001b[38;5;241m.\u001b[39mFigure()\n\u001b[1;32m      3\u001b[0m \u001b[38;5;66;03m# Lösung\u001b[39;00m\n\u001b[1;32m      4\u001b[0m \u001b[38;5;66;03m# Fügen Sie die richtigen Funktionsargumente ein\u001b[39;00m\n\u001b[1;32m      6\u001b[0m plot_cities(fig, graph\u001b[38;5;241m.\u001b[39mnodes)\n",
      "\u001b[0;31mNameError\u001b[0m: name 'go' is not defined"
     ]
    }
   ],
   "source": [
    "fig = go.Figure()\n",
    "\n",
    "# Lösung\n",
    "# Fügen Sie die richtigen Funktionsargumente ein\n",
    "\n",
    "plot_cities(fig, graph.nodes)\n",
    "plot_paths(fig, my_paths)\n",
    "\n",
    "# Ende der Lösung\n",
    "\n",
    "fig.update_layout(\n",
    "    height = 600,\n",
    "    margin = {\"r\":0,\"t\":0,\"l\":0,\"b\":0},\n",
    "    showlegend = False,\n",
    "    geo = dict(\n",
    "        center=dict(\n",
    "            lat=51.0057,\n",
    "            lon=13.7274\n",
    "        ),\n",
    "        lataxis_range=[30, 75],\n",
    "        lonaxis_range=[-20, 70],\n",
    "        showcountries=True,\n",
    "        projection_scale=1.5\n",
    "    )\n",
    ")\n",
    "fig.show()"
   ]
  },
  {
   "cell_type": "markdown",
   "metadata": {},
   "source": [
    "---\n",
    "### Wiederholung für andere Reichweiten\n",
    "Wiederholen Sie die Schritte für andere, selbstgewählte Reichweiten.  \n",
    "Um die gleichen zufälligen Ziele zu verwenden, können Sie die Zelle mit der Zufallsauswahl erneut ausführen. Um besser nachvollziehen zu können was gerade passiert sehen Sie unten noch die Ausgabe einer möglichen Implementierung.\n",
    "\n",
    "Tipp: Speichern Sie alle benötigten Outputs in einen DataFrame um die anschließende Visualisierung zu vereinfachen. Sie können aber auch eine andere Datenstruktur wählen."
   ]
  },
  {
   "cell_type": "code",
   "execution_count": null,
   "metadata": {},
   "outputs": [],
   "source": [
    "travel_ranges = [150, 200, 300, 400] #die hier angegebenen Reichweiten sind nur ein Vorschlag, Sie können auch andere Werte verwenden\n",
    "output_data = []\n",
    "\n",
    "for travel_range in travel_ranges:\n",
    "    graph.remove_edges_from(list(graph.edges())) # alle Kanten entfernen und in der Lösung wieder für die aktuelle travel_range hinzufügen\n",
    "\n",
    "    # Lösung hier einfügen\n",
    "\n",
    "    # Ende der Lösung\n",
    "\n",
    "output_df = pd.DataFrame(output_data)\n",
    "\n",
    "# Der Output der unten ausgegeben wird ist wieder nur ein Beispiel, Sie können auch andere Werte erhalten bzw. müssen nichts ausgeben"
   ]
  },
  {
   "cell_type": "markdown",
   "metadata": {},
   "source": [
    "---\n",
    "### DataFrame mit Output Daten\n",
    "So könnte Ihr DataFrame beispielsweise aussehen. Sie können Ihre Daten für die Visualisierung auch anders strukturieren, dies it nur eine mögliche Variante."
   ]
  },
  {
   "cell_type": "code",
   "execution_count": null,
   "metadata": {},
   "outputs": [],
   "source": [
    "display(output_df)"
   ]
  },
  {
   "cell_type": "markdown",
   "metadata": {},
   "source": [
    "---\n",
    "### Visualisierung der Ergebnisse für die unterschiedlichen Routen\n",
    "Wir wollen uns mit Hilfe von Boxplots ansehen, wie sich die Anzahl der Stopps und die zurückgelegte Distanz für die unterschiedlichen Reichweiten verhält.  \n",
    "Sie können dabei z.B. direkt die `boxplot(...)`-Methode Ihres DataFrames verwenden."
   ]
  },
  {
   "cell_type": "code",
   "execution_count": null,
   "metadata": {},
   "outputs": [],
   "source": [
    "# Lösung hier einfügen\n",
    "# Die Boxplots müssen nicht identisch sein, sollen aber die gleiche Art an Informationen beinhalten"
   ]
  },
  {
   "cell_type": "markdown",
   "metadata": {},
   "source": [
    "### Visualisierung der Ergebnisse für unterschiedliche Reichweiten\n",
    "Es wird jeweils der Mittelwert an Stopps bzw. der Mittelwert der zurückgelegten Distanz für die 5 zufälligen Ziele visualisert."
   ]
  },
  {
   "cell_type": "code",
   "execution_count": null,
   "metadata": {},
   "outputs": [],
   "source": [
    "# Lösung hier einfügen\n",
    "# Die Plots müssen nicht identisch sein, sollen aber die gleiche Art an Informationen beinhalten\n"
   ]
  }
 ],
 "metadata": {
  "kernelspec": {
   "display_name": "Python 3",
   "language": "python",
   "name": "python3"
  },
  "language_info": {
   "codemirror_mode": {
    "name": "ipython",
    "version": 3
   },
   "file_extension": ".py",
   "mimetype": "text/x-python",
   "name": "python",
   "nbconvert_exporter": "python",
   "pygments_lexer": "ipython3",
   "version": "3.12.7"
  },
  "orig_nbformat": 4
 },
 "nbformat": 4,
 "nbformat_minor": 2
}
