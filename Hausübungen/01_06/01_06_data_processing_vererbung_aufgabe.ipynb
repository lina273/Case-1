{
 "cells": [
  {
   "attachments": {},
   "cell_type": "markdown",
   "metadata": {},
   "source": [
    "<table style=\"width: 100%\">\n",
    "    <tr style=\"background: #ffffff\">\n",
    "        <td style=\"padding-top:25px; width: 180px\">\n",
    "            <img src=\"https://mci.edu/templates/mci/images/logo.svg\" alt=\"Logo\">\n",
    "        </td>\n",
    "        <td style=\"width: 100%\">\n",
    "            <div style=\"width: 100%; text-align:right\"><font style=\"font-size:38px\"><b>Softwaredesign</b></font></div>\n",
    "            <div style=\"padding-top:0px; width: 100%; text-align:right\"><font size=\"4\"><b>WS 2023</b></font></div>\n",
    "        </td>\n",
    "    </tr>\n",
    "</table>\n",
    "\n",
    "---\n",
    "\n",
    "# 01_06_Python Grundlagen - Klassehierarchie zur Datenverarbeitung\n",
    "\n",
    "Basierend auf dem Gründgerüst der letzen Hausübung, soll nun eine sinnvolle Klassenhierarchie erstellt werden.\n",
    "\n",
    "Es konnte festgestellt werden, dass die Klasse `MovingAverageProcessor` und `RMSEProcessor` sehr ähnlich sind. Beide Klassen operieren auf `DataContainer`-Objekten, und haben die gleichen Methoden. Abgesehen von der Art der Verarbeitung unterscheiden sie sich in der Anzahl an `DataContainer`-Objekten die sie verarbeiten und in der Tatsache ob ein `DataContainer`-Objekt zurückgegeben wird oder nicht.\n",
    "\n",
    "Um Redundanz zu vermeiden, soll eine gemeinsame Oberklasse `DataProcessor` erstellt werden, die die gemeinsamen Methoden und Attribute der beiden Klassen enthält. Weiters soll die Klasse `DataProcessorTerminal` erstellt werden die von `DataProcessor` erbt.  \n",
    "Die Idee dieser Struktur ist es eine eine **Datenpipline** zu definieren. Ein `DataContainer`-Objekt wird durch eine Reihe von `DataProcessor`-Objekten geschickt, die es verarbeiten und das Ergebnis an das nächste `DataProcessor`-Objekt weitergeben. Der letzte `DataProcessor` in der Kette gibt das Ergebnis zurück.  \n",
    "Die Klasse `DataProcessorTerminal` stellt hierbei üblicherweise den Endpunkt der Kette dar, da sie aus zwei `DataContainer`-Objekten ein Ergebnis berechnet welches nicht weiterverarbeitet werden kann.\n",
    "\n",
    "## Aufgabenstellung\n",
    "Es sollen nun die Klassen `DataProcessor`, `DataProcessorTerminal`, `MovingAverageProcessor` und `RMSEProcessor` anhand dieses Klassendiagramms implementiert werden.  \n",
    "Beachten Sie dabei folgende Punkte:\n",
    "- `DataProcessor` soll eine abstrakte Klasse sein &rarr; in Pyhton durch erben von `ABC` und nutzen des `@abstractmethod`-Dekorators realisierbar\n",
    "- `DataProcessorTerminal` soll ebenfalls eine abstrakte Klasse sein\n",
    "- Integrieren Sie die bestehenden Klassen `MovingAverageProcessor` und `RMSEProcessor` in die neue Klassenhierarchie\n",
    "- Erstellen Sie die neue Klasse `MAPEProcessor` die den [*Mean Absolute Percentage Error*](https://en.wikipedia.org/wiki/Mean_absolute_percentage_error) berechnet\n",
    "\n",
    "![](https://mermaid.ink/img/pako:eNqtk1FrgzAQx79KyFO7tV9AiiDrHoWy7mkI5WZOF2YSSc6WzfW7L7W1kE4HQvOUnP-7n_9LruW5Ecgjnlfg3FpCaUFlOtPdma2BYGNNjs4Zy9pMM79Wq-TdkYWc4vgceWT1WTQ7JTwZDSQ12jkLjg-9uETa1eBBSGhncx8_jiBf0SqpoZqMXoToG0Zq9lKXyR4tlHiFtX1FqYkdpBbmsHPyG6d4HLF4Khn8wUu6ff4LLioDxKxyOMncGLQrFxpPNqNYBfX9seEDWi5_4uELHlQOX9ON9PpEupSgr_8qg1bwBVf-K0jhR6HrS8bpAxVmPPJbAfYz496S10FDZvulcx6RbXDBm1oA4WVyeFRA5XwUhSRj08tsGV3I0ufWoN-M6VXHX0GvOYY?type=png)\n",
    "\n",
    "<!-- \n",
    "classDiagram\n",
    "\n",
    "class DataProcessor {\n",
    "    <<Abstract>>\n",
    "    + process(DataConatiner) DataConatiner*\n",
    "    + get_parameter()*\n",
    "}\n",
    "\n",
    "class DataProcessorTerminal {\n",
    "    <<Abstract>>\n",
    "    + process(DataConatiner, DataConatiner)*\n",
    "}\n",
    "\n",
    "class MovingAverageProcessor{\n",
    "    + int window_size\n",
    "    + process(DataConatiner) DataConatiner\n",
    "    + get_parameter() int\n",
    "}\n",
    "\n",
    "class RMSEProcessor{\n",
    "    + float rmse\n",
    "    + process(DataConatiner, DataConatiner)\n",
    "    + get_parameter() float\n",
    "}\n",
    "\n",
    "class MAPEProcessor{\n",
    "    + float mape\n",
    "    + process(DataConatiner, DataConatiner)\n",
    "    + get_parameter() float\n",
    "}\n",
    "\n",
    "DataProcessor --|> DataProcessorTerminal\n",
    "DataProcessor --|> MovingAverageProcessor\n",
    "DataProcessorTerminal --|> RMSEProcessor\n",
    "DataProcessorTerminal --|> MAPEProcessor\n",
    "-->"
   ]
  },
  {
   "cell_type": "markdown",
   "metadata": {},
   "source": [
    "### Notwendige imports"
   ]
  },
  {
   "cell_type": "code",
   "execution_count": 35,
   "metadata": {},
   "outputs": [],
   "source": [
    "import math\n",
    "from typing import List, Tuple\n",
    "from abc import ABC, abstractmethod\n",
    "\n",
    "import numpy as np\n",
    "import matplotlib.pyplot as plt"
   ]
  },
  {
   "cell_type": "markdown",
   "metadata": {},
   "source": [
    "### Definition der `DataContainer` Klasse\n",
    "\n",
    "Die Klasse ist ident zu jener aus der letzten Hausübung und wird später für das Testen der Funktionalität benötigt"
   ]
  },
  {
   "cell_type": "code",
   "execution_count": 36,
   "metadata": {},
   "outputs": [],
   "source": [
    "class DataContainer():\n",
    "\n",
    "    # Konstruktor der Klasse DataContainer\n",
    "    def __init__(self, x_data: List[float] = [], y_data: List[float] = []) -> None:\n",
    "        self.x_data = x_data\n",
    "        self.y_data = y_data\n",
    "\n",
    "        #Exception werfen wenn Daten nicht gleich lang\n",
    "        if len(self.x_data) != len(self.y_data):\n",
    "            raise ValueError(\"x_data and y_data must have the same length\")\n",
    "    \n",
    "    def get_x_data(self) -> List[float]:\n",
    "        return self.x_data\n",
    "    \n",
    "    def get_y_data(self) -> List[float]:\n",
    "        return self.y_data\n",
    "\n",
    "    def set_x_data(self, x_data: List[float]) -> None:\n",
    "        self.x_data = x_data\n",
    "\n",
    "    def set_y_data(self, y_data: List[float]) -> None:\n",
    "        self.y_data = y_data\n",
    "\n",
    "    def get_x_mean(self) -> float:\n",
    "        return sum(self.x_data) / len(self.x_data)\n",
    "\n",
    "    def get_y_mean(self) -> float:\n",
    "        return sum(self.y_data) / len(self.y_data)\n",
    "\n",
    "    # Methode um die Daten zu plotten --> wird in einer späteren Einheit behandelt\n",
    "    def plot(self) -> None:\n",
    "        plt.plot(self.x_data, self.y_data, marker=\"o\")\n",
    "        plt.xlabel('x')\n",
    "        plt.ylabel('y')\n",
    "\n",
    "        # Hack to get the name of the instance variable for plotting --> should not be used in practice\n",
    "        plt.title([k for k,v in globals().items() if v is self][0])        \n",
    "\n",
    "        plt.show()"
   ]
  },
  {
   "cell_type": "markdown",
   "metadata": {},
   "source": [
    "### Definition der `DataContainerProcessor` und `DataProcessorTerminal` Klassen\n",
    "\n",
    "Die Klassen sind abstract und sind nach oben angeführtem Klassendiagramm zu implementieren."
   ]
  },
  {
   "cell_type": "code",
   "execution_count": 37,
   "metadata": {},
   "outputs": [],
   "source": [
    "#Lösung hier einfügen:\n",
    "class DataProcessor(ABC):\n",
    "    #implementieren Sie die Klasse fertig\n",
    "    pass\n",
    "\n",
    "class DataProcessorTerminal(DataProcessor):\n",
    "    #implementieren Sie die Klasse fertig\n",
    "    pass"
   ]
  },
  {
   "cell_type": "markdown",
   "metadata": {},
   "source": [
    "### Klassen zur Datenverarbeitung\n",
    "\n",
    "Es sollen die Klassen `MovingAverageProcessor` und `RMSEProcessor` im Kontext der Klassenhierarchie implementiert werden."
   ]
  },
  {
   "cell_type": "code",
   "execution_count": 38,
   "metadata": {},
   "outputs": [],
   "source": [
    "#Lösung hier einfügen:\n",
    "class MovingAverageProcessor(DataProcessor):\n",
    "    #Übertragen Sie Ihre Implementierung in diese vererbte Klasse\n",
    "    pass"
   ]
  },
  {
   "cell_type": "code",
   "execution_count": 39,
   "metadata": {},
   "outputs": [],
   "source": [
    "#Lösung hier einfügen:\n",
    "class RMSEProcessor(DataProcessorTerminal):\n",
    "    #Übertragen Sie Ihre Implementierung in diese vererbte Klasse\n",
    "    pass"
   ]
  },
  {
   "cell_type": "markdown",
   "metadata": {},
   "source": [
    "### Testen der Implementierung\n",
    "\n",
    "Es ist ein `DataContainer`-Objekt gegeben, welches mit einer Instanz von `MovingAverageProcessor` (mit `window_size = 3`) und `RMSEProcessor` verarbeitet werden soll.  \n",
    "Als finales Ergebnis ist nur der RMSE-Wert zwischen originalen Daten und den gefilterten Daten von Interesse. Es sollen also keine Zwischenergebnisse gespeichert werden."
   ]
  },
  {
   "cell_type": "code",
   "execution_count": 40,
   "metadata": {},
   "outputs": [
    {
     "name": "stdout",
     "output_type": "stream",
     "text": [
      "RMSE: 0.9020282498226838\n"
     ]
    }
   ],
   "source": [
    "x_data = np.linspace(0, 10, 100)\n",
    "y_data = 2 * x_data + 1 + np.random.normal(0, 1, 100)\n",
    "almost_lin_data = DataContainer(x_data, y_data)\n",
    "\n",
    "# Processing pipeline of Moving Average Filter --> RMSE\n",
    "ma_proc_3 = MovingAverageProcessor(3)\n",
    "rmse_proc = RMSEProcessor()\n",
    "\n",
    "#Lösung hier einfügen:\n"
   ]
  },
  {
   "cell_type": "markdown",
   "metadata": {},
   "source": [
    "### Implementierungen der neuen Klasse `MAPEProcessor`\n",
    "\n",
    "Es soll nun die `MAPEProcessor`-Klasse implementiert werden, die den *Mean Absolute Percentage Error* berechnet."
   ]
  },
  {
   "cell_type": "code",
   "execution_count": 41,
   "metadata": {},
   "outputs": [],
   "source": [
    "class MAPEProcessor(DataProcessorTerminal):\n",
    "    #Implementieren Sie die Klasse fertig\n",
    "    pass"
   ]
  },
  {
   "cell_type": "markdown",
   "metadata": {},
   "source": [
    "### Testen der Implementierung\n",
    "\n",
    "Es soll die selbe Datenpipeline wie zuvor erstellt werden, jedoch soll nun der RMSE-Wert zwischen den originalen und den gefilterten Daten durch den MAPE-Wert ersetzt werden.  \n",
    "Da sowohl der `MAPEProcessor` als auch der `RMSEProcessor` von `DataProcessorTerminal` erben, kann die Datenpipeline einfach umgestellt werden, ohne dass hier Änderungen notwendig sind."
   ]
  },
  {
   "cell_type": "code",
   "execution_count": 42,
   "metadata": {},
   "outputs": [
    {
     "name": "stdout",
     "output_type": "stream",
     "text": [
      "MAPE: -18.724002983824285\n"
     ]
    }
   ],
   "source": [
    "mape_proc = MAPEProcessor()\n",
    "\n",
    "# Processing pipeline of Moving Average Filter --> RMSE\n",
    "mape_proc.process(almost_lin_data, ma_proc_3.process(almost_lin_data))\n",
    "print(f\"MAPE: {mape_proc.get_parameter()}\")"
   ]
  },
  {
   "cell_type": "markdown",
   "metadata": {},
   "source": [
    "### Sinnvolles Handling der Datenpipeline\n",
    "\n",
    "Um die Datenpipeline sinnvoll zu handhaben, soll eine Funktion `process_pipeline()` implementiert werden, die eine Liste von `DataProcessor`-Objekten entgegennimmt und weiter verarbeitet. Die Liste an `DataProcessor`-Objekten soll in der Reihenfolge der Liste abgearbeitet werden, wobei das letzte Element vom Typ `DataProcessorTerminal` sein muss.\n",
    "\n",
    "Die Funktion soll daher die Liste abarbeiten und das Ergebnis der `get_parameter`-Methode des letzten Elements zurückgeben."
   ]
  },
  {
   "cell_type": "code",
   "execution_count": 43,
   "metadata": {},
   "outputs": [],
   "source": [
    "def process_pipeline(pipeline: List[DataProcessor], data: DataContainer, data2: DataContainer = None):\n",
    "    #Implementieren Sie die Funktion fertig\n",
    "    pass"
   ]
  },
  {
   "cell_type": "markdown",
   "metadata": {},
   "source": [
    "### Testen Sie die `process_pipeline()`-Funktion"
   ]
  },
  {
   "cell_type": "code",
   "execution_count": 45,
   "metadata": {},
   "outputs": [
    {
     "name": "stdout",
     "output_type": "stream",
     "text": [
      "RMSE: 0.9020282498226838\n",
      "MAPE: 9.978958490231816\n"
     ]
    }
   ],
   "source": [
    "pipline = [ma_proc_3, rmse_proc]\n",
    "rmse_value = process_pipeline(pipline, almost_lin_data, almost_lin_data)\n",
    "print(f\"RMSE: {rmse_value}\")\n",
    "\n",
    "pipline[-1] = mape_proc\n",
    "mape_value = process_pipeline(pipline, almost_lin_data, almost_lin_data)\n",
    "print(f\"MAPE: {mape_value}\")"
   ]
  }
 ],
 "metadata": {
  "kernelspec": {
   "display_name": "Python 3.8.8 ('base')",
   "language": "python",
   "name": "python3"
  },
  "language_info": {
   "codemirror_mode": {
    "name": "ipython",
    "version": 3
   },
   "file_extension": ".py",
   "mimetype": "text/x-python",
   "name": "python",
   "nbconvert_exporter": "python",
   "pygments_lexer": "ipython3",
   "version": "3.11.3"
  },
  "orig_nbformat": 4,
  "vscode": {
   "interpreter": {
    "hash": "91b5df634ae01e052c095f84ce6ac57f1bf815a7c386b368c11e7051e1049005"
   }
  }
 },
 "nbformat": 4,
 "nbformat_minor": 2
}
