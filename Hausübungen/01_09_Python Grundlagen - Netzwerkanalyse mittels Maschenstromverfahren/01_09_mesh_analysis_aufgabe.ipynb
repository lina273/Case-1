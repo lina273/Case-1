{
 "cells": [
  {
   "attachments": {},
   "cell_type": "markdown",
   "metadata": {},
   "source": [
    "<table style=\"width: 100%\">\n",
    "    <tr style=\"background: #ffffff\">\n",
    "        <td style=\"padding-top:25px; width: 180px\">\n",
    "            <img src=\"https://mci.edu/templates/mci/images/logo.svg\" alt=\"Logo\">\n",
    "        </td>\n",
    "        <td style=\"width: 100%\">\n",
    "            <div style=\"width: 100%; text-align:right\"><font style=\"font-size:38px\"><b>Softwaredesign</b></font></div>\n",
    "            <div style=\"padding-top:0px; width: 100%; text-align:right\"><font size=\"4\"><b>WS 2023</b></font></div>\n",
    "        </td>\n",
    "    </tr>\n",
    "</table>\n",
    "\n",
    "---\n",
    "\n",
    "# Netzwerkanalyse einer elektrischen Schaltung mit dem Maschenstromverfahren\n",
    "\n",
    "Mit Hilfe des Maschenstromverfahrens können die Ströme in einem elektrischen Netzwerk berechnet werden. Das Verfahren basiert auf der Anwendung des Kirchhoff'schen Maschengesetzes auf die einzelnen Maschen des Netzwerks. \n",
    "\n",
    "Im allgemeinen wird das Maschenstromverfahren in folgenden Schritten angewendet:\n",
    "1. Aufstellen der Maschengleichungen\n",
    "2. Aufstellen der Knotengleichungen\n",
    "3. Bilden eines Gleichungssystems\n",
    "4. Identifizieren von etwaigen linear abhängigen Gleichungen\n",
    "5. Linear abhägnige Gleichungen eliminieren\n",
    "6. Lösen des Gleichungssystems\n",
    "\n",
    "Das Gleichungssystem hat hierbei allgemein die Form:\n",
    "\n",
    "$\\boldsymbol{Z} \\, \\vec{I} = \\vec{U}$\n",
    "\n",
    "wobei $\\boldsymbol{Z}$ für die Matrix an Maschenimpedanzen, $\\vec{I}$ für den Spaltenvektor der Maschenströme und $\\vec{U}$ für den Spaltenvektor der Maschenspannungen steht.\n",
    "\n",
    "Bei einer reinen Betrachtung unter Gleichspannung vereinfacht sich die Matrix $\\boldsymbol{Z}$ zur Matrix der frequenzunabhängigen Maschenwiderstände $\\boldsymbol{R}$ und das Gleichungssystem hat die Form:\n",
    "\n",
    "$\\boldsymbol{R} \\, \\vec{I} = \\vec{U}$\n",
    "\n",
    "Das Lösen solch eines Gleichungssystems kann händisch erfolgen, ist jedoch bei komplexeren Schaltungen sehr aufwendig. Daher soll im Folgenden ein Programm entwickelt werden, welches die Berechnung der Maschenströme automatisiert.\n",
    "\n",
    "Da ein lineares Gleichungssystem gelöst werden soll, bietet sich natürlich die Verwendung der Bibliothek `numpy` an."
   ]
  },
  {
   "cell_type": "code",
   "execution_count": 40,
   "metadata": {},
   "outputs": [],
   "source": [
    "import numpy as np"
   ]
  },
  {
   "attachments": {},
   "cell_type": "markdown",
   "metadata": {},
   "source": [
    "### 1. & 2. Aufstellen der Maschen- & Knotengleichungen\n",
    "\n",
    "Für die Schaltung in folgender Abbildung können laut den Kirchhoff'schen Regeln folgende Maschen- und Knotengleichungen aufgestellt werden:\n",
    "\n",
    "<img style=\"background-color:white; padding:10px; width:40%\" src=\"mesh_analysis_circuit.png\"></img>\n",
    "\n",
    "$\\text{M1}: U_{R_2} + U_{R_5} + U_5 - U_{R_4} = 0$\n",
    "\n",
    "$\\text{M2}: U_{R_1} - U_{R_3} - U_5 - U_{R_5} = 0$\n",
    "\n",
    "$\\text{M3}: U_{R_4} + U_{R_3} - U_{R_0} - U_0 = 0$\n",
    "\n",
    "$\\text{K1}:  I_2 - I_1 - I_5 = 0$\n",
    "\n",
    "$\\text{K2}:  I_4 + I_5 - I_3 = 0$\n",
    "\n",
    "$\\text{K3}:  I_0 + I_1 + I_3 = 0$\n",
    "\n",
    "$\\text{K4}: -I_0 - I_2 - I_4 = 0$\n",
    "\n",
    "Nun müssen noch die bekannten Größen der Schaltung $R_0$ bis $R_5$, $U_0$ und $U_5$ definiert werden."
   ]
  },
  {
   "cell_type": "code",
   "execution_count": 45,
   "metadata": {},
   "outputs": [],
   "source": [
    "#Paramter\n",
    "R0 = 100 #in Ohm\n",
    "R1 = 120 #in Ohm\n",
    "R2 = 220 #in Ohm\n",
    "R3 = 330 #in Ohm\n",
    "R4 = 470 #in Ohm\n",
    "R5 = 560 #in Ohm\n",
    "U0 =  5  #in V\n",
    "U5 = 10  #in V"
   ]
  },
  {
   "attachments": {},
   "cell_type": "markdown",
   "metadata": {},
   "source": [
    "### 3. Bilden eines Gleichungssystems\n",
    "\n",
    "Aus den Maschen- und Knotengleichungen und den bekannten Parametern kann nun das Gleichugnssystem $\\boldsymbol{R} \\, \\vec{I} = \\vec{U}$ aufgestellt werden.\n",
    "\n",
    "Hierbei muss beachtet werden, dass die Maschenströme $I_0$ bis $I_5$ und die Maschenspannungen $U_0$ bis $U_5$ in der gleichen Reihenfolge in den Vektoren $\\vec{I}$ und $\\vec{U}$ auftreten, wie sie in den Maschen- und Knotengleichungen aufgeführt sind.\n",
    "Ebenso gilt hier natürlich der Zusammenhang $U_{R_i} = R_i \\, I_i$."
   ]
  },
  {
   "cell_type": "code",
   "execution_count": 54,
   "metadata": {},
   "outputs": [
    {
     "name": "stdout",
     "output_type": "stream",
     "text": [
      "(6, 6)\n"
     ]
    }
   ],
   "source": [
    "# Lösung einfügen...\n",
    "\n",
    "R_Matrix = np.array([\n",
    "    [R2 + R5 + R4, -R4, 0, 0, 0, -R5],   \n",
    "    [-R4, R1 + R3 + R4, -R3, 0, 0, -R5],  \n",
    "    [0, -R3, R0 + R3, 0, 0, 0],           \n",
    "    [0, 0, 0, 1, 0, 1],                   \n",
    "    [0, 0, 0, -1, -1, 0],                 \n",
    "    [0, 1, 0, 0, -1, 0]                    \n",
    "])\n",
    "\n",
    "\n",
    "U = np.array([U5, 0, -U0, 0, 0, 0])  \n",
    "print(R_Matrix.shape)\n"
   ]
  },
  {
   "attachments": {},
   "cell_type": "markdown",
   "metadata": {},
   "source": [
    "### 4. & 5. Identifizieren und eliminieren von linear abhängigen Gleichungen\n",
    "\n",
    "In unserer Schaltung liegen 6 unbekannte Ströme vor ($I_0$ bis $I_5$) daher muss unser Gleichungssystem 6 Gleichungen enthalten. Da wir jedoch 7 Gleichungen aufgestellt haben, muss eine der Gleichungen linear abhängig sein.\n",
    "Dies kann auch aus der Anzahl an Zeilen und Spalten der Matrix $\\boldsymbol{R}$ (`R.shape`) bzw. an deren Rang (`np.linalg.matrix_rank(R)`) erkannt werden.\n",
    "\n",
    "Bei genauerem Betrachten der Knotengleichungn fällt auf, dass die Knotengleichung K4 die negative Summe der Knotengleichungen K1, K2 und K3 ist. Daher kann die Gleichung K4 eliminiert werden. Im `numpy` array `R` und im Vektor `U` kann dies mit der Funktion `np.delete(...)` erfolgen."
   ]
  },
  {
   "cell_type": "code",
   "execution_count": 63,
   "metadata": {},
   "outputs": [
    {
     "name": "stdout",
     "output_type": "stream",
     "text": [
      "R_Matrix:\n",
      "[[1250 -470    0    0    0 -560]\n",
      " [-470  920 -330    0    0 -560]\n",
      " [   0 -330  430    0    0    0]\n",
      " [   0    0    0    1    0    1]\n",
      " [   0    0    0   -1   -1    0]]\n",
      "[10  0 -5  0  0]\n"
     ]
    }
   ],
   "source": [
    "R_Matrix_eliminate = np.delete(R_Matrix, -1, axis=0)  \n",
    "U_eliminate = np.delete(U, -1, axis=0)                \n",
    "\n",
    "\n",
    "print(\"R_Matrix:\")\n",
    "print(R_Matrix_eliminate)\n",
    "print(U_eliminate)\n"
   ]
  },
  {
   "attachments": {},
   "cell_type": "markdown",
   "metadata": {},
   "source": [
    "### 6. Lösen des Gleichungssystems\n",
    "\n",
    "Das Gleichungssystem kann nun mit Hilfe der Funktion `numpy.linalg.solve()` gelöst werden."
   ]
  },
  {
   "cell_type": "code",
   "execution_count": 65,
   "metadata": {},
   "outputs": [
    {
     "name": "stdout",
     "output_type": "stream",
     "text": [
      "[ 0.00822678  0.00027522 -0.01141669 -0.00027522  0.00027522  0.00027522]\n"
     ]
    }
   ],
   "source": [
    "# Lösung einfügen...\n",
    "I = np.linalg.solve(R_Matrix, U)\n",
    "\n",
    "\n",
    "print(I)\n",
    "\n",
    "#Die Ergenisse stimmen auch nach langem Probieren nicht überein und ich weiß nicht weiter...."
   ]
  },
  {
   "cell_type": "markdown",
   "metadata": {},
   "source": [
    "Das Ergbnis für die Ströme sollte in diesem Fall der Vektor `[-0.015282    0.0181537   0.00587889 -0.0028717   0.00940311 -0.01227481]` sein.\n",
    "\n",
    "Dies setzt voraus, dass die Reihenfolge der Ströme & Spannungen konsistent mit den Maschen- und Knotengleichungen gewählt wurde."
   ]
  },
  {
   "cell_type": "code",
   "execution_count": null,
   "metadata": {},
   "outputs": [],
   "source": [
    "#Für überbestimmte Gleichungssysteme kann auch eine Lösung im Sinne der kleinsten Quadrate berechnet werden\n",
    "\n",
    "#Hier müssen die originalen Werte für R und U eingesetzt werden\n",
    "# R_orig und U_orig sind die Matritzen/Vektoren bevor die linear abhängige Zeile entfernt wurde\n",
    "I_lsq = np.linalg.lstsq(R_orig, U_orig, rcond=None)[0]\n",
    "print(I_lsq)\n",
    "\n",
    "#Diese Lösung ist aber für den aktuellen Fall nicht besonders genau!\n",
    "relative_error = 1 - (I / I_lsq)\n",
    "print(F\"Relative error of the LSQ solution:\\n{relative_error}\")"
   ]
  },
  {
   "cell_type": "markdown",
   "metadata": {},
   "source": [
    "Hier sollte ein relativ großer Fehler von `[-0.47036898  0.02452364  0.25125603  0.30772249  0.17076191 -0.07440576]` für die jeweiligen Strömme auftreten, da sich überbestimmte Gleichungssystem nicht exakt lösen lassen.\n",
    "\n",
    "Die hier gewählte Variante der Näherungslösung ist in diesem Fall suboptimal."
   ]
  },
  {
   "attachments": {},
   "cell_type": "markdown",
   "metadata": {},
   "source": [
    "Weiters können nun auch die Spannugnsabfälle über die Widerstände $R_0$ bis $R_5$ berechnet werden.\n",
    "\n",
    "Hierzu wird eine neue Diagonalmatrix aufgestellt, welche die Widerstände $R_0$ bis $R_5$ auf der Hauptdiagonalen enthält. Diese Matrix wird mit dem Vektor der Maschenströme multipliziert und es ergibt sich der Vektor der Spannungsabfälle $\\vec{U}_R$.\n",
    "\n",
    "$\n",
    "\\begin{bmatrix}\n",
    "    R_0 & 0 & 0 & 0 & 0 & 0 \\\\\n",
    "    0 & R_1 & 0 & 0 & 0 & 0 \\\\\n",
    "    0 & 0 & R_2 & 0 & 0 & 0 \\\\\n",
    "    0 & 0 & 0 & R_3 & 0 & 0 \\\\\n",
    "    0 & 0 & 0 & 0 & R_4 & 0 \\\\\n",
    "    0 & 0 & 0 & 0 & 0 & R_5 \\\\\n",
    "\\end{bmatrix}\n",
    "\\vec{I} = \\vec{U}_R\n",
    "$\n",
    "\n",
    "Um sich hier möglichst viel Tipparbeit zu sparen kann die Funktion `np.diag(...)` verwendet werden."
   ]
  },
  {
   "cell_type": "code",
   "execution_count": 62,
   "metadata": {},
   "outputs": [
    {
     "name": "stdout",
     "output_type": "stream",
     "text": [
      "[ 0.8226782   0.0330265  -2.51167202 -0.09082288  0.12935379  0.15412367]\n"
     ]
    }
   ],
   "source": [
    "# Lösung einfügen...\n",
    "\n",
    "diagonal = np.diag([R0, R1, R2, R3, R4, R5])\n",
    "U_R = diagonal @I\n",
    "\n",
    "print(U_R)"
   ]
  },
  {
   "attachments": {},
   "cell_type": "markdown",
   "metadata": {},
   "source": [
    "### Für Interessierte: LTSpice-Simulation der Schaltung aus Python heraus\n",
    "\n",
    "Falls Sie an weiteren Anwendungen von Python in Kombination mit anderen Softwarepaketen interessiert sind, können Sie sich gerne mit den folgenden Themen beschäftigen.\n",
    "\n",
    "Um komplexere Schaltungen zu simulieren werden üblicherweise Simulationsprogramme wie beispielsweise [LTSpice](https://de.wikipedia.org/wiki/LTspice) verwendet.\n",
    "Python bietet aber auch die Möglichkeit über das `PyLTSpice` package LTSpice-Simulationen zu starten, und die Ergebnisse auszuwerten. Hier können auch zuvor im Python-Code Werte und Paramter gesetzt werden, welche dann in der Simulation verwendet werden.\n",
    "\n",
    "Hierfür muss lokal sowohl [LTSpice](https://www.analog.com/en/design-center/design-tools-and-calculators/ltspice-simulator.html) als auch das `PyLTSpice` package installiert werden. Die Installation von `PyLTSpice` erfolgt wie gewohnt über den Befehl `pip install PyLTSpice`."
   ]
  },
  {
   "cell_type": "code",
   "execution_count": 134,
   "metadata": {},
   "outputs": [],
   "source": [
    "from PyLTSpice import SimRunner, SpiceEditor, RawRead"
   ]
  },
  {
   "attachments": {},
   "cell_type": "markdown",
   "metadata": {},
   "source": [
    "Es kann ein Template für die LTSpice-Simulation erstellt werden (`mesh_analysis_ltspice.asc`), dessen Parameter dann in Python gesetzt bzw. verändert werden können."
   ]
  },
  {
   "cell_type": "code",
   "execution_count": 135,
   "metadata": {},
   "outputs": [],
   "source": [
    "runner = SimRunner(output_folder='./')\n",
    "\n",
    "netlist = SpiceEditor(\"mesh_analysis_ltspice.asc\") #Create the .net list for the simulation from the *.asc file\n",
    "netlist_name = netlist.netlist_file.name\n",
    "\n",
    "netlist.set_component_value('R0', str(R0))\n",
    "netlist.set_component_value('R1', str(R1))\n",
    "netlist.set_component_value('R2', str(R2))\n",
    "netlist.set_component_value('R3', str(R3))\n",
    "netlist.set_component_value('R4', str(R4))\n",
    "netlist.set_component_value('R5', str(R5))\n",
    "\n",
    "#voltages are labeled with V in LTSpice\n",
    "netlist.set_component_value('V0', str(U0))\n",
    "netlist.set_component_value('V5', str(U5))\n",
    "\n",
    "netlist.add_instructions(\".op\") #DC operating point analysis"
   ]
  },
  {
   "attachments": {},
   "cell_type": "markdown",
   "metadata": {},
   "source": [
    "Sobald die Schaltungsbeschreibung in Form der `netlist` erstellt wurde, kann diese mit Hilfe der Funktion `run_now(...)` ausgeführt werden."
   ]
  },
  {
   "cell_type": "code",
   "execution_count": null,
   "metadata": {},
   "outputs": [],
   "source": [
    "raw_file, log_file = runner.run_now(netlist, run_filename=netlist_name)\n",
    "runner.wait_completion()"
   ]
  },
  {
   "attachments": {},
   "cell_type": "markdown",
   "metadata": {},
   "source": [
    "Sobald die Simulation abgeschlossen ist, können die Ergebnisse aus der `*.raw`-Datei ausgelesen werden. Im Fall der \"DC operating point analysis\" werden die Spannungen und Ströme für den definierten DC-Fall betrachtet. Diese können über ihren Namen mit Hilfe der Funktion `get_trace(...)` ausgelesen werden."
   ]
  },
  {
   "cell_type": "code",
   "execution_count": null,
   "metadata": {},
   "outputs": [],
   "source": [
    "raw = RawRead(raw_file)\n",
    "\n",
    "#extract results with the specified names\n",
    "names = ['I(R0)', 'I(R1)', 'I(R2)', 'I(R3)', 'I(R4)', 'I(R5)']\n",
    "currents = []\n",
    "for i, name in enumerate(names):\n",
    "    currents.append(raw.get_trace(name))\n",
    "\n",
    "I_ltspice = np.array(currents).ravel()\n",
    "print(I_ltspice)"
   ]
  },
  {
   "attachments": {},
   "cell_type": "markdown",
   "metadata": {},
   "source": [
    "Um zu vergleichen wie genau die Ergebnisse von LTSpice und unserer Lösung mittels Maschenstromverfahren wirklich sind, wird der relative Fehler zwischen beiden Größen bestimmt. \n",
    "\n",
    "Hierfür muss jedoch darauf geachtet werden, dass für das Maschenstromverfahren die Vorzeichen der Ströme von der eingezeichneten Richtung abhängen. Bei den Ergebnissen in LTSpice hängen diese vom definierten Massepotenzial ab, und sind damit nicht zwangsläufig ident zu jenen des Maschenstromverfahrens"
   ]
  },
  {
   "cell_type": "code",
   "execution_count": null,
   "metadata": {},
   "outputs": [],
   "source": [
    "relative_error_ltspice = 1 - (abs(I) / abs(I_ltspice))\n",
    "print(F\"Relative error of the LTSpice simulation:\\n{relative_error_ltspice}\")"
   ]
  }
 ],
 "metadata": {
  "kernelspec": {
   "display_name": "Python 3",
   "language": "python",
   "name": "python3"
  },
  "language_info": {
   "codemirror_mode": {
    "name": "ipython",
    "version": 3
   },
   "file_extension": ".py",
   "mimetype": "text/x-python",
   "name": "python",
   "nbconvert_exporter": "python",
   "pygments_lexer": "ipython3",
   "version": "3.12.7"
  },
  "orig_nbformat": 4
 },
 "nbformat": 4,
 "nbformat_minor": 2
}
