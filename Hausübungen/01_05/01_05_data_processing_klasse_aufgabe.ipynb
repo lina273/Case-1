{
 "cells": [
  {
   "attachments": {},
   "cell_type": "markdown",
   "metadata": {},
   "source": [
    "<table style=\"width: 100%\">\n",
    "    <tr style=\"background: #ffffff\">\n",
    "        <td style=\"padding-top:25px; width: 180px\">\n",
    "            <img src=\"https://mci.edu/templates/mci/images/logo.svg\" alt=\"Logo\">\n",
    "        </td>\n",
    "        <td style=\"width: 100%\">\n",
    "            <div style=\"width: 100%; text-align:right\"><font style=\"font-size:38px\"><b>Softwaredesign</b></font></div>\n",
    "            <div style=\"padding-top:0px; width: 100%; text-align:right\"><font size=\"4\"><b>WS 2023</b></font></div>\n",
    "        </td>\n",
    "    </tr>\n",
    "</table>\n",
    "\n",
    "---\n",
    "\n",
    "# 01_05_Python Grundlagen - Klasse zur Datenverarbeitung\n",
    "\n",
    "Für Sie ist das Grundgerüst einer Klasse `DataContainer` vorgegeben in der (eindimensionale) Daten, z.B. Zeitreihen, gespeichert werden können.\n",
    "Diese Klasse enthält einige hilfreiche Methoden, um die Daten beispielsweise zu plotten.\n",
    "\n",
    "Ihre Aufgabe ist es nun zwei weitere eigene Klassen zu schreiben die mit diesen `DataContainer` Objekten interagieren können.\n",
    "Zum einen soll eine Klasse `MovingAverageProcessor` und eine Klasse `RMSEProcessor` geschrieben werden.\n"
   ]
  },
  {
   "cell_type": "markdown",
   "metadata": {},
   "source": [
    "### Notwendige imports"
   ]
  },
  {
   "cell_type": "code",
   "execution_count": null,
   "metadata": {},
   "outputs": [],
   "source": [
    "import math\n",
    "from typing import List, Tuple\n",
    "\n",
    "import numpy as np\n",
    "import matplotlib.pyplot as plt\n"
   ]
  },
  {
   "cell_type": "markdown",
   "metadata": {},
   "source": [
    "### Definition der `DataContainer` Klasse"
   ]
  },
  {
   "cell_type": "code",
   "execution_count": 50,
   "metadata": {},
   "outputs": [],
   "source": [
    "class DataContainer():\n",
    "\n",
    "    # Konstruktor der Klasse DataContainer\n",
    "    def __init__(self, x_data: List[float] = [], y_data: List[float] = []) -> None:\n",
    "        self.x_data = x_data\n",
    "        self.y_data = y_data\n",
    "\n",
    "        #Exception werfen wenn Daten nicht gleich lang\n",
    "        if len(self.x_data) != len(self.y_data):\n",
    "            raise ValueError(\"x_data and y_data must have the same length\")\n",
    "    \n",
    "    def get_x_data(self) -> List[float]:\n",
    "        return self.x_data\n",
    "    \n",
    "    def get_y_data(self) -> List[float]:\n",
    "        return self.y_data\n",
    "\n",
    "    def set_x_data(self, x_data: List[float]) -> None:\n",
    "        self.x_data = x_data\n",
    "\n",
    "    def set_y_data(self, y_data: List[float]) -> None:\n",
    "        self.y_data = y_data\n",
    "\n",
    "    def get_x_mean(self) -> float:\n",
    "        return sum(self.x_data) / len(self.x_data)\n",
    "\n",
    "    def get_y_mean(self) -> float:\n",
    "        return sum(self.y_data) / len(self.y_data)\n",
    "\n",
    "    # Methode um die Daten zu plotten --> wird in einer späteren Einheit behandelt\n",
    "    def plot(self) -> None:\n",
    "        plt.plot(self.x_data, self.y_data, marker=\"o\")\n",
    "        plt.xlabel('x')\n",
    "        plt.ylabel('y')\n",
    "\n",
    "        # Hack to get the name of the instance variable for plotting --> should not be used in practice\n",
    "        plt.title([k for k,v in globals().items() if v is self][0])        \n",
    "\n",
    "        plt.show()"
   ]
  },
  {
   "cell_type": "markdown",
   "metadata": {},
   "source": [
    "### Testen Sie die Klasse `DataContainer`\n",
    "\n",
    "Geben Sie dazu den Mittelwert für die x-Daten und y-Daten aus.  \n",
    "Plotten Sie die weiters die Daten."
   ]
  },
  {
   "cell_type": "code",
   "execution_count": null,
   "metadata": {},
   "outputs": [],
   "source": []
  },
  {
   "cell_type": "markdown",
   "metadata": {},
   "source": []
  },
  {
   "cell_type": "code",
   "execution_count": null,
   "metadata": {},
   "outputs": [
    {
     "name": "stdout",
     "output_type": "stream",
     "text": [
      "8.0\n",
      "81.73333333333333\n"
     ]
    }
   ],
   "source": [
    "test_data = DataContainer([1, 2, 3, 4, 5, 6, 7, 8, 9, 10, 11, 12, 13, 14, 15], [11, 19, 31, 47, 51, 63, 69, 89, 91, 104, 110, 119, 132, 139, 151])\n",
    "\n",
    "#Lösung hier einfügen: \n",
    "\n",
    "x_mean = test_data.get_x_mean()\n",
    "y_mean = test_data.get__ymean()\n",
    "\n",
    "print(x_mean)\n",
    "print(y_mean)\n",
    "\n",
    "\n"
   ]
  },
  {
   "cell_type": "markdown",
   "metadata": {},
   "source": [
    "### Klassen zur Datenverarbeitung\n",
    "\n",
    "Es sollen die Klassen `MovingAverageProcessor` und `RMSEProcessor` implementiert werden.\n",
    "\n",
    "Jede Klasse besitzt einen Konstruktor (`__init__()`), der die etwaig notwendigen Parameter für die Berechnung entgegennimmt.\n",
    "\n",
    "Beide Klassen besitzen eine `process()`-Methode die einen bzw. zwei `DataContainer`-Objekte als Argumente übergeben bekommen und auf diesen operieren.\n",
    "\n",
    "Die `get_parameter()`-Methode soll jeweils die Parameter zurückgeben, die für die Berechnung notwendig sind (bei der `MovingAverageProcessor`-Klasse) bzw. darin bestimmt werden (bei der `RMSEProcessor`-Klasse)."
   ]
  },
  {
   "cell_type": "code",
   "execution_count": 52,
   "metadata": {},
   "outputs": [],
   "source": [
    "class MovingAverageProcessor():\n",
    "\n",
    "    def __init__(self, window_size: int) -> None:\n",
    "        # Finish the implementation\n",
    "        self.window_size = window_size\n",
    "\n",
    "    def process(self, dc: DataContainer) -> DataContainer:\n",
    "        # Calculate the moving average of the y_data in the DataContainer dc and return a new DataContainer with the averaged data\n",
    "        averaged_y = []\n",
    "        y_data = dc.get_y_data()\n",
    "        \n",
    "        for current_index in range(1, len(y_data) + 1):\n",
    "            end = current_index\n",
    "            start = current_index - self.window_size\n",
    "            if start < 0:\n",
    "                start = 0\n",
    "            \n",
    "            \n",
    "            sub_list = y_data[start:end]\n",
    "            mov_avg = sum(sub_list) / len(sub_list)\n",
    "            averaged_y.append(mov_avg)\n",
    "\n",
    "        return DataContainer(dc.get_x_data(), averaged_y)\n",
    "\n",
    "    def get_parameter(self):\n",
    "        # Finish the implementation and the type hints\n",
    "        return self.window_size\n"
   ]
  },
  {
   "cell_type": "code",
   "execution_count": 53,
   "metadata": {},
   "outputs": [],
   "source": [
    "class RMSEProcessor():\n",
    "\n",
    "    def __init__(self) -> None:\n",
    "        # Finish the implementation\n",
    "        pass\n",
    "\n",
    "    def process(self, data_container_one: DataContainer, data_container_two: DataContainer) -> float:\n",
    "        # Calculate the RMSE for the two DataContainers\n",
    "        y_one = data_container_one.get_y_data()\n",
    "        y_two = data_container_two.get_y_data()\n",
    "\n",
    "        squared_differences = []\n",
    "        for i in range(len(y_one)):\n",
    "            difference = y_one[i] - y_two[i]\n",
    "            squared_differences.append(difference ** 2)\n",
    "\n",
    "        average_squared_error = sum(squared_differences) / len(y_one)\n",
    "        rmse = average_squared_error ** 0.5  # Quadratwurzel des Mittelwerts der quadrierten Fehler\n",
    "\n",
    "        return rmse\n",
    "\n",
    "    def get_parameter(self):\n",
    "        # Finish the implementation and the type hints\n",
    "        return None\n"
   ]
  },
  {
   "cell_type": "markdown",
   "metadata": {},
   "source": [
    "### Testen der Implementierungen\n",
    "\n",
    "Es sollen nun beide Implementierungen mit einem Beispiel getestet werden.\n",
    "\n",
    "Zuerst soll der `test_data` `DataContainer` von zu Beginn verwendet werden und mit einem `MovingAverageProcessor`-Objekt mit Fensterlänge `3` bearbeitet werden.  \n",
    "Speicher Sie die geglätteten Daten in einem neuen `DataContainer`-Objekt namens `processed_data`.\n",
    "\n",
    "Plotten Sie zum Vergleich die Rohdaten und die geglätteten Daten, sowie geben Sie die Mittelwerte für die y-Daten beider `DataContainer`-Objekte aus."
   ]
  },
  {
   "cell_type": "code",
   "execution_count": 54,
   "metadata": {},
   "outputs": [
    {
     "data": {
      "text/plain": [
       "[<matplotlib.lines.Line2D at 0x124f6eb40>]"
      ]
     },
     "execution_count": 54,
     "metadata": {},
     "output_type": "execute_result"
    },
    {
     "data": {
      "image/png": "[encoded data removed]",
      "text/plain": [
       "<Figure size 640x480 with 1 Axes>"
      ]
     },
     "metadata": {},
     "output_type": "display_data"
    }
   ],
   "source": [
    "#Lösung hier einfügen:\n",
    "import matplotlib.pyplot as plt\n",
    "\n",
    "moving_average_processor = MovingAverageProcessor(window_size=3)\n",
    "processed_data = moving_average_processor.process(test_data)\n",
    "figure,axes = plt.subplots() \n",
    "axes.plot(test_data.get_x_data(), test_data.get_y_data(), label=\"Rohdaten\")\n",
    "axes.plot(processed_data.get_x_data(), processed_data.get_y_data(), label=\"Geglättete Daten\")\n",
    "\n",
    "\n",
    "\n",
    "\n"
   ]
  },
  {
   "cell_type": "markdown",
   "metadata": {},
   "source": [
    "Bestimmen Sie nun den RMSE zwischen den Rohdaten und den geglätteten Daten mit Hilfe des `RMSEProcessor`-Objekts.\n",
    "Geben Sie den RMSE der Daten aus."
   ]
  },
  {
   "cell_type": "code",
   "execution_count": 55,
   "metadata": {},
   "outputs": [
    {
     "name": "stdout",
     "output_type": "stream",
     "text": [
      "9.673177883734507\n"
     ]
    }
   ],
   "source": [
    "\n",
    "rmse_processor = RMSEProcessor()\n",
    "rmse_value = rmse_processor.process(test_data, processed_data)\n",
    "print(rmse_value)\n",
    "\n",
    "#Bis hierhin habe ich die Aufgabe besten Gewissens alleine gelöst, jedoch bin ich mir mit meiner Lösung sehr unsicher. \n"
   ]
  },
  {
   "cell_type": "markdown",
   "metadata": {},
   "source": [
    "### Fragen\n",
    "\n",
    "1. Welche Ähnlichkeiten und Unterschiede gibt es zwischen den beiden Implementierungen?\n",
    "2. Welche Vorteile hat die Verwendung von Klassen in diesem Fall?\n",
    "3. Angenommen Sie müssten dieses System an Klassen zur Datenverarbeitung um weitere Funktionalitäten erweitern, wie würden Sie vorgehen?\n",
    "\n",
    "Beantworten Sie die Fragen in der folgenden Zelle.\n",
    "\n"
   ]
  }
 ],
 "metadata": {
  "kernelspec": {
   "display_name": "Python 3",
   "language": "python",
   "name": "python3"
  },
  "language_info": {
   "codemirror_mode": {
    "name": "ipython",
    "version": 3
   },
   "file_extension": ".py",
   "mimetype": "text/x-python",
   "name": "python",
   "nbconvert_exporter": "python",
   "pygments_lexer": "ipython3",
   "version": "3.12.7"
  },
  "orig_nbformat": 4
 },
 "nbformat": 4,
 "nbformat_minor": 2
}
