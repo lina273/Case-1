{
 "cells": [
  {
   "cell_type": "markdown",
   "metadata": {},
   "source": [
    "<table style=\"width: 100%\">\n",
    "    <tr style=\"background: #ffffff\">\n",
    "        <td style=\"padding-top:25px; width: 180px\">\n",
    "            <img src=\"https://mci.edu/templates/mci/images/logo.svg\" alt=\"Logo\">\n",
    "        </td>\n",
    "        <td style=\"width: 100%\">\n",
    "            <div style=\"width: 100%; text-align:right\"><font style=\"font-size:38px\"><b>Softwaredesign</b></font></div>\n",
    "            <div style=\"padding-top:0px; width: 100%; text-align:right\"><font size=\"4\"><b>WS 2023</b></font></div>\n",
    "        </td>\n",
    "    </tr>\n",
    "</table>\n",
    "\n",
    "---\n",
    "\n",
    "# Word Frequency Analysis\n",
    "\n",
    "Ziel dieser Aufgabe soll es sein eine Analyse der Worthäufigkeit in einem Text durchzuführen. Dies kann beispielsweise genutzt werden um ein erstes Indiz dafür zu bekommen ob zwei Texte von der selben Person geschrieben wurden.\n",
    "\n",
    "## Aufgabenstellung\n",
    "Implementieren Sie eine Klasse `WordCounter`, welche einen Pfad zu einer Textdatei als Konstruktor-Parameter erhält.  \n",
    "Die Klasse soll eine Methode `count_words(...)` bereitstellen, welche mittels Generator durch die Textdatei iteriert und für jedes Wort die Anzahl der Vorkommen in einem Dictionary speichert.  \n",
    "Weiters soll die Klasse noch folgende Methoden für die Ausgabe der Daten bereitstellen:\n",
    "- `get_all_word_freqs(...)` gibt eine Liste aller Wörter und deren Anzahl als `Tupel` zurück. Diese Liste soll nach Häufigkeit absteigend sortiert sein.\n",
    "- `get_top_n_words(...)` gibt eine absteigend sortierte Liste der `n` häufigsten Wörter und deren Häufigkeit als `Tupel` zurück.\n",
    "- `get_bottom_n_words(...)` gibt eine aufsteigend sortierte Liste der `n` seltensten Wörter und deren Häufigkeit als `Tupel` zurück.\n",
    "- `get_all_words(...)` gibt eine absteigend sortierte Liste aller Worte zurück.\n",
    "- `get_all_counts(...)` gibt eine absteigend sortierte Liste aller Anzahlen zurück.\n",
    "- `plot(...)` ermöglicht es, dass sich Instanzen der `WordCounter`-Klasse selbst plotten. Dies kann beispielsweise implementiert werden, indem die Methode eine `matplotlib.axes.Axes` entgegen nimmt.\n",
    "\n",
    "Die genaue Implementierung der Methoden ist Ihnen überlassen, es wird jedoch empfohlen die Methoden `get_all_words(...)` & `get_all_counts(...)` bzw. `get_top_n_words(...)` & `get_bottom_n_words(...)` mittels `get_all_word_freqs(...)` zu implementieren.  \n",
    "Besondere Rücksicht muss auf die Groß- und Kleinschreibung von Wörtern und etwaige Satzzeichen genommen werden.\n",
    "\n",
    "Bestimmen Sie die Worthäufigkeit für die im nächsten Punkt aufgeführten Texte und geben Sie die Ergebnisse aus.  \n",
    "Anschließend sollten Sie diese Ergebnisse in Form von z.B. Historgrammen visualisieren. Überlegen Sie sich hierbei wie eine sinnvolle Darstellung aussehen könnte.\n",
    "\n",
    "## Datensätze\n",
    "Für diese Beispiel werden Werke von Shakespeare verwendet, im Konkren sind das *The Tragedy of Macbeth*, *The Tragedy of Romeo and Juliet* und *The Tragedy of Hamlet* in englischer Sprache. Die Texte sind als `*.txt`-Datei in der Aufgabenstellung enthalten.  \n",
    "Diese stammen aus Project Gutenberg, und wurden aus der Datei https://ocw.mit.edu/ans7870/6/6.006/s08/lecturenotes/files/t8.shakespeare.txt extrahiert.\n",
    "\n",
    "Suchen Sie sich auch noch einen beliebigen Text in englischer Sprache, der nach den Werken von Shakespeare entstanden ist, und führen Sie die Analyse auch für diesen durch."
   ]
  },
  {
   "cell_type": "markdown",
   "metadata": {},
   "source": []
  },
  {
   "cell_type": "markdown",
   "metadata": {},
   "source": [
    "---\n",
    "## Beginn der Setup-Code-Blöcke"
   ]
  },
  {
   "cell_type": "code",
   "execution_count": 1,
   "metadata": {},
   "outputs": [],
   "source": [
    "import matplotlib.pyplot as plt"
   ]
  },
  {
   "cell_type": "markdown",
   "metadata": {},
   "source": [
    "---\n",
    "## Beispielimplementierung für einen Generator\n",
    "Sie können folgende Implementierung als Ausgangspunkt für Ihren Generator verwenden.  \n",
    "Sie könnten diesen Generator aber z.B. auch direkt als Parameter an den Klassen-Konstruktor übergeben und innerhalb der Klasse nutzen.\n",
    "\n",
    "Der Generator `read_string_by_line(...)` eignet sich dazu Ihre Implementierung zu testen an einem String zu testen, ohne dass Sie sich eine Textdatei erstellen müssen."
   ]
  },
  {
   "cell_type": "code",
   "execution_count": 12,
   "metadata": {},
   "outputs": [],
   "source": [
    "def read_file_by_line(file):\n",
    "    \"\"\"Generator to read a file object line by line\"\"\"\n",
    "    with open(file, 'r') as f:\n",
    "        while True:\n",
    "            data = f.readline()\n",
    "            if not data:\n",
    "                break\n",
    "            yield data\n",
    "\n",
    "def read_string_by_line(string):\n",
    "    \"\"\"\n",
    "    Generator to read a string line by line. This is useful for testing, because no file is needed.\n",
    "    \"\"\"\n",
    "    for line in string.split('\\n'):\n",
    "        yield line"
   ]
  },
  {
   "cell_type": "markdown",
   "metadata": {},
   "source": [
    "---\n",
    "## Implementierung `WordCounter`"
   ]
  },
  {
   "cell_type": "code",
   "execution_count": 13,
   "metadata": {},
   "outputs": [],
   "source": [
    "import matplotlib.pyplot as plt\n",
    "from collections import defaultdict\n",
    "\n",
    "class WordCounter:\n",
    "   \n",
    "    def __init__(self, source, generator):\n",
    "        self.word_counts = defaultdict(int)\n",
    "        self.source = source\n",
    "        self.generator = generator\n",
    "\n",
    "    def count_words(self):\n",
    "    \n",
    "        for line in self.generator(self.source):\n",
    "            cleaned_line = self.clean_line(line)\n",
    "            words = cleaned_line.split()\n",
    "            for word in words:\n",
    "                self.word_counts[word] += 1  \n",
    "    def clean_line(self, line):\n",
    "      \n",
    "        line = line.lower().strip()  \n",
    "        punctuation = \".,!?;:\\\"'()[]{}-\"\n",
    "        for char in punctuation:\n",
    "            line = line.replace(char, \"\") \n",
    "        return line\n",
    "\n",
    "    def get_sorted_word_freqs(self, reverse=True):\n",
    "        return sorted(self.word_counts.items(), key=lambda x: x[1], reverse=reverse)\n",
    "\n",
    "    def get_top_n(self, n):\n",
    "        return self.get_sorted_word_freqs()[:n]\n",
    "\n",
    "    def get_bottom_n(self, n):\n",
    "        return self.get_sorted_word_freqs(reverse=False)[:n]\n",
    "\n",
    "    def get_all_words(self):\n",
    "        return [word for word, _ in self.get_sorted_word_freqs()]\n",
    "\n",
    "    def get_all_counts(self):\n",
    "       return [count for _, count in self.get_sorted_word_freqs()]\n",
    "\n",
    "    def plot_word_frequencies(self, axis, start, end):\n",
    "        word_freqs = self.get_sorted_word_freqs()[start:end]\n",
    "        words, counts = zip(*word_freqs)\n",
    "        axis.bar(words, counts)\n",
    "        axis.set_xticklabels(words, rotation=45, ha=\"right\")\n",
    "        axis.set_title(\"Häufigkeit der Wörter\")\n",
    "        axis.set_xlabel(\"Wörter\")\n",
    "        axis.set_ylabel(\"Häufigkeit\")\n",
    "\n"
   ]
  },
  {
   "cell_type": "markdown",
   "metadata": {},
   "source": [
    "---\n",
    "## Musterlösung für eine Teststring"
   ]
  },
  {
   "cell_type": "code",
   "execution_count": 21,
   "metadata": {},
   "outputs": [
    {
     "name": "stdout",
     "output_type": "stream",
     "text": [
      "Alle Wortfrequenzen:\n",
      "[('zeilen', 3), ('mehreren', 2), ('wenig', 2), ('inhalt', 2), ('das', 1), ('ist', 1), ('ein', 1), ('teststring', 1), ('mit', 1), ('aber', 1), ('er', 1), ('enthält', 1), ('sinnvollen', 1), ('in', 1), ('diesen', 1), ('trotz', 1), ('des', 1), ('sinnvolen', 1), ('sind', 1), ('diese', 1), ('hilfreich', 1), ('zum', 1), ('testen', 1)]\n",
      "\n",
      "Top 3 häufigste Wörter:\n",
      "[('zeilen', 3), ('mehreren', 2), ('wenig', 2)]\n",
      "\n",
      "Top 3 seltenste Wörter:\n",
      "[('das', 1), ('ist', 1), ('ein', 1)]\n"
     ]
    }
   ],
   "source": [
    "text = \"Das ist ein Teststring\\\n",
    "               mit mehreren Zeilen.\\\n",
    "               Aber er enthält wenig sinnvollen Inhalt in diesen mehreren Zeilen.\\\n",
    "               Trotz des wenig sinnvolen Inhalt sind diese Zeilen hilfreich zum Testen.\"\n",
    "\n",
    "def split_text_into_lines(text):\n",
    "    for line in text.split('\\n'):\n",
    "        yield line.strip()\n",
    "\n",
    "word_counter = WordCounter(text, split_text_into_lines)\n",
    "word_counter.count_words()\n",
    "\n",
    "print(\"Alle Wortfrequenzen:\")\n",
    "print(word_counter.get_sorted_word_freqs())\n",
    "\n",
    "print(\"\\nTop 3 häufigste Wörter:\")\n",
    "print(word_counter.get_top_n(3))\n",
    "\n",
    "print(\"\\nTop 3 seltenste Wörter:\")\n",
    "print(word_counter.get_bottom_n(3))\n"
   ]
  },
  {
   "cell_type": "markdown",
   "metadata": {},
   "source": [
    "---\n",
    "## Anwendung der WordCounter-Klasse auf die Datensätze\n",
    "Die hier angegebenen Musterlösungen müssen nicht zwingend mit Ihrer Implementierung übereinstimmen. Dies kommt darauf an wie Sie die Bereinigung der originalen Textdateien durchführen.  \n",
    "Sie sollte aber als Möglichkeit zur Überprüfung dienen."
   ]
  },
  {
   "cell_type": "markdown",
   "metadata": {},
   "source": [
    "### \"The Tragedy of Macbeth\"\n",
    "Benutzen Sie hier ihre `WordCounter`-Klasse um die Worthäufigkeit für das Werk *The Tragedy of Macbeth* zu bestimmen."
   ]
  },
  {
   "cell_type": "code",
   "execution_count": 28,
   "metadata": {},
   "outputs": [],
   "source": [
    "def read_file_by_line(file):\n",
    "    with open(file, 'r', encoding='utf-8') as f:\n",
    "        while True:\n",
    "            line = f.readline()\n",
    "            if not line:\n",
    "                break\n",
    "            yield line"
   ]
  },
  {
   "cell_type": "markdown",
   "metadata": {},
   "source": [
    "Geben Sie hier den Output in einzlenen Listen aus."
   ]
  },
  {
   "cell_type": "code",
   "execution_count": 30,
   "metadata": {},
   "outputs": [
    {
     "ename": "AttributeError",
     "evalue": "'WordCounter' object has no attribute 'get_top_n_words'",
     "output_type": "error",
     "traceback": [
      "\u001b[0;31m---------------------------------------------------------------------------\u001b[0m",
      "\u001b[0;31mAttributeError\u001b[0m                            Traceback (most recent call last)",
      "Cell \u001b[0;32mIn[30], line 3\u001b[0m\n\u001b[1;32m      1\u001b[0m macbeth_counter \u001b[38;5;241m=\u001b[39m WordCounter(\u001b[38;5;124m\"\u001b[39m\u001b[38;5;124mthe_tragedy_of_macbeth.txt\u001b[39m\u001b[38;5;124m\"\u001b[39m, read_file_by_line)\n\u001b[1;32m      2\u001b[0m macbeth_counter\u001b[38;5;241m.\u001b[39mcount_words()\n\u001b[0;32m----> 3\u001b[0m \u001b[38;5;28mprint\u001b[39m(\u001b[43mmacbeth_counter\u001b[49m\u001b[38;5;241;43m.\u001b[39;49m\u001b[43mget_top_n_words\u001b[49m(\u001b[38;5;241m10\u001b[39m))\n\u001b[1;32m      4\u001b[0m \u001b[38;5;28mprint\u001b[39m(macbeth_counter\u001b[38;5;241m.\u001b[39mget_bottom_n_words(\u001b[38;5;241m10\u001b[39m))\n",
      "\u001b[0;31mAttributeError\u001b[0m: 'WordCounter' object has no attribute 'get_top_n_words'"
     ]
    }
   ],
   "source": [
    "macbeth_counter = WordCounter(\"the_tragedy_of_macbeth.txt\", read_file_by_line)\n",
    "macbeth_counter.count_words()\n",
    "print(macbeth_counter.get_top_n_words(10))\n",
    "print(macbeth_counter.get_bottom_n_words(10))"
   ]
  },
  {
   "cell_type": "markdown",
   "metadata": {},
   "source": [
    "### \"The Tragedy of Rome and Juliet\"\n",
    "Benutzen Sie hier ihre `WordCounter`-Klasse um die Worthäufigkeit für das Werk *The Tragedy of Romeo and Juliet* zu bestimmen."
   ]
  },
  {
   "cell_type": "markdown",
   "metadata": {},
   "source": [
    "### Visualisierung der Ergebnisse\n",
    "Visualisieren Sie die Ergebnisse der Worthäufigkeit für die drei Werke von Shakespeare.  \n",
    "Hier ist eine sehr simple, beispielhafte Visualisierung für zwei der Werke gegeben. Dies soll von Ihnen nicht nachgebaut werden, sondern nur als Anregung dienen um sich eine bessere/sinnvollere Visualisierung zu überlegen."
   ]
  },
  {
   "cell_type": "markdown",
   "metadata": {},
   "source": [
    "### Visualisierung der Ergebnisse\n",
    "Visualisieren Sie die Ergebnisse der Worthäufigkeit für die drei Werke von Shakespeare.  \n",
    "Hier ist eine sehr simple, beispielhafte Visualisierung für zwei der Werke gegeben. Dies soll von Ihnen nicht nachgebaut werden, sondern nur als Anregung dienen um sich eine bessere/sinnvollere Visualisierung zu überlegen."
   ]
  },
  {
   "cell_type": "code",
   "execution_count": null,
   "metadata": {},
   "outputs": [],
   "source": [
    "# Lösung einfügen\n",
    "def read_file_by_line(file):\n",
    "    with open(file, 'r', encoding='utf-8') as f:\n",
    "        while True:\n",
    "            line = f.readline()\n",
    "            if not line:\n",
    "                break\n",
    "            yield line"
   ]
  },
  {
   "cell_type": "markdown",
   "metadata": {},
   "source": [
    "Geben Sie hier den Output in einzlenen Listen aus."
   ]
  },
  {
   "cell_type": "code",
   "execution_count": 35,
   "metadata": {},
   "outputs": [
    {
     "ename": "AttributeError",
     "evalue": "'WordCounter' object has no attribute 'get_top_n_words'",
     "output_type": "error",
     "traceback": [
      "\u001b[0;31m---------------------------------------------------------------------------\u001b[0m",
      "\u001b[0;31mAttributeError\u001b[0m                            Traceback (most recent call last)",
      "Cell \u001b[0;32mIn[35], line 4\u001b[0m\n\u001b[1;32m      2\u001b[0m romeo_and_juliet_counter \u001b[38;5;241m=\u001b[39m WordCounter(\u001b[38;5;124m\"\u001b[39m\u001b[38;5;124mthe_tragedy_of_romeo_and_juliet.txt\u001b[39m\u001b[38;5;124m\"\u001b[39m, read_file_by_line)\n\u001b[1;32m      3\u001b[0m romeo_and_juliet_counter\u001b[38;5;241m.\u001b[39mcount_words()\n\u001b[0;32m----> 4\u001b[0m \u001b[38;5;28mprint\u001b[39m(\u001b[43mromeo_and_juliet_counter\u001b[49m\u001b[38;5;241;43m.\u001b[39;49m\u001b[43mget_top_n_words\u001b[49m(\u001b[38;5;241m10\u001b[39m))\n\u001b[1;32m      5\u001b[0m \u001b[38;5;28mprint\u001b[39m(romeo_and_juliet_counter\u001b[38;5;241m.\u001b[39mget_bottom_n_words(\u001b[38;5;241m10\u001b[39m))\n",
      "\u001b[0;31mAttributeError\u001b[0m: 'WordCounter' object has no attribute 'get_top_n_words'"
     ]
    }
   ],
   "source": [
    "# Lösung einfügen\n",
    "romeo_and_juliet_counter = WordCounter(\"the_tragedy_of_romeo_and_juliet.txt\", read_file_by_line)\n",
    "romeo_and_juliet_counter.count_words()\n",
    "print(romeo_and_juliet_counter.get_top_n_words(10))\n",
    "print(romeo_and_juliet_counter.get_bottom_n_words(10))"
   ]
  },
  {
   "cell_type": "markdown",
   "metadata": {},
   "source": [
    "### \"The Tragedy of Hamlet\"\n",
    "Benutzen Sie hier ihre `WordCounter`-Klasse um die Worthäufigkeit für das Werk *The Tragedy of Hamlet* zu bestimmen."
   ]
  },
  {
   "cell_type": "code",
   "execution_count": 33,
   "metadata": {},
   "outputs": [],
   "source": [
    "# Lösung einfügen\n",
    "def read_file_by_line(file):\n",
    "    with open(file, 'r', encoding='utf-8') as f:\n",
    "        while True:\n",
    "            line = f.readline()\n",
    "            if not line:\n",
    "                break\n",
    "            yield line"
   ]
  },
  {
   "cell_type": "markdown",
   "metadata": {},
   "source": [
    "Geben Sie hier den Output in einzlenen Listen aus."
   ]
  },
  {
   "cell_type": "code",
   "execution_count": 34,
   "metadata": {},
   "outputs": [
    {
     "ename": "AttributeError",
     "evalue": "'WordCounter' object has no attribute 'get_top_n_words'",
     "output_type": "error",
     "traceback": [
      "\u001b[0;31m---------------------------------------------------------------------------\u001b[0m",
      "\u001b[0;31mAttributeError\u001b[0m                            Traceback (most recent call last)",
      "Cell \u001b[0;32mIn[34], line 4\u001b[0m\n\u001b[1;32m      2\u001b[0m ham_counter \u001b[38;5;241m=\u001b[39m WordCounter(\u001b[38;5;124m\"\u001b[39m\u001b[38;5;124mthe_tragedy_of_hamlet.txt\u001b[39m\u001b[38;5;124m\"\u001b[39m, read_file_by_line)\n\u001b[1;32m      3\u001b[0m ham_counter\u001b[38;5;241m.\u001b[39mcount_words()\n\u001b[0;32m----> 4\u001b[0m \u001b[38;5;28mprint\u001b[39m(\u001b[43mham_counter\u001b[49m\u001b[38;5;241;43m.\u001b[39;49m\u001b[43mget_top_n_words\u001b[49m(\u001b[38;5;241m10\u001b[39m))\n\u001b[1;32m      5\u001b[0m \u001b[38;5;28mprint\u001b[39m(ham_counter\u001b[38;5;241m.\u001b[39mget_bottom_n_words(\u001b[38;5;241m10\u001b[39m))\n",
      "\u001b[0;31mAttributeError\u001b[0m: 'WordCounter' object has no attribute 'get_top_n_words'"
     ]
    }
   ],
   "source": [
    "# Lösung einfügen\n",
    "ham_counter = WordCounter(\"the_tragedy_of_hamlet.txt\", read_file_by_line)\n",
    "ham_counter.count_words()\n",
    "print(ham_counter.get_top_n_words(10))\n",
    "print(ham_counter.get_bottom_n_words(10))"
   ]
  },
  {
   "cell_type": "markdown",
   "metadata": {},
   "source": [
    "### Visualisierung der Ergebnisse\n",
    "Visualisieren Sie die Ergebnisse der Worthäufigkeit für die drei Werke von Shakespeare.  \n",
    "Hier ist eine sehr simple, beispielhafte Visualisierung für zwei der Werke gegeben. Dies soll von Ihnen nicht nachgebaut werden, sondern nur als Anregung dienen um sich eine bessere/sinnvollere Visualisierung zu überlegen."
   ]
  },
  {
   "cell_type": "code",
   "execution_count": 32,
   "metadata": {},
   "outputs": [
    {
     "data": {
      "image/png": "[encoded data removed]",
      "text/plain": [
       "<Figure size 1200x600 with 1 Axes>"
      ]
     },
     "metadata": {},
     "output_type": "display_data"
    }
   ],
   "source": [
    "import numpy as np\n",
    "import matplotlib.pyplot as plt\n",
    "\n",
    "def plot_colored_bar_chart(word_counter, title, top_n=20):\n",
    "    word_freqs = word_counter.get_top_n(top_n)\n",
    "    words, counts = zip(*word_freqs)\n",
    "    colors = plt.cm.viridis(np.linspace(0, 1, len(counts)))\n",
    "    \n",
    "    plt.figure(figsize=(12, 6))\n",
    "    plt.bar(words, counts, color=colors)\n",
    "    plt.xticks(rotation=45, ha=\"right\")\n",
    "    plt.title(title)\n",
    "    plt.xlabel(\"Wörter\")\n",
    "    plt.ylabel(\"Häufigkeit\")\n",
    "    plt.show()\n",
    "\n",
    "# Beispielhafte Verwendung\n",
    "plot_colored_bar_chart(word_counter, \"Top Wörter im Beispieltext\")\n",
    "\n"
   ]
  }
 ],
 "metadata": {
  "kernelspec": {
   "display_name": "Python 3",
   "language": "python",
   "name": "python3"
  },
  "language_info": {
   "codemirror_mode": {
    "name": "ipython",
    "version": 3
   },
   "file_extension": ".py",
   "mimetype": "text/x-python",
   "name": "python",
   "nbconvert_exporter": "python",
   "pygments_lexer": "ipython3",
   "version": "3.12.7"
  },
  "orig_nbformat": 4
 },
 "nbformat": 4,
 "nbformat_minor": 2
}
