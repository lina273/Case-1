{
 "cells": [
  {
   "attachments": {},
   "cell_type": "markdown",
   "metadata": {},
   "source": [
    "<table style=\"width: 100%\">\n",
    "    <tr style=\"background: #ffffff\">\n",
    "        <td style=\"padding-top:25px; width: 180px\">\n",
    "            <img src=\"https://mci.edu/templates/mci/images/logo.svg\" alt=\"Logo\">\n",
    "        </td>\n",
    "        <td style=\"width: 100%\">\n",
    "            <div style=\"width: 100%; text-align:right\"><font style=\"font-size:38px\"><b>Softwaredesign</b></font></div>\n",
    "            <div style=\"padding-top:0px; width: 100%; text-align:right\"><font size=\"4\"><b>WS 2023</b></font></div>\n",
    "        </td>\n",
    "    </tr>\n",
    "</table>\n",
    "\n",
    "---\n",
    "\n",
    "<!-- LaTeX preamble -->\n",
    "$$\\newcommand{\\mat}[1]{\\boldsymbol{#1}}$$\n",
    "\n",
    "# 01_07_Python Grundlagen - Polynomiale Regression zur Datenanalyse\n",
    "\n",
    "Basierend auf dem Gründgerüst der letzen Hausübungen, soll nun eine eine weitere abgeleitete Klasse `PolynomialFitProcessor` erstellt werden, die eine polynomiale Regression durchführt.\n",
    "Diese soll dabei von `DataProcessor` erben und wie gehbat die `process()` Methode überschreiben. Abhängig vom übergebenen `order` Parameter soll ein Polynom eben jenen Grades berechnet werden, das die Daten bestmöglich beschreibt. Die Koeffizienten des Polynoms sollen als `numpy array` im Attribut `p` gespeichert werden.  \n",
    "Der Rückgabewerte der `process()` Methode soll ein neues `DataContainer` Objekt sein, das die ursprünglichen X-Werte enthält, sowie die berechneten Werte des gefitteten Polynoms.\n",
    "\n",
    "Dieser Aufbau der Klasse macht sie universell einsetzbar und erlaubt es dem Nutzer, die Polynomordnung zur Laufzeit zu bestimmen bzw. mit der selben Klasse unterschiedliche Polynome zu fitten.\n",
    "\n",
    "Die resultierende Klassenhierarchie soll wie folgt aussehen:\n",
    "\n",
    "![](https://mermaid.ink/img/pako:eNqtVNFOwjAU_ZWmT6DDD1gICRF9W0LEJ51ZrttlNm5tc9tBEPl3uwGD6mZCQl_a3p2ec3bvbbc8VRnykKcFGDMTkBOUsYxls2czsDAnlaIxitg2lsyN8Xj6bixBaieTfeSW6T1oUB-4VxKskEhD5m1vjuAcbaLBCaFFGgzbeJI42iQZDJmbT0FCfRbd9bh7RiqFhOJil4HvsrZzphGplZD5dIUEObZi2yOjkJathczUOjHiCy9JR082akrPwVwVG6lKAcWjsN0OFGUnPqnvgAg2TF_Dja10ga9OJGiJ3zx7T9Hi4a-rZaHAMioNXpT7PhcNnV-X6bxXtgR9fVn_KoxG35Pu_utEdndRJ7S73L-gbbM3R7wS_Iv0ssYDXrqvIDJ3_5sUxtx-YIkxD90yA_qMuft7h4PKqsVGpjy0VGHAK52BxcNzwcMlFMZFMRNWUXR4UOop4Brki1JHzO4Hxz2NGg?type=png)\n",
    "\n",
    "<!-- \n",
    "classDiagram\n",
    "\n",
    "class DataProcessor {\n",
    "    <<Abstract>>\n",
    "    + process(DataConatiner) DataConatiner*\n",
    "    + get_parameter()*\n",
    "    + __str__() str\n",
    "    + __repr__() str\n",
    "}\n",
    "\n",
    "class DataProcessorTerminal {\n",
    "    <<Abstract>>\n",
    "    + process(DataConatiner, DataConatiner)*\n",
    "}\n",
    "\n",
    "class MovingAverageProcessor{\n",
    "    + int window_size\n",
    "    + process(DataConatiner) DataConatiner\n",
    "    + get_parameter() int\n",
    "}\n",
    "\n",
    "class PolynomialFitProcessor{\n",
    "    + int order\n",
    "    + np.array p\n",
    "    + process(DataConatiner) DataConatiner\n",
    "    + get_parameter() tuple[int, np.array]\n",
    "}\n",
    "\n",
    "class RMSEProcessor{\n",
    "    + float rmse\n",
    "    + process(DataConatiner, DataConatiner)\n",
    "    + get_parameter() float\n",
    "}\n",
    "\n",
    "class MAPEProcessor{\n",
    "    + float mape\n",
    "    + process(DataConatiner, DataConatiner)\n",
    "    + get_parameter() float\n",
    "}\n",
    "\n",
    "DataProcessor --|> DataProcessorTerminal\n",
    "DataProcessor --|> MovingAverageProcessor\n",
    "DataProcessor --|> PolynomialFitProcessor\n",
    "DataProcessorTerminal --|> RMSEProcessor\n",
    "DataProcessorTerminal --|> MAPEProcessor\n",
    "-->\n",
    "\n",
    "Die Bibliothek `numpy` kann bereits über die Funktionen `np.polyfit()` und `np.polyval()` Polynome fitten und berechnen. Wir wollen aber unsere Kenntnisse der linearen Algebra auffrischen und gleichzeitig den Umgang mit Matrizen in `numpy` üben. Deshalb soll die Berechnung des Polynoms in der `PolynomialFitProcessor` Klasse selbst implementiert werden, und nicht auf die `numpy` Funktionen zurückgegriffen werden."
   ]
  },
  {
   "cell_type": "markdown",
   "metadata": {},
   "source": [
    "### Notwendige imports"
   ]
  },
  {
   "cell_type": "code",
   "execution_count": 1,
   "metadata": {},
   "outputs": [],
   "source": [
    "import math\n",
    "from typing import List, Tuple\n",
    "from abc import ABC, abstractmethod\n",
    "\n",
    "import numpy as np\n",
    "import matplotlib.pyplot as plt"
   ]
  },
  {
   "cell_type": "markdown",
   "metadata": {},
   "source": [
    "### Definition der `DataContainer` Klasse\n",
    "\n",
    "Die Klasse ist ident zu jener aus der letzten Hausübung und wird später für das Testen der Funktionalität benötigt"
   ]
  },
  {
   "cell_type": "code",
   "execution_count": 8,
   "metadata": {},
   "outputs": [],
   "source": [
    "class DataContainer():\n",
    "\n",
    "    # Konstruktor der Klasse DataContainer\n",
    "    def __init__(self, x_data: List[float] = [], y_data: List[float] = []) -> None:\n",
    "        self.x_data = x_data\n",
    "        self.y_data = y_data\n",
    "\n",
    "        #Exception werfen wenn Daten nicht gleich lang\n",
    "        if len(self.x_data) != len(self.y_data):\n",
    "            raise ValueError(\"x_data and y_data must have the same length\")\n",
    "    \n",
    "    def get_x_data(self) -> List[float]:\n",
    "        return self.x_data\n",
    "    \n",
    "    def get_y_data(self) -> List[float]:\n",
    "        return self.y_data\n",
    "\n",
    "    def set_x_data(self, x_data: List[float]) -> None:\n",
    "        self.x_data = x_data\n",
    "\n",
    "    def set_y_data(self, y_data: List[float]) -> None:\n",
    "        self.y_data = y_data\n",
    "\n",
    "    def get_x_mean(self) -> float:\n",
    "        return sum(self.x_data) / len(self.x_data)\n",
    "\n",
    "    def get_y_mean(self) -> float:\n",
    "        return sum(self.y_data) / len(self.y_data)\n",
    "\n",
    "    # Methode um die Daten zu plotten --> wird in einer späteren Einheit behandelt\n",
    "    def plot(self) -> None:\n",
    "        plt.plot(self.x_data, self.y_data, marker=\"o\")\n",
    "        plt.xlabel('x')\n",
    "        plt.ylabel('y')\n",
    "\n",
    "        # Hack to get the name of the instance variable for plotting --> should not be used in practice\n",
    "        plt.title([k for k,v in globals().items() if v is self][0])        \n",
    "\n",
    "        plt.show()"
   ]
  },
  {
   "cell_type": "markdown",
   "metadata": {},
   "source": [
    "### Definition der `DataContainerProcessor` und `DataProcessorTerminal` Klassen\n",
    "\n",
    "Die Klassen sind abstract und sind nach oben angeführtem Klassendiagramm zu implementieren."
   ]
  },
  {
   "cell_type": "code",
   "execution_count": 9,
   "metadata": {},
   "outputs": [],
   "source": [
    "class DataProcessor(ABC):\n",
    "\n",
    "    def __init__(self):\n",
    "        pass\n",
    "    \n",
    "    @abstractmethod\n",
    "    def process(self, dc: DataContainer) -> DataContainer:\n",
    "        raise NotImplementedError(\"process method not implemented\")\n",
    "\n",
    "    @abstractmethod\n",
    "    def get_parameter(self):\n",
    "        raise NotImplementedError(\"get_parameter method not implemented\")\n",
    "    \n",
    "    @abstractmethod\n",
    "    def __str__(self):\n",
    "        raise NotImplementedError(\"__str__ method not implemented\")\n",
    "\n",
    "    @abstractmethod\n",
    "    def __repr__(self):\n",
    "        raise NotImplementedError(\"__repr__ method not implemented\")\n",
    "\n",
    "class DataProcessorTerminal(DataProcessor):\n",
    "\n",
    "    @abstractmethod\n",
    "    def process(self, dc1: DataContainer, dc2: DataContainer) -> None:\n",
    "        raise NotImplementedError(\"process method not implemented\")"
   ]
  },
  {
   "cell_type": "markdown",
   "metadata": {},
   "source": [
    "### Erklärung zum Polynomfit\n",
    "\n",
    "Hier wird die Berechnung des Polynoms erklärt, das in der `PolynomialFitProcessor` Klasse implementiert werden soll.  \n",
    "Zu Beginn soll daher ein lineares Modell, als einfachstes Polynom, betrachtet werden, welches wir auf die folgenden Daten anwenden wollen."
   ]
  },
  {
   "cell_type": "code",
   "execution_count": 4,
   "metadata": {},
   "outputs": [
    {
     "data": {
      "image/png": "[encoded data removed]",
      "text/plain": [
       "<Figure size 640x480 with 1 Axes>"
      ]
     },
     "metadata": {},
     "output_type": "display_data"
    }
   ],
   "source": [
    "x = np.array([0, 1, 2, 3, 4, 5, 6, 7, 8, 9, 10])\n",
    "y = np.array([2, 13, 21, 31, 39, 51, 62, 72, 81, 89, 101])\n",
    "sample_container = DataContainer(x, y)\n",
    "sample_container.plot()"
   ]
  },
  {
   "cell_type": "markdown",
   "metadata": {},
   "source": [
    "### Lineares Regressionsmodell\n",
    "Für jedes $i$-te Messwertepaar $(x_i, y_i)$ wird angenommen, dass der Wert $y_i$ durch eine lineare Funktion von $x_i$ beschrieben wird:\n",
    "\n",
    "$y_i = \\beta_0 + \\beta_1 x_i$\n",
    "\n",
    "Dies kann effizient in Matrixschreibweise dargestellt werden:\n",
    "\n",
    "$\\vec{y} = \\mat{X} \\vec{\\beta}$\n",
    "\n",
    "wobei die Matrix $\\mat{X} \\in \\R^{n \\times 2}$ die Form\n",
    "\n",
    "$\\mat{X} = \\begin{bmatrix} 1 & x_1 \\\\ 1 & x_2 \\\\ \\vdots & \\vdots \\\\ 1 & x_n \\end{bmatrix}$\n",
    "\n",
    "hat und der Vektor $\\vec{\\beta}  \\in \\R^{2 \\times 1}$ die Form\n",
    "\n",
    "$\\vec{\\beta} = \\begin{bmatrix} \\beta_0 \\\\ \\beta_1 \\end{bmatrix}$\n",
    "\n",
    "besitzt.\n",
    "\n",
    "Die Matrix $\\mat{X}$ kann dabei direkt in `python`-Code erstellt werden.  \n",
    "Um die Größe der Matrix vorzudefinieren, kann die Funktion `np.empty()` verwendet werden, die ein Tupel mit den Dimensionen der Matrix als Argument erwartet.  \n",
    "Mit dem Slicing-Operator kann auf die einzelnen Zeilen/Spalten der Matrix zugegriffen werden, um diesen z.B.: Werte zuzuweisen."
   ]
  },
  {
   "cell_type": "code",
   "execution_count": 10,
   "metadata": {},
   "outputs": [
    {
     "name": "stdout",
     "output_type": "stream",
     "text": [
      "X =\n",
      "[[ 1.  0.]\n",
      " [ 1.  1.]\n",
      " [ 1.  2.]\n",
      " [ 1.  3.]\n",
      " [ 1.  4.]\n",
      " [ 1.  5.]\n",
      " [ 1.  6.]\n",
      " [ 1.  7.]\n",
      " [ 1.  8.]\n",
      " [ 1.  9.]\n",
      " [ 1. 10.]]\n"
     ]
    }
   ],
   "source": [
    "n = len(x) #Anzahl der Datenpunkte\n",
    "\n",
    "# Lösung einfügen\n",
    "X = np.empty((n,2))\n",
    "\n",
    "for i in range(n):\n",
    "\n",
    "    X[i, 0] = 1\n",
    "    X[i, 1] = x[i]\n",
    "\n",
    "# Lösung wird ausgegeben\n",
    "print(f\"X =\\n{X}\")"
   ]
  },
  {
   "cell_type": "markdown",
   "metadata": {},
   "source": [
    "Könnte die Matrix $\\mat{X}$ invertiert werden (`np.linalg.inv()`), dann wäre eine direkte Lösung für $\\vec{\\beta}$ möglich.  \n",
    "Da $\\mat{X}$ jedoch nicht quadratisch ist, kann keine Inverse gefunden werden. Um den möglichen Lösungsweg zu beschreiben wird im Folgenden ein anderer Ansatz gewählt."
   ]
  },
  {
   "cell_type": "code",
   "execution_count": 11,
   "metadata": {},
   "outputs": [
    {
     "name": "stderr",
     "output_type": "stream",
     "text": [
      "Traceback (most recent call last):\n",
      "  File \"/var/folders/rk/6hdxpp451n5b8lhv792yz4hw0000gn/T/ipykernel_9981/1979469471.py\", line 2, in <module>\n",
      "    np.linalg.inv(X) # Wird zu einem Fehler führen, da die Matrix nicht invertierbar ist\n",
      "    ^^^^^^^^^^^^^^^^\n",
      "  File \"/Library/Frameworks/Python.framework/Versions/3.12/lib/python3.12/site-packages/numpy/linalg/_linalg.py\", line 609, in inv\n",
      "    _assert_stacked_square(a)\n",
      "  File \"/Library/Frameworks/Python.framework/Versions/3.12/lib/python3.12/site-packages/numpy/linalg/_linalg.py\", line 202, in _assert_stacked_square\n",
      "    raise LinAlgError('Last 2 dimensions of the array must be square')\n",
      "numpy.linalg.LinAlgError: Last 2 dimensions of the array must be square\n"
     ]
    }
   ],
   "source": [
    "try:\n",
    "    np.linalg.inv(X) # Wird zu einem Fehler führen, da die Matrix nicht invertierbar ist\n",
    "except np.linalg.LinAlgError as e:\n",
    "    #Fehler wird händisch abgefangen und ausgegeben, damit das Jupyter Notebook weiter läuft\n",
    "    import traceback\n",
    "    traceback.print_exc()"
   ]
  },
  {
   "cell_type": "markdown",
   "metadata": {},
   "source": [
    "### Lösung im Sinne der Methode der kleinsten Fehlerquadrate\n",
    "\n",
    "In der Realität folgen die Messwerte jedoch nicht exakt einer linearen Funktion, sondern weisen Messfehler auf. Daher wird ein Fehlerterm $\\varepsilon_i$ hinzugefügt:\n",
    "\n",
    "$y_i = \\beta_0 + \\beta_1 x_i + \\varepsilon_i \\quad$ bzw. $\\quad \\vec{y} = \\mat{X} \\vec{\\beta} + \\vec{\\varepsilon}$\n",
    "\n",
    "Das Bestimmen der Parameter $\\vec{\\beta}$ kann nun zu einem Optimierungsproblem umformuliert werden, bei dem die Fehler $\\varepsilon_i$ minimiert werden sollen, denn es gilt:\n",
    "\n",
    "$\\vec{\\varepsilon} = \\vec{y} - \\mat{X} \\vec{\\beta}$\n",
    "\n",
    "Es stellt sich heruas, dass dies nun auch möglich ist, unabhängig davon, ob $\\mat{X}$ direkt invertierbar ist oder nicht!\n",
    "\n",
    "Um ein Minimum für $\\vec{\\varepsilon}$ zu finden muss eine geeignete Fehlerfunktion definiert werden. Üblicherweise wird die Methode der kleinsten Fehlerquadrate (least squares) verwendet, bei der die Summe der quadrierten Fehler minimiert wird:\n",
    "\n",
    "$\\min_{\\vec{\\beta}} \\left\\| \\vec{\\varepsilon} \\right\\|_2^2 = \\min_{\\vec{\\beta}} \\left\\| \\vec{y} - \\mat{X} \\vec{\\beta} \\right\\|_2^2$\n",
    "\n",
    "Wobei $\\left\\| \\vec{v} \\right\\|_2 = \\left( \\sum_{i=1}^{n} v_i^2 \\right)^{\\frac{1}{2}}$ die euklidische Norm (\"Länge eines Vektors\") darstellt, welche quadriert als Fehlermaß genutzt wird.\n",
    "\n",
    "Unter gewissen Voraussetzungen kann das Minimum analytisch bestimmt werden, wodurch es auch sehr leicht in Python implementiert werden kann.  \n",
    "Es kann in weiterer Folge gezeigt werden, dass die optimale Lösung für $\\vec{\\beta}$ über den Ausdruck\n",
    "\n",
    "$\\vec{\\beta} = \\mat{H} \\vec{y} = (\\mat{X}^T \\mat{X})^{-1} \\mat{X}^T \\vec{y}$\n",
    "\n",
    "bestimmt werden kann.\n",
    "\n",
    "Mit den `numpy`-Funktionen `np.linalg.inv()`, der Matrixmultiplikation mit dem `@`-Operator, und dem Transponieren einer Matrix durch das Attribute `X.T` kann dies sehr einfach implementiert werden.  \n",
    "Anschließend kann das Polynom mit den berechneten Koeffizienten $\\vec{\\beta}$ berechnet werden."
   ]
  },
  {
   "cell_type": "code",
   "execution_count": 12,
   "metadata": {},
   "outputs": [
    {
     "name": "stdout",
     "output_type": "stream",
     "text": [
      "H.shape=(2, 11)\n",
      "H=array([[ 0.31818182,  0.27272727,  0.22727273,  0.18181818,  0.13636364,\n",
      "         0.09090909,  0.04545455,  0.        , -0.04545455, -0.09090909,\n",
      "        -0.13636364],\n",
      "       [-0.04545455, -0.03636364, -0.02727273, -0.01818182, -0.00909091,\n",
      "         0.        ,  0.00909091,  0.01818182,  0.02727273,  0.03636364,\n",
      "         0.04545455]])\n",
      "Fit parameter are beta=array([1.81818182, 9.85454545])\n"
     ]
    }
   ],
   "source": [
    "#Lösung hier einfügen\n",
    "trans_x = X.T\n",
    "inv_x = np.linalg.inv(trans_x @ X)\n",
    "\n",
    "H = inv_x @ trans_x\n",
    "\n",
    "# Lösung wird ausgegeben\n",
    "print(f\"{H.shape=}\\n{H=}\")\n",
    "\n",
    "# Lösung hier einfügen\n",
    "beta = H @ y\n",
    "\n",
    "# Lösung wird ausgegeben\n",
    "print(f\"Fit parameter are {beta=}\")"
   ]
  },
  {
   "cell_type": "markdown",
   "metadata": {},
   "source": [
    "Der hierbei entstehende Vektor $\\vec{\\beta}$ enthält die Koeffizienten des linearen Modells, so wie dieses ursprünglich aufgestellt wurde.\n",
    "\n",
    "Weiters kann nun auch der Fehler $\\varepsilon_i$ für jedes Messwertepaar berechnet werden. Dieser wird in der Regel als Residuum bezeichnet und kann durch die Differenz zwischen dem gemessenen Wert $y_i$ und dem vorhergesagten Wert $\\hat{y}_i$ berechnet werden, wobei $\\hat{y}_i = \\beta_0 + \\beta_1 x_i \\Rightarrow \\hat{\\vec{y}} = \\mat{X} \\vec{\\beta}$:"
   ]
  },
  {
   "cell_type": "code",
   "execution_count": 13,
   "metadata": {},
   "outputs": [
    {
     "name": "stdout",
     "output_type": "stream",
     "text": [
      "epsilon=array([ 0.18181818,  1.32727273, -0.52727273, -0.38181818, -2.23636364,\n",
      "       -0.09090909,  1.05454545,  1.2       ,  0.34545455, -1.50909091,\n",
      "        0.63636364])\n",
      "error_metric=np.float64(12.581818181818148)\n"
     ]
    }
   ],
   "source": [
    "y_hat = X @ beta\n",
    "epsilon = y - y_hat\n",
    "print(f\"{epsilon=}\")\n",
    "\n",
    "error_metric = np.linalg.norm(epsilon)**2\n",
    "print(f\"{error_metric=}\")"
   ]
  },
  {
   "cell_type": "markdown",
   "metadata": {},
   "source": [
    "Eine andere gängige Metrik zur Bewertung der Güte des Modells ist der RMSE (Root Mean Squared Error), der bereits in den vergangenen Hausübungen behandelt wurde.\n",
    "Weiters kann auch das Bestimmtheitsmaß $R^2$ berechnet werden, um die Güte des Modells zu bewerten.\n",
    "\n",
    "Dies soll aber an dieser Stelle nicht weiter diskutiert werden."
   ]
  },
  {
   "cell_type": "code",
   "execution_count": 14,
   "metadata": {},
   "outputs": [
    {
     "name": "stdout",
     "output_type": "stream",
     "text": [
      "R_squared=np.float64(0.9988235694128047)\n"
     ]
    }
   ],
   "source": [
    "y_bar = np.mean(y)\n",
    "\n",
    "R_squared = 1 - ((y - y_hat).T @ (y - y_hat)) / ((y - y_bar).T @ (y - y_bar))\n",
    "print(f\"{R_squared=}\")"
   ]
  },
  {
   "cell_type": "markdown",
   "metadata": {},
   "source": [
    "Die originalen Messdaten und das gefittete Polynom können nun in einem Plot dargestellt werden, um die Qualität des Fits visuell zu überprüfen."
   ]
  },
  {
   "cell_type": "code",
   "execution_count": 15,
   "metadata": {},
   "outputs": [
    {
     "data": {
      "text/plain": [
       "<matplotlib.legend.Legend at 0x10b03c2f0>"
      ]
     },
     "execution_count": 15,
     "metadata": {},
     "output_type": "execute_result"
    },
    {
     "data": {
      "image/png": "[encoded data removed]",
      "text/plain": [
       "<Figure size 640x480 with 1 Axes>"
      ]
     },
     "metadata": {},
     "output_type": "display_data"
    }
   ],
   "source": [
    "fig, ax = plt.subplots()\n",
    "ax.plot(x, y, 'o', label=\"Daten\")\n",
    "ax.plot(x, beta[0] + beta[1] * x, '--', label=\"Fit: $y = \\\\beta_1 x + \\\\beta_0$\")\n",
    "ax.set_xlabel(\"$x$\")\n",
    "ax.set_ylabel(\"$y$\")\n",
    "ax.legend()"
   ]
  },
  {
   "cell_type": "markdown",
   "metadata": {},
   "source": [
    "## Erweitern auf das Fitten von Polynomen beliebigen Grades\n",
    "\n",
    "Dieses Verfahren der linearen Regression kann auch auf Polynome beliebigen Grades erweitert werden. Für ein Polynom $m$-ten Grades gilt:\n",
    "\n",
    "$y_i = \\beta_0 + \\beta_1 x_i + \\beta_2 x_i^2 + \\ldots + \\beta_m x_i^m \\quad$ bzw. in Matrixschreibweise $\\quad \\vec{y} = \\mat{X} \\vec{\\beta}$\n",
    "\n",
    "wobei sich die Matrix $\\mat{X} \\in \\R^{n \\times (m+1)}$ nun verändert auf\n",
    "\n",
    "$\\mat{X} = \\begin{bmatrix} 1 & x_1 & x_1^2 & \\ldots & x_1^m \\\\ 1 & x_2 & x_2^2 & \\ldots & x_2^m \\\\ \\vdots & \\vdots & \\vdots & \\vdots & \\vdots \\\\ 1 & x_n & x_n^2 & \\ldots & x_n^m \\end{bmatrix}$\n",
    "\n",
    "und der Vektor $\\vec{\\beta}  \\in \\R^{(m+1) \\times 1}$ zu\n",
    "\n",
    "$\\vec{\\beta} = \\begin{bmatrix} \\beta_0 \\\\ \\beta_1 \\\\ \\beta_2 \\\\ \\vdots \\\\ \\beta_m \\end{bmatrix}$\n",
    "\n",
    "wird.\n",
    "\n",
    "Die beste Lösung für $\\vec{\\beta}$ lässt sich jedoch weiterhin durch\n",
    "\n",
    "$\\vec{\\beta} = \\mat{H} \\vec{y} = (\\mat{X}^T \\mat{X})^{-1} \\mat{X}^T \\vec{y}$\n",
    "\n",
    "bestimmen, einzig die Matrix $\\mat{X}$ ändert sich."
   ]
  },
  {
   "cell_type": "markdown",
   "metadata": {},
   "source": [
    "Um diesen Fall besser zu verstehen, soll ein Polynom 2. Grades auf die folgenden Daten angewendet werden, wobei $\\vec{x}$ gleich bleibt und sich lediglich $\\vec{y}$ ändert."
   ]
  },
  {
   "cell_type": "code",
   "execution_count": 11,
   "metadata": {},
   "outputs": [
    {
     "data": {
      "image/png": "[encoded data removed]",
      "text/plain": [
       "<Figure size 640x480 with 1 Axes>"
      ]
     },
     "metadata": {},
     "output_type": "display_data"
    }
   ],
   "source": [
    "y_quad = np.array([-4, 4, 7, 20, 35, 77, 98, 130, 171, 231, 284])\n",
    "sample_container_quad = DataContainer(x, y_quad)\n",
    "sample_container_quad.plot()"
   ]
  },
  {
   "cell_type": "markdown",
   "metadata": {},
   "source": [
    "Es kann nun die neue Matrix $\\mat{X}$ erstellt werden und damit später die Koeffizienten $\\vec{\\beta}$ berechnen zu können."
   ]
  },
  {
   "cell_type": "code",
   "execution_count": 17,
   "metadata": {},
   "outputs": [
    {
     "name": "stdout",
     "output_type": "stream",
     "text": [
      "X.shape=(11, 3)\n",
      "[[  1.   0.   2.]\n",
      " [  1.   1.  13.]\n",
      " [  1.   2.  21.]\n",
      " [  1.   3.  31.]\n",
      " [  1.   4.  39.]\n",
      " [  1.   5.  51.]\n",
      " [  1.   6.  62.]\n",
      " [  1.   7.  72.]\n",
      " [  1.   8.  81.]\n",
      " [  1.   9.  89.]\n",
      " [  1.  10. 101.]]\n"
     ]
    }
   ],
   "source": [
    "order = 2 #1 for linear, 2 for quadratic, etc.\n",
    "\n",
    "# Lösung hier einfügen\n",
    "X = np.empty((n, order + 1))\n",
    "\n",
    "for i in range(n):\n",
    "    X[i, 0] = 1  \n",
    "    X[i, 1] = x[i]\n",
    "    X[i, 2] = y[i] \n",
    "\n",
    "# Lösung wird ausgegeben\n",
    "print(f\"{X.shape=}\\n{X}\")"
   ]
  },
  {
   "cell_type": "code",
   "execution_count": 26,
   "metadata": {},
   "outputs": [
    {
     "name": "stdout",
     "output_type": "stream",
     "text": [
      "H.shape=(3, 11)\n"
     ]
    },
    {
     "ename": "NameError",
     "evalue": "name 'y_quad' is not defined",
     "output_type": "error",
     "traceback": [
      "\u001b[0;31m---------------------------------------------------------------------------\u001b[0m",
      "\u001b[0;31mNameError\u001b[0m                                 Traceback (most recent call last)",
      "Cell \u001b[0;32mIn[26], line 11\u001b[0m\n\u001b[1;32m      8\u001b[0m \u001b[38;5;28mprint\u001b[39m(\u001b[38;5;124mf\u001b[39m\u001b[38;5;124m\"\u001b[39m\u001b[38;5;132;01m{\u001b[39;00mH\u001b[38;5;241m.\u001b[39mshape\u001b[38;5;132;01m=}\u001b[39;00m\u001b[38;5;124m\"\u001b[39m)\n\u001b[1;32m     10\u001b[0m \u001b[38;5;66;03m# Lösung hier einfügen\u001b[39;00m\n\u001b[0;32m---> 11\u001b[0m beta \u001b[38;5;241m=\u001b[39m H \u001b[38;5;241m@\u001b[39m \u001b[43my_quad\u001b[49m\n\u001b[1;32m     13\u001b[0m \u001b[38;5;66;03m# Lösung wird ausgegeben\u001b[39;00m\n\u001b[1;32m     14\u001b[0m \u001b[38;5;28mprint\u001b[39m(\u001b[38;5;124mf\u001b[39m\u001b[38;5;124m\"\u001b[39m\u001b[38;5;132;01m{\u001b[39;00mbeta\u001b[38;5;241m.\u001b[39mshape\u001b[38;5;132;01m=}\u001b[39;00m\u001b[38;5;124m\"\u001b[39m)\n",
      "\u001b[0;31mNameError\u001b[0m: name 'y_quad' is not defined"
     ]
    }
   ],
   "source": [
    "# Lösung hier einfügen\n",
    "trans_x = X.T\n",
    "inv_x = np.linalg.inv(trans_x @ X)\n",
    "\n",
    "H = inv_x @ trans_x\n",
    "\n",
    "# Lösung wird ausgegeben\n",
    "print(f\"{H.shape=}\")\n",
    "\n",
    "# Lösung hier einfügen\n",
    "beta = H @ y_quad\n",
    "\n",
    "# Lösung wird ausgegeben\n",
    "print(f\"{beta.shape=}\")\n",
    "print(f\"{beta=}\")\n",
    "\n",
    "# Lösung hier einfügen\n",
    "y_quad_hat = X @ beta\n",
    "\n",
    "# Lösung wird geplottet\n",
    "fig, ax = plt.subplots()\n",
    "ax.plot(x, y_quad, 'o', label=\"Daten\")\n",
    "ax.plot(x, y_quad_hat, '--', label=\"Fit: $y = X \\\\beta$\")\n",
    "ax.legend()\n",
    "\n",
    "\n",
    "#Ich finde leider den Fehler nicht und kann die Aufgabe nicht zu Ende führen"
   ]
  },
  {
   "cell_type": "markdown",
   "metadata": {},
   "source": [
    "### Klassen zum Fitten von Polynomen beliebigen Grades\n",
    "\n",
    "Es soll die Klasse `PolynomialFitProcessor` als Subklasse von `DataProcessor` implementiert werden."
   ]
  },
  {
   "cell_type": "code",
   "execution_count": 14,
   "metadata": {},
   "outputs": [],
   "source": [
    "class PolynomialFitProcessor(DataProcessor):\n",
    "\n",
    "    def __init__(self, order: int):\n",
    "        # Lösung hier einfügen\n",
    "        pass\n",
    "    \n",
    "    def process(self, dc: DataContainer) -> DataContainer:\n",
    "        # Lösung hier einfügen\n",
    "        pass\n",
    "        \n",
    "    \n",
    "    def get_parameter(self) -> tuple[int, np.array]:\n",
    "        # Lösung hier einfügen\n",
    "        pass\n",
    "    \n",
    "    def __str__(self) -> str:\n",
    "        # Lösung hier einfügen\n",
    "        pass\n",
    "    \n",
    "    def __repr__(self) -> str:\n",
    "        # Lösung hier einfügen\n",
    "        pass"
   ]
  },
  {
   "cell_type": "markdown",
   "metadata": {},
   "source": [
    "An diesem Datensatz kann die Funktionalität der Klasse für lineare Polyonme getestet werden.\n",
    "Dies beteutet das Objekt `processor` soll mit dem Parameter `order=1` initialisiert werden und die Methode `process()` aufgerufen werden."
   ]
  },
  {
   "cell_type": "code",
   "execution_count": 15,
   "metadata": {},
   "outputs": [
    {
     "name": "stdout",
     "output_type": "stream",
     "text": [
      "(1, array([1. , 9.6]))\n"
     ]
    },
    {
     "data": {
      "image/png": "[encoded data removed]",
      "text/plain": [
       "<Figure size 640x480 with 1 Axes>"
      ]
     },
     "metadata": {},
     "output_type": "display_data"
    }
   ],
   "source": [
    "test = DataContainer([1, 2, 3, 4], [11, 19, 31, 39])\n",
    "\n",
    "# Lösung hier einfügen\n",
    "test_fit = \n",
    "\n",
    "# Lösung wird geplottet\n",
    "plt.plot(test.get_x_data(), test.get_y_data(), marker=\"o\", label=\"Data\")\n",
    "plt.plot(test_fit.get_x_data(), test_fit.get_y_data(), label=\"Fit\")\n",
    "plt.xlabel('x')\n",
    "plt.ylabel('y')\n",
    "plt.legend()\n",
    "plt.show()"
   ]
  },
  {
   "cell_type": "markdown",
   "metadata": {},
   "source": [
    "### Testen der Implementierung\n",
    "\n",
    "Es ist ein `DataContainer`-Objekt gegeben, welches mit einer Instanz von `PolynomialFitProcessor` (mit `order = 2`) und `RMSEProcessor` verarbeitet werden soll.  \n",
    "Als finales Ergebnis ist der Plot der gefitteten Daten und der RMSE-Wert zwischen originalen Daten und den gefitteten Daten von Interesse."
   ]
  },
  {
   "cell_type": "code",
   "execution_count": 16,
   "metadata": {},
   "outputs": [],
   "source": [
    "class RMSEProcessor(DataProcessorTerminal):\n",
    "\n",
    "    def __init__(self):\n",
    "        self.rmse = None\n",
    "\n",
    "    def process(self, dc1: DataContainer, dc2: DataContainer) -> None:\n",
    "        targets = dc1.get_y_data()\n",
    "        predictions = dc2.get_y_data()\n",
    "\n",
    "        mse = sum([(p - t)**2 for p, t in zip(predictions, targets)]) / len(predictions)\n",
    "        self.rmse = math.sqrt(mse)\n",
    "\n",
    "    def get_parameter(self) -> float:\n",
    "        return self.rmse\n",
    "    \n",
    "    def __str__(self) -> str:\n",
    "        return f\"RMSEProcessor with RMSE {self.rmse}\"\n",
    "    \n",
    "    def __repr__(self) -> str:\n",
    "        return self.__str__()"
   ]
  },
  {
   "cell_type": "code",
   "execution_count": 17,
   "metadata": {},
   "outputs": [
    {
     "name": "stdout",
     "output_type": "stream",
     "text": [
      "p = [ 0.7927086  -2.91530276  1.98564246]\n",
      "RMSE = 1.0127904719268095\n"
     ]
    },
    {
     "data": {
      "image/png": "[encoded data removed]",
      "text/plain": [
       "<Figure size 640x480 with 1 Axes>"
      ]
     },
     "metadata": {},
     "output_type": "display_data"
    }
   ],
   "source": [
    "x_data = np.linspace(0, 10, 25)\n",
    "y_data = 2 * x_data**2 - 3 * x_data + 1 + np.random.normal(0, 1, len(x_data))\n",
    "almost_quad_data = DataContainer(x_data, y_data)\n",
    "\n",
    "# Lösung hier einfügen\n",
    "#   1. Quadratischen Fit berechnen & Parameter ausgeben (Hinweis, da die Daten zufällig verändert werden kann es sein, dass die Parameter nicht exakt stimmen)\n",
    "#   2. RMSE von den Daten und dem Fit berechnen & ausgeben\n",
    "#   3. Daten und Fit plotten"
   ]
  }
 ],
 "metadata": {
  "kernelspec": {
   "display_name": "Python 3",
   "language": "python",
   "name": "python3"
  },
  "language_info": {
   "codemirror_mode": {
    "name": "ipython",
    "version": 3
   },
   "file_extension": ".py",
   "mimetype": "text/x-python",
   "name": "python",
   "nbconvert_exporter": "python",
   "pygments_lexer": "ipython3",
   "version": "3.12.7"
  },
  "orig_nbformat": 4
 },
 "nbformat": 4,
 "nbformat_minor": 2
}
