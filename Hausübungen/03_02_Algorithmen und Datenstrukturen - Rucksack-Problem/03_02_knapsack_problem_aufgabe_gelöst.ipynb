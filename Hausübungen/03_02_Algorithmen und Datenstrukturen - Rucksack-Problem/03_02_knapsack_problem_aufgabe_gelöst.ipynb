{
 "cells": [
  {
   "cell_type": "markdown",
   "metadata": {},
   "source": [
    "<table style=\"width: 100%\">\n",
    "    <tr style=\"background: #ffffff\">\n",
    "        <td style=\"padding-top:25px; width: 180px\">\n",
    "            <img src=\"https://mci.edu/templates/mci/images/logo.svg\" alt=\"Logo\">\n",
    "        </td>\n",
    "        <td style=\"width: 100%\">\n",
    "            <div style=\"width: 100%; text-align:right\"><font style=\"font-size:38px\"><b>Softwaredesign</b></font></div>\n",
    "            <div style=\"padding-top:0px; width: 100%; text-align:right\"><font size=\"4\"><b>Mechatronik</b></font></div>\n",
    "        </td>\n",
    "    </tr>\n",
    "</table>\n",
    "\n",
    "---\n",
    "\n",
    "# Rucksack-Problem\n",
    "\n",
    "Lösen Sie das folgende Rucksack-Problem z.B. mit einem Brute-Force Algorithmus.\n",
    "\n",
    "Der Rucksack hat ein maximales Fassungsvermögen von 15kg.\n",
    "Die folgenden Gegenstände stehen zur Verfügung:\n",
    "| Gegenstand | Masse in kg | Preis in € |\n",
    "|:----------:|------------:|-----------:|\n",
    "| 1          | $12$        | $4$        |\n",
    "| 2          | $2$         | $2$        |\n",
    "| 3          | $1$         | $1$        |\n",
    "| 4          | $4$         | $10$       |\n",
    "| 5          | $1$         | $2$        |\n",
    "\n"
   ]
  },
  {
   "cell_type": "code",
   "execution_count": 2,
   "metadata": {},
   "outputs": [],
   "source": [
    "# Startwerte\n",
    "\n",
    "max_weight = 15\n",
    "weights =  [12, 2, 1, 4, 1]\n",
    "values =  [4, 2, 1, 10, 2]"
   ]
  },
  {
   "cell_type": "markdown",
   "metadata": {},
   "source": [
    "## Darstellung als UML-Aktivitätsdiagramm\n",
    "\n",
    "Stellen Sie Ihnen Lösungsalgorithmus als UML-Aktivitätsdiagramm dar und fügen Sie das Bild in das Notebook ein.\n",
    "\n",
    "Laden Sie das Bild hierzu im Internet hoch (z.B. auf [imgur](https://imgur.com/) oder erstellen Sie es direkt in [plantUML](https://www.plantuml.com/plantuml/uml/) und verlinken Sie das dort gehostete SVG) und verlinken Sie es folgender Maßen, damit es im Notebook erscheint: `![](www.someurl.de/image.jpg)`\n",
    "\n",
    "![](Knapsack.svg)\n",
    "\n",
    "![](//www.plantuml.com/plantuml/png/TP51Jkim48RtFiKi-rPldxu7BHAg44kaigoSveyxaZsDx351d8TZT9UBaJf2921cDKc--UBvlKbge-RWJMcCgHw4bQtdn8XP73M8jBUHRUqXQsCYEjWHfB6g7GHn1ZwUGyrYbSy2AMzsS92amxiqM7yE9HlKeUVZIV_IzDWZAhN3PU6O1hYbrMA6_lsdO5yFFTYTzFPFeOfwZ-WyHWPpRM2b6aaFBzPdJDAbk60tCsWcBU8dw1jctydcTlQBzQ_qyRfDeHj6me_jIa4QRirNDsLC_OazQBNr7j-I7IurOXU7ItjTtrHtIBfWA4jppOY3zOZqNCvORNDojaQvcFleK0kdX99F5rb6n2GzTsO3QNBm7m00)\n",
    "\n"
   ]
  },
  {
   "cell_type": "code",
   "execution_count": 3,
   "metadata": {},
   "outputs": [
    {
     "name": "stdout",
     "output_type": "stream",
     "text": [
      "zsh:1: number expected\n"
     ]
    }
   ],
   "source": [
    "![](//www.plantuml.com/plantuml/png/TP51Jkim48RtFiKi-rPldxu7BHAg44kaigoSveyxaZsDx351d8TZT9UBaJf2921cDKc--UBvlKbge-RWJMcCgHw4bQtdn8XP73M8jBUHRUqXQsCYEjWHfB6g7GHn1ZwUGyrYbSy2AMzsS92amxiqM7yE9HlKeUVZIV_IzDWZAhN3PU6O1hYbrMA6_lsdO5yFFTYTzFPFeOfwZ-WyHWPpRM2b6aaFBzPdJDAbk60tCsWcBU8dw1jctydcTlQBzQ_qyRfDeHj6me_jIa4QRirNDsLC_OazQBNr7j-I7IurOXU7ItjTtrHtIBfWA4jppOY3zOZqNCvORNDojaQvcFleK0kdX99F5rb6n2GzTsO3QNBm7m00)\n"
   ]
  },
  {
   "cell_type": "markdown",
   "metadata": {},
   "source": [
    "## Lösung als Python Code\n",
    "\n",
    "Definieren Sie eine Funktion, welche das Problem löst und geben Sie die optimale Lösung aus.\n",
    "Geben Sie auch auch, wie viele Kombinationen Sie bis zur Lösung ausgetestet haben."
   ]
  },
  {
   "cell_type": "code",
   "execution_count": 4,
   "metadata": {},
   "outputs": [
    {
     "name": "stdout",
     "output_type": "stream",
     "text": [
      "Java\n",
      "14\n",
      "Python\n",
      "3\n",
      "JavaScript\n",
      "6\n",
      "2,2\n",
      "1,1\n",
      "4,10\n",
      "1,2\n"
     ]
    }
   ],
   "source": [
    "#Tipp: Die zip()-Funktion könnte hilfreich sein\n",
    "\n",
    "languages = ['Java', 'Python', 'JavaScript']\n",
    "versions = [14, 3, 6]\n",
    "\n",
    "for language, version in zip(languages, versions):\n",
    "    print(language)\n",
    "    print(version)\n",
    "\n",
    "\n",
    "import itertools\n",
    "\n",
    "max_weight = 15\n",
    "weights = [12, 2, 1, 4, 1]\n",
    "values = [4, 2, 1, 10, 2]\n",
    "\n",
    "stuff = list(zip(weights, values))\n",
    "\n",
    "def find_best_result(max_weight, weights, values):\n",
    "    amount_stuff = len(weights)\n",
    "    best_value = 0\n",
    "    best_combi = []\n",
    "    tested_combi = 0\n",
    "\n",
    "\n",
    "    for r in range(1, amount_stuff + 1):\n",
    "        for combination in itertools.combinations(range(amount_stuff), r):  \n",
    "            tested_combi += 1\n",
    "            final_weight = 0\n",
    "            final_value = 0\n",
    "            for i in combination:\n",
    "                final_weight += weights[i]\n",
    "                final_value += values[i]\n",
    "            \n",
    "            if final_weight <= max_weight and final_value > best_value:\n",
    "                best_value = final_value\n",
    "                best_combi = combination \n",
    "\n",
    "    return best_value, best_combi, tested_combi\n",
    "\n",
    "best_value, best_combi, tested_combi = find_best_result(max_weight, weights, values)\n",
    "best_items = [stuff[i] for i in best_combi]\n",
    "\n",
    "\n",
    "for item in best_items:\n",
    "    print(f\"{item[0]},{item[1]}\") \n",
    "\n"
   ]
  },
  {
   "cell_type": "code",
   "execution_count": 5,
   "metadata": {},
   "outputs": [],
   "source": [
    "# Tipp2: https://docs.python.org/3/library/itertools.html\n",
    "## Das itertools, kann Ihnen bei der Erstellung von Kombinationen helfen"
   ]
  },
  {
   "cell_type": "markdown",
   "metadata": {},
   "source": [
    "### Testen mit großem Datensatz\n",
    "Sobald die Implementierung für den oben aufgezeigten Datensatz funktioniert, testen Sie diese mit folgendem größeren Datensatz.\n",
    "\n",
    "Je nach Art der Implementierung kann die Berechnung einige Zeit in Anspruch nehmen oder gar nicht beendet werden.  \n",
    "Es ist aktuell egal, falls die Implementierung nicht in angemessener Zeit bzw. überhaupt terminiert."
   ]
  },
  {
   "cell_type": "code",
   "execution_count": 6,
   "metadata": {},
   "outputs": [
    {
     "ename": "KeyboardInterrupt",
     "evalue": "",
     "output_type": "error",
     "traceback": [
      "\u001b[0;31m---------------------------------------------------------------------------\u001b[0m",
      "\u001b[0;31mKeyboardInterrupt\u001b[0m                         Traceback (most recent call last)",
      "Cell \u001b[0;32mIn[6], line 7\u001b[0m\n\u001b[1;32m      3\u001b[0m values \u001b[38;5;241m=\u001b[39m [\u001b[38;5;241m360\u001b[39m, \u001b[38;5;241m83\u001b[39m, \u001b[38;5;241m59\u001b[39m, \u001b[38;5;241m130\u001b[39m, \u001b[38;5;241m431\u001b[39m, \u001b[38;5;241m67\u001b[39m, \u001b[38;5;241m230\u001b[39m, \u001b[38;5;241m52\u001b[39m, \u001b[38;5;241m93\u001b[39m, \u001b[38;5;241m125\u001b[39m, \u001b[38;5;241m670\u001b[39m, \u001b[38;5;241m892\u001b[39m, \u001b[38;5;241m600\u001b[39m, \u001b[38;5;241m38\u001b[39m, \u001b[38;5;241m48\u001b[39m, \u001b[38;5;241m147\u001b[39m, \u001b[38;5;241m78\u001b[39m, \u001b[38;5;241m256\u001b[39m, \u001b[38;5;241m63\u001b[39m, \u001b[38;5;241m17\u001b[39m, \u001b[38;5;241m120\u001b[39m, \u001b[38;5;241m164\u001b[39m, \u001b[38;5;241m432\u001b[39m, \u001b[38;5;241m35\u001b[39m, \u001b[38;5;241m92\u001b[39m, \u001b[38;5;241m110\u001b[39m, \u001b[38;5;241m22\u001b[39m, \u001b[38;5;241m42\u001b[39m, \u001b[38;5;241m50\u001b[39m, \u001b[38;5;241m323\u001b[39m, \u001b[38;5;241m514\u001b[39m, \u001b[38;5;241m28\u001b[39m, \u001b[38;5;241m87\u001b[39m, \u001b[38;5;241m73\u001b[39m, \u001b[38;5;241m78\u001b[39m, \u001b[38;5;241m15\u001b[39m, \u001b[38;5;241m26\u001b[39m, \u001b[38;5;241m78\u001b[39m, \u001b[38;5;241m210\u001b[39m, \u001b[38;5;241m36\u001b[39m, \u001b[38;5;241m85\u001b[39m, \u001b[38;5;241m189\u001b[39m, \u001b[38;5;241m274\u001b[39m, \u001b[38;5;241m43\u001b[39m, \u001b[38;5;241m33\u001b[39m, \u001b[38;5;241m10\u001b[39m, \u001b[38;5;241m19\u001b[39m, \u001b[38;5;241m389\u001b[39m, \u001b[38;5;241m276\u001b[39m, \u001b[38;5;241m312\u001b[39m]\n\u001b[1;32m      5\u001b[0m \u001b[38;5;28;01massert\u001b[39;00m \u001b[38;5;28mlen\u001b[39m(weights) \u001b[38;5;241m==\u001b[39m \u001b[38;5;28mlen\u001b[39m(values)\n\u001b[0;32m----> 7\u001b[0m best_value, best_combi, tested_combi \u001b[38;5;241m=\u001b[39m \u001b[43mfind_best_result\u001b[49m\u001b[43m(\u001b[49m\u001b[43mmax_weight\u001b[49m\u001b[43m,\u001b[49m\u001b[43m \u001b[49m\u001b[43mweights\u001b[49m\u001b[43m,\u001b[49m\u001b[43m \u001b[49m\u001b[43mvalues\u001b[49m\u001b[43m)\u001b[49m\n\u001b[1;32m      8\u001b[0m stuff \u001b[38;5;241m=\u001b[39m \u001b[38;5;28mlist\u001b[39m(\u001b[38;5;28mzip\u001b[39m(weights, values))\n\u001b[1;32m      9\u001b[0m best_items \u001b[38;5;241m=\u001b[39m [stuff[i] \u001b[38;5;28;01mfor\u001b[39;00m i \u001b[38;5;129;01min\u001b[39;00m best_combi]\n",
      "Cell \u001b[0;32mIn[4], line 33\u001b[0m, in \u001b[0;36mfind_best_result\u001b[0;34m(max_weight, weights, values)\u001b[0m\n\u001b[1;32m     31\u001b[0m \u001b[38;5;28;01mfor\u001b[39;00m i \u001b[38;5;129;01min\u001b[39;00m combination:\n\u001b[1;32m     32\u001b[0m     final_weight \u001b[38;5;241m+\u001b[39m\u001b[38;5;241m=\u001b[39m weights[i]\n\u001b[0;32m---> 33\u001b[0m     final_value \u001b[38;5;241m+\u001b[39m\u001b[38;5;241m=\u001b[39m values[i]\n\u001b[1;32m     35\u001b[0m \u001b[38;5;28;01mif\u001b[39;00m final_weight \u001b[38;5;241m<\u001b[39m\u001b[38;5;241m=\u001b[39m max_weight \u001b[38;5;129;01mand\u001b[39;00m final_value \u001b[38;5;241m>\u001b[39m best_value:\n\u001b[1;32m     36\u001b[0m     best_value \u001b[38;5;241m=\u001b[39m final_value\n",
      "\u001b[0;31mKeyboardInterrupt\u001b[0m: "
     ]
    }
   ],
   "source": [
    "max_weight = 850\n",
    "weights = [7, 0, 30, 22, 80, 94, 11, 81, 70, 64, 59, 18, 0, 36, 3, 8, 15, 42, 9, 0, 42, 47, 52, 32, 26, 48, 55, 6, 29, 84, 2, 4, 18, 56, 7, 29, 93, 44, 71, 3, 86, 66, 31, 65, 0, 79, 20, 65, 52, 13]\n",
    "values = [360, 83, 59, 130, 431, 67, 230, 52, 93, 125, 670, 892, 600, 38, 48, 147, 78, 256, 63, 17, 120, 164, 432, 35, 92, 110, 22, 42, 50, 323, 514, 28, 87, 73, 78, 15, 26, 78, 210, 36, 85, 189, 274, 43, 33, 10, 19, 389, 276, 312]\n",
    "\n",
    "assert len(weights) == len(values)\n",
    "\n",
    "best_value, best_combi, tested_combi = find_best_result(max_weight, weights, values)\n",
    "stuff = list(zip(weights, values))\n",
    "best_items = [stuff[i] for i in best_combi]\n",
    "\n",
    "for item in best_items:\n",
    "    print(f\"{item[0]},{item[1]}\")\n",
    "\n",
    "\n",
    "#Programm ist seit 10 minuten am laufen, ich weiß leider nicht wo das problem liegen könnte. \n"
   ]
  }
 ],
 "metadata": {
  "kernelspec": {
   "display_name": "Python 3",
   "language": "python",
   "name": "python3"
  },
  "language_info": {
   "codemirror_mode": {
    "name": "ipython",
    "version": 3
   },
   "file_extension": ".py",
   "mimetype": "text/x-python",
   "name": "python",
   "nbconvert_exporter": "python",
   "pygments_lexer": "ipython3",
   "version": "3.12.7"
  },
  "orig_nbformat": 4
 },
 "nbformat": 4,
 "nbformat_minor": 2
}
