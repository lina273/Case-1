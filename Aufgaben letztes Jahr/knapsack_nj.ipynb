{
 "cells": [
  {
   "cell_type": "markdown",
   "metadata": {},
   "source": [
    "<table style=\"width: 100%\">\n",
    "    <tr style=\"background: #ffffff\">\n",
    "        <td style=\"padding-top:25px; width: 180px\">\n",
    "            <img src=\"https://mci.edu/templates/mci/images/logo.svg\" alt=\"Logo\">\n",
    "        </td>\n",
    "        <td style=\"width: 100%\">\n",
    "            <div style=\"width: 100%; text-align:right\"><font style=\"font-size:38px\"><b>Softwaredesign</b></font></div>\n",
    "            <div style=\"padding-top:0px; width: 100%; text-align:right\"><font size=\"4\"><b>WS 2023</b></font></div>\n",
    "        </td>\n",
    "    </tr>\n",
    "</table>\n",
    "\n",
    "---\n",
    "\n",
    "# Rucksack-Problem\n",
    "\n",
    "Lösen Sie das folgende Rucksack-Problem z.B. mit einem Brute-Force Algorithmus.\n",
    "\n",
    "Der Rucksack hat ein maximales Fassungsvermögen von 15kg.\n",
    "Die folgenden Gegenstände stehen zur Verfügung:\n",
    "- Gegenstand 1: 12kg, 4€\n",
    "- Gegenstand 2: 2kg, 2€\n",
    "- Gegenstand 3: 1kg, 1€\n",
    "- Gegenstand 4: 4kg, 10€\n",
    "- Gegenstand 5: 1kg, 2€\n",
    "\n",
    "\n"
   ]
  },
  {
   "cell_type": "code",
   "execution_count": 36,
   "metadata": {},
   "outputs": [],
   "source": [
    "# Startwerte\n",
    "\n",
    "max_weight = 15\n",
    "weights =  [12, 2, 1, 4, 1]\n",
    "values =  [4, 2, 1, 10, 2]"
   ]
  },
  {
   "cell_type": "markdown",
   "metadata": {},
   "source": [
    "## Darstellung als UML-Aktivitätsdiagramm\n",
    "\n",
    "Stellen Sie Ihnen Lösungsalgorithmus als UML-Aktivitätsdiagramm dar und fügen Sie das Bild in das Notebook ein.\n",
    "\n",
    "Laden Sie das Bild hierzu im Internet hoch (z.B. auf [imgur](https://imgur.com/)) und verlinken Sie es folgender Maßen, damit es im Notebook erscheint: `![](www.someurl.de/image.jpg)`\n",
    "\n",
    "![](Knapsack.svg)\n",
    "\n"
   ]
  },
  {
   "cell_type": "markdown",
   "metadata": {},
   "source": [
    "## Lösung als Python Code\n",
    "\n"
   ]
  },
  {
   "cell_type": "code",
   "execution_count": 12,
   "metadata": {},
   "outputs": [
    {
     "name": "stdout",
     "output_type": "stream",
     "text": [
      "Beste Kombination ist ((2, 2), (1, 1), (4, 10), (1, 2)). Gesamtgewicht: 8kg, Nutzwert: 15€.\n"
     ]
    },
    {
     "data": {
      "text/plain": [
       "'\\nhttps://imgur.com/AiW4uxR\\n\\n'"
      ]
     },
     "execution_count": 12,
     "metadata": {},
     "output_type": "execute_result"
    }
   ],
   "source": [
    "\n",
    "from itertools import combinations\n",
    "\n",
    "def brute_force(max_weight, items):\n",
    "    max_money = 0\n",
    "    \n",
    "    winner = None\n",
    "    for i in range(1, len(items) + 1):\n",
    "        for current_combination in combinations(items, i):\n",
    "            gewicht = sum(item[0] for item in current_combination)\n",
    "            wert = sum(item[1] for item in current_combination)\n",
    "            if gewicht <= max_weight and wert > max_money:\n",
    "                max_money = wert\n",
    "                winner = current_combination\n",
    "    return winner, max_money\n",
    "\n",
    "max_weight = 15\n",
    "items = [(12, 4), (2, 2), (1, 1), (4, 10), (1, 2)]\n",
    "winner, max_money = brute_force(max_weight, items)\n",
    "\n",
    "print(f\"Beste Kombination ist {winner}. Gesamtgewicht: {sum(item[0] for item in winner)}kg, Nutzwert: {max_money}€.\")\n",
    "\n",
    "\n",
    "'''\n",
    "https://imgur.com/AiW4uxR\n",
    "\n",
    "'''\n",
    "\n"
   ]
  },
  {
   "cell_type": "code",
   "execution_count": 13,
   "metadata": {},
   "outputs": [
    {
     "name": "stdout",
     "output_type": "stream",
     "text": [
      "Java\n",
      "14\n",
      "Python\n",
      "3\n",
      "JavaScript\n",
      "6\n"
     ]
    }
   ],
   "source": [
    "#Tipp: Die zip()-Funktion könnte hilfreich sein\n",
    "\n",
    "languages = ['Java', 'Python', 'JavaScript']\n",
    "versions = [14, 3, 6]\n",
    "\n",
    "for language, version in zip(languages, versions):\n",
    "    print(language)\n",
    "    print(version)\n"
   ]
  },
  {
   "cell_type": "code",
   "execution_count": 12,
   "metadata": {},
   "outputs": [],
   "source": [
    "# Tipp2: https://docs.python.org/3/library/itertools.html\n",
    "## Das itertools, kann Ihnen bei der Erstellung von Kombinationen helfen\n"
   ]
  }
 ],
 "metadata": {
  "kernelspec": {
   "display_name": "Python 3.10.11 64-bit (microsoft store)",
   "language": "python",
   "name": "python3"
  },
  "language_info": {
   "codemirror_mode": {
    "name": "ipython",
    "version": 3
   },
   "file_extension": ".py",
   "mimetype": "text/x-python",
   "name": "python",
   "nbconvert_exporter": "python",
   "pygments_lexer": "ipython3",
   "version": "3.11.7"
  },
  "orig_nbformat": 4,
  "vscode": {
   "interpreter": {
    "hash": "62c9f9b6c66864edd5299c8c6bca8c476f7af6985c4212f8d17f753b35884d59"
   }
  }
 },
 "nbformat": 4,
 "nbformat_minor": 2
}
