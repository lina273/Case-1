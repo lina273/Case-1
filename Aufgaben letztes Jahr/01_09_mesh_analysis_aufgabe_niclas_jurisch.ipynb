{
 "cells": [
  {
   "attachments": {},
   "cell_type": "markdown",
   "metadata": {},
   "source": [
    "<table style=\"width: 100%\">\n",
    "    <tr style=\"background: #ffffff\">\n",
    "        <td style=\"padding-top:25px; width: 180px\">\n",
    "            <img src=\"https://mci.edu/templates/mci/images/logo.svg\" alt=\"Logo\">\n",
    "        </td>\n",
    "        <td style=\"width: 100%\">\n",
    "            <div style=\"width: 100%; text-align:right\"><font style=\"font-size:38px\"><b>Softwaredesign</b></font></div>\n",
    "            <div style=\"padding-top:0px; width: 100%; text-align:right\"><font size=\"4\"><b>WS 2023</b></font></div>\n",
    "        </td>\n",
    "    </tr>\n",
    "</table>\n",
    "\n",
    "---\n",
    "\n",
    "# Netzwerkanalyse einer elektrischen Schaltung mit dem Maschenstromverfahren\n",
    "\n",
    "Mit Hilfe des Maschenstromverfahrens können die Ströme in einem elektrischen Netzwerk berechnet werden. Das Verfahren basiert auf der Anwendung des Kirchhoff'schen Maschengesetzes auf die einzelnen Maschen des Netzwerks. \n",
    "\n",
    "Im allgemeinen wird das Maschenstromverfahren in folgenden Schritten angewendet:\n",
    "1. Aufstellen der Maschengleichungen\n",
    "2. Aufstellen der Knotengleichungen\n",
    "3. Bilden eines Gleichungssystems\n",
    "4. Identifizieren von etwaigen linear abhängigen Gleichungen\n",
    "5. Linear abhägnige Gleichungen eliminieren\n",
    "6. Lösen des Gleichungssystems\n",
    "\n",
    "Das Gleichungssystem hat hierbei allgemein die Form:\n",
    "\n",
    "$\\boldsymbol{Z} \\, \\vec{I} = \\vec{U}$\n",
    "\n",
    "wobei $\\boldsymbol{Z}$ für die Matrix an Maschenimpedanzen, $\\vec{I}$ für den Spaltenvektor der Maschenströme und $\\vec{U}$ für den Spaltenvektor der Maschenspannungen steht.\n",
    "\n",
    "Bei einer reinen Betrachtung unter Gleichspannung vereinfacht sich die Matrix $\\boldsymbol{Z}$ zur Matrix der frequenzunabhängigen Maschenwiderstände $\\boldsymbol{R}$ und das Gleichungssystem hat die Form:\n",
    "\n",
    "$\\boldsymbol{R} \\, \\vec{I} = \\vec{U}$\n",
    "\n",
    "Das Lösen solch eines Gleichungssystems kann händisch erfolgen, ist jedoch bei komplexeren Schaltungen sehr aufwendig. Daher soll im Folgenden ein Programm entwickelt werden, welches die Berechnung der Maschenströme automatisiert.\n",
    "\n",
    "Da ein lineares Gleichungssystem gelöst werden soll, bietet sich natürlich die Verwendung der Bibliothek `numpy` an."
   ]
  },
  {
   "cell_type": "code",
   "execution_count": 15,
   "metadata": {},
   "outputs": [],
   "source": [
    "import numpy as np"
   ]
  },
  {
   "attachments": {},
   "cell_type": "markdown",
   "metadata": {},
   "source": [
    "### 1. & 2. Aufstellen der Maschen- & Knotengleichungen\n",
    "\n",
    "Für die Schaltung in folgender Abbildung können laut den Kirchhoff'schen Regeln folgende Maschen- und Knotengleichungen aufgestellt werden:\n",
    "\n",
    "<img style=\"background-color:white; padding:10px; width:40%\" src=\"mesh_analysis_circuit.png\"></img>\n",
    "\n",
    "$\\text{M1}: U_{R_2} + U_{R_5} + U_5 - U_{R_4} = 0$\n",
    "\n",
    "$\\text{M2}: U_{R_1} - U_{R_3} - U_5 - U_{R_5} = 0$\n",
    "\n",
    "$\\text{M3}: U_{R_4} + U_{R_3} - U_{R_0} - U_0 = 0$\n",
    "\n",
    "$\\text{K1}:  I_2 - I_1 - I_5 = 0$\n",
    "\n",
    "$\\text{K2}:  I_4 + I_5 - I_3 = 0$\n",
    "\n",
    "$\\text{K3}:  I_0 + I_1 + I_3 = 0$\n",
    "\n",
    "$\\text{K4}: -I_0 - I_2 - I_4 = 0$\n",
    "\n",
    "Nun müssen noch die bekannten Größen der Schaltung $R_0$ bis $R_5$, $U_0$ und $U_5$ definiert werden."
   ]
  },
  {
   "cell_type": "code",
   "execution_count": 16,
   "metadata": {},
   "outputs": [],
   "source": [
    "#Parameter\n",
    "R0 = 100 #in Ohm\n",
    "R1 = 120 #in Ohm\n",
    "R2 = 220 #in Ohm\n",
    "R3 = 330 #in Ohm\n",
    "R4 = 470 #in Ohm\n",
    "R5 = 560 #in Ohm\n",
    "U0 =  5  #in V\n",
    "U5 = 10  #in V"
   ]
  },
  {
   "attachments": {},
   "cell_type": "markdown",
   "metadata": {},
   "source": [
    "### 3. Bilden eines Gleichungssystems\n",
    "\n",
    "Aus den Maschen- und Knotengleichungen und den bekannten Parametern kann nun das Gleichugnssystem $\\boldsymbol{R} \\, \\vec{I} = \\vec{U}$ aufgestellt werden.\n",
    "\n",
    "Hierbei muss beachtet werden, dass die Maschenströme $I_0$ bis $I_5$ und die Maschenspannungen $U_0$ bis $U_5$ in der gleichen Reihenfolge in den Vektoren $\\vec{I}$ und $\\vec{U}$ auftreten, wie sie in den Maschen- und Knotengleichungen aufgeführt sind.\n",
    "Ebenso gilt hier natürlich der Zusammenhang $U_{R_i} = R_i \\, I_i$."
   ]
  },
  {
   "cell_type": "code",
   "execution_count": 17,
   "metadata": {},
   "outputs": [
    {
     "name": "stdout",
     "output_type": "stream",
     "text": [
      "[[   0   -1    1    0    0   -1]\n",
      " [   0    0    0   -1    1    1]\n",
      " [   1    1    0    1    0    0]\n",
      " [  -1    0   -1    0   -1    0]\n",
      " [   0    0  220    0 -470  560]\n",
      " [   0  120    0 -330    0 -560]\n",
      " [-100    0    0  330  470    0]]\n",
      "(7, 6)\n"
     ]
    }
   ],
   "source": [
    "R = np.array([[0,-1,1,0,0,-1],\n",
    "              [0,0,0,-1,1,1],\n",
    "              [1,1,0,1,0,0],\n",
    "              [-1,0,-1,0,-1,0],\n",
    "              [0,0,R2,0,-R4,R5],\n",
    "              [0,R1,0,-R3,0,-R5],\n",
    "              [-R0,0,0,R3,R4,0]])\n",
    "\n",
    "U = np.array([0,0,0,U5,U5,U0])\n",
    "\n",
    "print(R)\n",
    "print(R.shape)\n"
   ]
  },
  {
   "attachments": {},
   "cell_type": "markdown",
   "metadata": {},
   "source": [
    "### 4. & 5. Identifizieren und eliminieren von linear abhängigen Gleichungen\n",
    "\n",
    "In unserer Schaltung liegen 6 unbekannte Ströme vor ($I_0$ bis $I_5$) daher muss unser Gleichungssystem 6 Gleichungen enthalten. Da wir jedoch 7 Gleichungen aufgestellt haben, muss eine der Gleichungen linear abhängig sein.\n",
    "Dies kann auch aus der Anzahl an Zeilen und Spalten der Matrix $\\boldsymbol{R}$ (`R.shape`) bzw. an deren Rang (`np.linalg.matrix_rank(R)`) erkannt werden.\n",
    "\n",
    "Bei genauerem Betrachten der Knotengleichungn fällt auf, dass die Knotengleichung K4 die negative Summe der Knotengleichungen K1, K2 und K3 ist. Daher kann die Gleichung K4 eliminiert werden. Im `numpy` array `R` und im Vektor `U` kann dies mit der Funktion `np.delete(...)` erfolgen."
   ]
  },
  {
   "cell_type": "code",
   "execution_count": 18,
   "metadata": {},
   "outputs": [
    {
     "name": "stdout",
     "output_type": "stream",
     "text": [
      "(6, 6)\n",
      "[[   0   -1    1    0    0   -1]\n",
      " [   0    0    0   -1    1    1]\n",
      " [   1    1    0    1    0    0]\n",
      " [   0    0  220    0 -470  560]\n",
      " [   0  120    0 -330    0 -560]\n",
      " [-100    0    0  330  470    0]]\n"
     ]
    }
   ],
   "source": [
    "R = np.delete(R,3,0)\n",
    "print(R.shape)\n",
    "print(R)"
   ]
  },
  {
   "attachments": {},
   "cell_type": "markdown",
   "metadata": {},
   "source": [
    "### 6. Lösen des Gleichungssystems\n",
    "\n",
    "Das Gleichungssystem kann nun mit Hilfe der Funktion `numpy.linalg.solve()` gelöst werden."
   ]
  },
  {
   "cell_type": "code",
   "execution_count": 19,
   "metadata": {},
   "outputs": [
    {
     "name": "stdout",
     "output_type": "stream",
     "text": [
      "[-0.05636415  0.05921094  0.05571942 -0.00284678  0.00064473 -0.00349152]\n",
      "(6,)\n"
     ]
    }
   ],
   "source": [
    "I = np.linalg.solve(R,U)\n",
    "print(I)\n",
    "print(I.shape)"
   ]
  },
  {
   "cell_type": "markdown",
   "metadata": {},
   "source": [
    "Das Ergbnis für die Ströme sollte in diesem Fall der Vektor `[-0.015282    0.0181537   0.00587889 -0.0028717   0.00940311 -0.01227481]` sein.\n",
    "\n",
    "Dies setzt voraus, dass die Reihenfolge der Ströme & Spannungen konsistent mit den Maschen- und Knotengleichungen gewählt wurde."
   ]
  },
  {
   "cell_type": "code",
   "execution_count": 20,
   "metadata": {},
   "outputs": [
    {
     "name": "stdout",
     "output_type": "stream",
     "text": [
      "[-0.05636415  0.05921094  0.05571942 -0.00284678  0.00064473 -0.00349152]\n",
      "Relative error of the LSQ solution:\n",
      "[-4.46309656e-14  2.19824159e-14  7.54951657e-15 -1.61648472e-13\n",
      "  3.43058915e-13 -9.10382880e-15]\n"
     ]
    }
   ],
   "source": [
    "#Für überbestimmte Gleichungssysteme kann auch eine Lösung im Sinne der kleinsten Quadrate berechnet werden\n",
    "\n",
    "#Hier müssen die originalen Werte für R und U eingesetzt werden\n",
    "# R_orig und U_orig sind die Matritzen/Vektoren bevor die linear abhängige Zeile entfernt wurde\n",
    "I_lsq = np.linalg.lstsq(R, U, rcond=None)[0]\n",
    "print(I_lsq)\n",
    "\n",
    "#Diese Lösung ist aber für den aktuellen Fall nicht besonders genau!\n",
    "relative_error = 1 - (I / I_lsq)\n",
    "print(F\"Relative error of the LSQ solution:\\n{relative_error}\")"
   ]
  },
  {
   "cell_type": "markdown",
   "metadata": {},
   "source": [
    "Hier sollte ein relativ großer Fehler von `[-0.47036898  0.02452364  0.25125603  0.30772249  0.17076191 -0.07440576]` für die jeweiligen Strömme auftreten, da sich überbestimmte Gleichungssystem nicht exakt lösen lassen.\n",
    "\n",
    "Die hier gewählte Variante der Näherungslösung ist in diesem Fall suboptimal."
   ]
  },
  {
   "attachments": {},
   "cell_type": "markdown",
   "metadata": {},
   "source": [
    "Weiters können nun auch die Spannugnsabfälle über die Widerstände $R_0$ bis $R_5$ berechnet werden.\n",
    "\n",
    "Hierzu wird eine neue Diagonalmatrix aufgestellt, welche die Widerstände $R_0$ bis $R_5$ auf der Hauptdiagonalen enthält. Diese Matrix wird mit dem Vektor der Maschenströme multipliziert und es ergibt sich der Vektor der Spannungsabfälle $\\vec{U}_R$.\n",
    "\n",
    "$\n",
    "\\begin{bmatrix}\n",
    "    R_0 & 0 & 0 & 0 & 0 & 0 \\\\\n",
    "    0 & R_1 & 0 & 0 & 0 & 0 \\\\\n",
    "    0 & 0 & R_2 & 0 & 0 & 0 \\\\\n",
    "    0 & 0 & 0 & R_3 & 0 & 0 \\\\\n",
    "    0 & 0 & 0 & 0 & R_4 & 0 \\\\\n",
    "    0 & 0 & 0 & 0 & 0 & R_5 \\\\\n",
    "\\end{bmatrix}\n",
    "\\vec{I} = \\vec{U}_R\n",
    "$\n",
    "\n",
    "Um sich hier möglichst viel Tipparbeit zu sparen kann die Funktion `np.diag(...)` verwendet werden."
   ]
  },
  {
   "cell_type": "code",
   "execution_count": 21,
   "metadata": {},
   "outputs": [
    {
     "name": "stdout",
     "output_type": "stream",
     "text": [
      "[[100   0   0   0   0   0]\n",
      " [  0 120   0   0   0   0]\n",
      " [  0   0 220   0   0   0]\n",
      " [  0   0   0 330   0   0]\n",
      " [  0   0   0   0 470   0]\n",
      " [  0   0   0   0   0 560]]\n",
      "[-5.63641517  7.10531234 12.25827249 -0.93943887  0.3030237  -1.9552488 ]\n"
     ]
    }
   ],
   "source": [
    "\n",
    "R_original = np.array([R0,R1,R2,R3,R4,R5])\n",
    "R_diag = np.diag(R_original)\n",
    "U_R = np.dot(R_diag,I)\n",
    "print(R_diag)\n",
    "print(U_R)"
   ]
  },
  {
   "attachments": {},
   "cell_type": "markdown",
   "metadata": {},
   "source": [
    "### Für Interessierte: LTSpice-Simulation der Schaltung aus Python heraus\n",
    "\n",
    "Falls Sie an weiteren Anwendungen von Python in Kombination mit anderen Softwarepaketen interessiert sind, können Sie sich gerne mit den folgenden Themen beschäftigen.\n",
    "\n",
    "Um komplexere Schaltungen zu simulieren werden üblicherweise Simulationsprogramme wie beispielsweise [LTSpice](https://de.wikipedia.org/wiki/LTspice) verwendet.\n",
    "Python bietet aber auch die Möglichkeit über das `PyLTSpice` package LTSpice-Simulationen zu starten, und die Ergebnisse auszuwerten. Hier können auch zuvor im Python-Code Werte und Paramter gesetzt werden, welche dann in der Simulation verwendet werden.\n",
    "\n",
    "Hierfür muss lokal sowohl [LTSpice](https://www.analog.com/en/design-center/design-tools-and-calculators/ltspice-simulator.html) als auch das `PyLTSpice` package installiert werden. Die Installation von `PyLTSpice` erfolgt wie gewohnt über den Befehl `pip install PyLTSpice`."
   ]
  },
  {
   "cell_type": "code",
   "execution_count": 22,
   "metadata": {},
   "outputs": [],
   "source": [
    "from PyLTSpice import SimRunner, SpiceEditor, RawRead"
   ]
  },
  {
   "attachments": {},
   "cell_type": "markdown",
   "metadata": {},
   "source": [
    "Es kann ein Template für die LTSpice-Simulation erstellt werden (`mesh_analysis_ltspice.asc`), dessen Parameter dann in Python gesetzt bzw. verändert werden können."
   ]
  },
  {
   "cell_type": "code",
   "execution_count": 23,
   "metadata": {},
   "outputs": [
    {
     "ename": "FileNotFoundError",
     "evalue": "[WinError 2] Das System kann die angegebene Datei nicht finden",
     "output_type": "error",
     "traceback": [
      "\u001b[1;31m---------------------------------------------------------------------------\u001b[0m",
      "\u001b[1;31mFileNotFoundError\u001b[0m                         Traceback (most recent call last)",
      "\u001b[1;32mc:\\Users\\nicla\\Downloads\\01_09_Python Grundlagen - Netzwerkanalyse mittels Maschenstromverfahren\\01_09_mesh_analysis_aufgabe.ipynb Cell 19\u001b[0m line \u001b[0;36m3\n\u001b[0;32m      <a href='vscode-notebook-cell:/c%3A/Users/nicla/Downloads/01_09_Python%20Grundlagen%20-%20Netzwerkanalyse%20mittels%20Maschenstromverfahren/01_09_mesh_analysis_aufgabe.ipynb#X24sZmlsZQ%3D%3D?line=0'>1</a>\u001b[0m runner \u001b[39m=\u001b[39m SimRunner(output_folder\u001b[39m=\u001b[39m\u001b[39m'\u001b[39m\u001b[39m./\u001b[39m\u001b[39m'\u001b[39m)\n\u001b[1;32m----> <a href='vscode-notebook-cell:/c%3A/Users/nicla/Downloads/01_09_Python%20Grundlagen%20-%20Netzwerkanalyse%20mittels%20Maschenstromverfahren/01_09_mesh_analysis_aufgabe.ipynb#X24sZmlsZQ%3D%3D?line=2'>3</a>\u001b[0m netlist \u001b[39m=\u001b[39m SpiceEditor(\u001b[39m\"\u001b[39;49m\u001b[39mmesh_analysis_ltspice.asc\u001b[39;49m\u001b[39m\"\u001b[39;49m) \u001b[39m#Create the .net list for the simulation from the *.asc file\u001b[39;00m\n\u001b[0;32m      <a href='vscode-notebook-cell:/c%3A/Users/nicla/Downloads/01_09_Python%20Grundlagen%20-%20Netzwerkanalyse%20mittels%20Maschenstromverfahren/01_09_mesh_analysis_aufgabe.ipynb#X24sZmlsZQ%3D%3D?line=3'>4</a>\u001b[0m netlist_name \u001b[39m=\u001b[39m netlist\u001b[39m.\u001b[39mnetlist_file\u001b[39m.\u001b[39mname\n\u001b[0;32m      <a href='vscode-notebook-cell:/c%3A/Users/nicla/Downloads/01_09_Python%20Grundlagen%20-%20Netzwerkanalyse%20mittels%20Maschenstromverfahren/01_09_mesh_analysis_aufgabe.ipynb#X24sZmlsZQ%3D%3D?line=5'>6</a>\u001b[0m netlist\u001b[39m.\u001b[39mset_component_value(\u001b[39m'\u001b[39m\u001b[39mR0\u001b[39m\u001b[39m'\u001b[39m, \u001b[39mstr\u001b[39m(R0))\n",
      "File \u001b[1;32m~\\AppData\\Local\\Packages\\PythonSoftwareFoundation.Python.3.11_qbz5n2kfra8p0\\LocalCache\\local-packages\\Python311\\site-packages\\PyLTSpice\\editor\\spice_editor.py:33\u001b[0m, in \u001b[0;36mSpiceEditor.__init__\u001b[1;34m(self, netlist_file, encoding, create_blank)\u001b[0m\n\u001b[0;32m     31\u001b[0m netlist_file \u001b[39m=\u001b[39m Path(netlist_file)\n\u001b[0;32m     32\u001b[0m \u001b[39mif\u001b[39;00m netlist_file\u001b[39m.\u001b[39msuffix \u001b[39m==\u001b[39m \u001b[39m\"\u001b[39m\u001b[39m.asc\u001b[39m\u001b[39m\"\u001b[39m:\n\u001b[1;32m---> 33\u001b[0m     LTspice\u001b[39m.\u001b[39;49mcreate_netlist(netlist_file)\n\u001b[0;32m     34\u001b[0m     netlist_file \u001b[39m=\u001b[39m netlist_file\u001b[39m.\u001b[39mwith_suffix(\u001b[39m\"\u001b[39m\u001b[39m.net\u001b[39m\u001b[39m\"\u001b[39m)\n\u001b[0;32m     35\u001b[0m \u001b[39msuper\u001b[39m()\u001b[39m.\u001b[39m\u001b[39m__init__\u001b[39m(netlist_file, encoding, create_blank)\n",
      "File \u001b[1;32m~\\AppData\\Local\\Packages\\PythonSoftwareFoundation.Python.3.11_qbz5n2kfra8p0\\LocalCache\\local-packages\\Python311\\site-packages\\spicelib\\simulators\\ltspice_simulator.py:191\u001b[0m, in \u001b[0;36mLTspice.create_netlist\u001b[1;34m(cls, circuit_file, cmd_line_switches)\u001b[0m\n\u001b[0;32m    189\u001b[0m     \u001b[39mNotImplementedError\u001b[39;00m(\u001b[39m\"\u001b[39m\u001b[39mIn this platform LTSpice doesn\u001b[39m\u001b[39m'\u001b[39m\u001b[39mt have netlist generation capabilities\u001b[39m\u001b[39m\"\u001b[39m)\n\u001b[0;32m    190\u001b[0m cmd_netlist \u001b[39m=\u001b[39m \u001b[39mcls\u001b[39m\u001b[39m.\u001b[39mspice_exe \u001b[39m+\u001b[39m [\u001b[39m'\u001b[39m\u001b[39m-netlist\u001b[39m\u001b[39m'\u001b[39m] \u001b[39m+\u001b[39m [circuit_file\u001b[39m.\u001b[39mas_posix()] \u001b[39m+\u001b[39m cmd_line_switches\n\u001b[1;32m--> 191\u001b[0m error \u001b[39m=\u001b[39m run_function(cmd_netlist)\n\u001b[0;32m    193\u001b[0m \u001b[39mif\u001b[39;00m error \u001b[39m==\u001b[39m \u001b[39m0\u001b[39m:\n\u001b[0;32m    194\u001b[0m     netlist \u001b[39m=\u001b[39m circuit_file\u001b[39m.\u001b[39mwith_suffix(\u001b[39m'\u001b[39m\u001b[39m.net\u001b[39m\u001b[39m'\u001b[39m)\n",
      "File \u001b[1;32m~\\AppData\\Local\\Packages\\PythonSoftwareFoundation.Python.3.11_qbz5n2kfra8p0\\LocalCache\\local-packages\\Python311\\site-packages\\spicelib\\sim\\simulator.py:31\u001b[0m, in \u001b[0;36mrun_function\u001b[1;34m(command, timeout)\u001b[0m\n\u001b[0;32m     28\u001b[0m \u001b[39mdef\u001b[39;00m \u001b[39mrun_function\u001b[39m(command, timeout\u001b[39m=\u001b[39m\u001b[39mNone\u001b[39;00m):\n\u001b[0;32m     29\u001b[0m \u001b[39m    \u001b[39m\u001b[39m\"\"\"Normalizing OS subprocess function calls between different platforms. This function is used for python 3.6\u001b[39;00m\n\u001b[0;32m     30\u001b[0m \u001b[39m    and higher versions.\"\"\"\u001b[39;00m\n\u001b[1;32m---> 31\u001b[0m     result \u001b[39m=\u001b[39m subprocess\u001b[39m.\u001b[39;49mrun(command, timeout\u001b[39m=\u001b[39;49mtimeout)\n\u001b[0;32m     32\u001b[0m     \u001b[39mreturn\u001b[39;00m result\u001b[39m.\u001b[39mreturncode\n",
      "File \u001b[1;32mC:\\Program Files\\WindowsApps\\PythonSoftwareFoundation.Python.3.11_3.11.1776.0_x64__qbz5n2kfra8p0\\Lib\\subprocess.py:548\u001b[0m, in \u001b[0;36mrun\u001b[1;34m(input, capture_output, timeout, check, *popenargs, **kwargs)\u001b[0m\n\u001b[0;32m    545\u001b[0m     kwargs[\u001b[39m'\u001b[39m\u001b[39mstdout\u001b[39m\u001b[39m'\u001b[39m] \u001b[39m=\u001b[39m PIPE\n\u001b[0;32m    546\u001b[0m     kwargs[\u001b[39m'\u001b[39m\u001b[39mstderr\u001b[39m\u001b[39m'\u001b[39m] \u001b[39m=\u001b[39m PIPE\n\u001b[1;32m--> 548\u001b[0m \u001b[39mwith\u001b[39;00m Popen(\u001b[39m*\u001b[39;49mpopenargs, \u001b[39m*\u001b[39;49m\u001b[39m*\u001b[39;49mkwargs) \u001b[39mas\u001b[39;00m process:\n\u001b[0;32m    549\u001b[0m     \u001b[39mtry\u001b[39;00m:\n\u001b[0;32m    550\u001b[0m         stdout, stderr \u001b[39m=\u001b[39m process\u001b[39m.\u001b[39mcommunicate(\u001b[39minput\u001b[39m, timeout\u001b[39m=\u001b[39mtimeout)\n",
      "File \u001b[1;32mC:\\Program Files\\WindowsApps\\PythonSoftwareFoundation.Python.3.11_3.11.1776.0_x64__qbz5n2kfra8p0\\Lib\\subprocess.py:1026\u001b[0m, in \u001b[0;36mPopen.__init__\u001b[1;34m(self, args, bufsize, executable, stdin, stdout, stderr, preexec_fn, close_fds, shell, cwd, env, universal_newlines, startupinfo, creationflags, restore_signals, start_new_session, pass_fds, user, group, extra_groups, encoding, errors, text, umask, pipesize, process_group)\u001b[0m\n\u001b[0;32m   1022\u001b[0m         \u001b[39mif\u001b[39;00m \u001b[39mself\u001b[39m\u001b[39m.\u001b[39mtext_mode:\n\u001b[0;32m   1023\u001b[0m             \u001b[39mself\u001b[39m\u001b[39m.\u001b[39mstderr \u001b[39m=\u001b[39m io\u001b[39m.\u001b[39mTextIOWrapper(\u001b[39mself\u001b[39m\u001b[39m.\u001b[39mstderr,\n\u001b[0;32m   1024\u001b[0m                     encoding\u001b[39m=\u001b[39mencoding, errors\u001b[39m=\u001b[39merrors)\n\u001b[1;32m-> 1026\u001b[0m     \u001b[39mself\u001b[39;49m\u001b[39m.\u001b[39;49m_execute_child(args, executable, preexec_fn, close_fds,\n\u001b[0;32m   1027\u001b[0m                         pass_fds, cwd, env,\n\u001b[0;32m   1028\u001b[0m                         startupinfo, creationflags, shell,\n\u001b[0;32m   1029\u001b[0m                         p2cread, p2cwrite,\n\u001b[0;32m   1030\u001b[0m                         c2pread, c2pwrite,\n\u001b[0;32m   1031\u001b[0m                         errread, errwrite,\n\u001b[0;32m   1032\u001b[0m                         restore_signals,\n\u001b[0;32m   1033\u001b[0m                         gid, gids, uid, umask,\n\u001b[0;32m   1034\u001b[0m                         start_new_session, process_group)\n\u001b[0;32m   1035\u001b[0m \u001b[39mexcept\u001b[39;00m:\n\u001b[0;32m   1036\u001b[0m     \u001b[39m# Cleanup if the child failed starting.\u001b[39;00m\n\u001b[0;32m   1037\u001b[0m     \u001b[39mfor\u001b[39;00m f \u001b[39min\u001b[39;00m \u001b[39mfilter\u001b[39m(\u001b[39mNone\u001b[39;00m, (\u001b[39mself\u001b[39m\u001b[39m.\u001b[39mstdin, \u001b[39mself\u001b[39m\u001b[39m.\u001b[39mstdout, \u001b[39mself\u001b[39m\u001b[39m.\u001b[39mstderr)):\n",
      "File \u001b[1;32mC:\\Program Files\\WindowsApps\\PythonSoftwareFoundation.Python.3.11_3.11.1776.0_x64__qbz5n2kfra8p0\\Lib\\subprocess.py:1538\u001b[0m, in \u001b[0;36mPopen._execute_child\u001b[1;34m(self, args, executable, preexec_fn, close_fds, pass_fds, cwd, env, startupinfo, creationflags, shell, p2cread, p2cwrite, c2pread, c2pwrite, errread, errwrite, unused_restore_signals, unused_gid, unused_gids, unused_uid, unused_umask, unused_start_new_session, unused_process_group)\u001b[0m\n\u001b[0;32m   1536\u001b[0m \u001b[39m# Start the process\u001b[39;00m\n\u001b[0;32m   1537\u001b[0m \u001b[39mtry\u001b[39;00m:\n\u001b[1;32m-> 1538\u001b[0m     hp, ht, pid, tid \u001b[39m=\u001b[39m _winapi\u001b[39m.\u001b[39;49mCreateProcess(executable, args,\n\u001b[0;32m   1539\u001b[0m                              \u001b[39m# no special security\u001b[39;49;00m\n\u001b[0;32m   1540\u001b[0m                              \u001b[39mNone\u001b[39;49;00m, \u001b[39mNone\u001b[39;49;00m,\n\u001b[0;32m   1541\u001b[0m                              \u001b[39mint\u001b[39;49m(\u001b[39mnot\u001b[39;49;00m close_fds),\n\u001b[0;32m   1542\u001b[0m                              creationflags,\n\u001b[0;32m   1543\u001b[0m                              env,\n\u001b[0;32m   1544\u001b[0m                              cwd,\n\u001b[0;32m   1545\u001b[0m                              startupinfo)\n\u001b[0;32m   1546\u001b[0m \u001b[39mfinally\u001b[39;00m:\n\u001b[0;32m   1547\u001b[0m     \u001b[39m# Child is launched. Close the parent's copy of those pipe\u001b[39;00m\n\u001b[0;32m   1548\u001b[0m     \u001b[39m# handles that only the child should have open.  You need\u001b[39;00m\n\u001b[1;32m   (...)\u001b[0m\n\u001b[0;32m   1551\u001b[0m     \u001b[39m# pipe will not close when the child process exits and the\u001b[39;00m\n\u001b[0;32m   1552\u001b[0m     \u001b[39m# ReadFile will hang.\u001b[39;00m\n\u001b[0;32m   1553\u001b[0m     \u001b[39mself\u001b[39m\u001b[39m.\u001b[39m_close_pipe_fds(p2cread, p2cwrite,\n\u001b[0;32m   1554\u001b[0m                          c2pread, c2pwrite,\n\u001b[0;32m   1555\u001b[0m                          errread, errwrite)\n",
      "\u001b[1;31mFileNotFoundError\u001b[0m: [WinError 2] Das System kann die angegebene Datei nicht finden"
     ]
    }
   ],
   "source": [
    "runner = SimRunner(output_folder='./')\n",
    "\n",
    "netlist = SpiceEditor(\"mesh_analysis_ltspice.asc\") #Create the .net list for the simulation from the *.asc file\n",
    "netlist_name = netlist.netlist_file.name\n",
    "\n",
    "netlist.set_component_value('R0', str(R0))\n",
    "netlist.set_component_value('R1', str(R1))\n",
    "netlist.set_component_value('R2', str(R2))\n",
    "netlist.set_component_value('R3', str(R3))\n",
    "netlist.set_component_value('R4', str(R4))\n",
    "netlist.set_component_value('R5', str(R5))\n",
    "\n",
    "#voltages are labeled with V in LTSpice\n",
    "netlist.set_component_value('V0', str(U0))\n",
    "netlist.set_component_value('V5', str(U5))\n",
    "\n",
    "netlist.add_instructions(\".op\") #DC operating point analysis"
   ]
  },
  {
   "attachments": {},
   "cell_type": "markdown",
   "metadata": {},
   "source": [
    "Sobald die Schaltungsbeschreibung in Form der `netlist` erstellt wurde, kann diese mit Hilfe der Funktion `run_now(...)` ausgeführt werden."
   ]
  },
  {
   "cell_type": "code",
   "execution_count": null,
   "metadata": {},
   "outputs": [
    {
     "ename": "NameError",
     "evalue": "name 'netlist' is not defined",
     "output_type": "error",
     "traceback": [
      "\u001b[1;31m---------------------------------------------------------------------------\u001b[0m",
      "\u001b[1;31mNameError\u001b[0m                                 Traceback (most recent call last)",
      "\u001b[1;32mc:\\Users\\nicla\\Downloads\\01_09_Python Grundlagen - Netzwerkanalyse mittels Maschenstromverfahren\\01_09_mesh_analysis_aufgabe.ipynb Cell 21\u001b[0m line \u001b[0;36m1\n\u001b[1;32m----> <a href='vscode-notebook-cell:/c%3A/Users/nicla/Downloads/01_09_Python%20Grundlagen%20-%20Netzwerkanalyse%20mittels%20Maschenstromverfahren/01_09_mesh_analysis_aufgabe.ipynb#X26sZmlsZQ%3D%3D?line=0'>1</a>\u001b[0m raw_file, log_file \u001b[39m=\u001b[39m runner\u001b[39m.\u001b[39mrun_now(netlist, run_filename\u001b[39m=\u001b[39mnetlist_name)\n\u001b[0;32m      <a href='vscode-notebook-cell:/c%3A/Users/nicla/Downloads/01_09_Python%20Grundlagen%20-%20Netzwerkanalyse%20mittels%20Maschenstromverfahren/01_09_mesh_analysis_aufgabe.ipynb#X26sZmlsZQ%3D%3D?line=1'>2</a>\u001b[0m runner\u001b[39m.\u001b[39mwait_completion()\n",
      "\u001b[1;31mNameError\u001b[0m: name 'netlist' is not defined"
     ]
    }
   ],
   "source": [
    "raw_file, log_file = runner.run_now(netlist, run_filename=netlist_name)\n",
    "runner.wait_completion()"
   ]
  },
  {
   "attachments": {},
   "cell_type": "markdown",
   "metadata": {},
   "source": [
    "Sobald die Simulation abgeschlossen ist, können die Ergebnisse aus der `*.raw`-Datei ausgelesen werden. Im Fall der \"DC operating point analysis\" werden die Spannungen und Ströme für den definierten DC-Fall betrachtet. Diese können über ihren Namen mit Hilfe der Funktion `get_trace(...)` ausgelesen werden."
   ]
  },
  {
   "cell_type": "code",
   "execution_count": null,
   "metadata": {},
   "outputs": [],
   "source": [
    "raw = RawRead(raw_file)\n",
    "\n",
    "#extract results with the specified names\n",
    "names = ['I(R0)', 'I(R1)', 'I(R2)', 'I(R3)', 'I(R4)', 'I(R5)']\n",
    "currents = []\n",
    "for i, name in enumerate(names):\n",
    "    currents.append(raw.get_trace(name))\n",
    "\n",
    "I_ltspice = np.array(currents).ravel()\n",
    "print(I_ltspice)"
   ]
  },
  {
   "attachments": {},
   "cell_type": "markdown",
   "metadata": {},
   "source": [
    "Um zu vergleichen wie genau die Ergebnisse von LTSpice und unserer Lösung mittels Maschenstromverfahren wirklich sind, wird der relative Fehler zwischen beiden Größen bestimmt. \n",
    "\n",
    "Hierfür muss jedoch darauf geachtet werden, dass für das Maschenstromverfahren die Vorzeichen der Ströme von der eingezeichneten Richtung abhängen. Bei den Ergebnissen in LTSpice hängen diese vom definierten Massepotenzial ab, und sind damit nicht zwangsläufig ident zu jenen des Maschenstromverfahrens"
   ]
  },
  {
   "cell_type": "code",
   "execution_count": null,
   "metadata": {},
   "outputs": [],
   "source": [
    "relative_error_ltspice = 1 - (abs(I) / abs(I_ltspice))\n",
    "print(F\"Relative error of the LTSpice simulation:\\n{relative_error_ltspice}\")"
   ]
  }
 ],
 "metadata": {
  "kernelspec": {
   "display_name": ".venv",
   "language": "python",
   "name": "python3"
  },
  "language_info": {
   "codemirror_mode": {
    "name": "ipython",
    "version": 3
   },
   "file_extension": ".py",
   "mimetype": "text/x-python",
   "name": "python",
   "nbconvert_exporter": "python",
   "pygments_lexer": "ipython3",
   "version": "3.11.6"
  },
  "orig_nbformat": 4
 },
 "nbformat": 4,
 "nbformat_minor": 2
}
