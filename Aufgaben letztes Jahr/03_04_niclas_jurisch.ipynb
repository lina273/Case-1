{
 "cells": [
  {
   "cell_type": "markdown",
   "metadata": {},
   "source": [
    "<table style=\"width: 100%\">\n",
    "    <tr style=\"background: #ffffff\">\n",
    "        <td style=\"padding-top:25px; width: 180px\">\n",
    "            <img src=\"https://mci.edu/templates/mci/images/logo.svg\" alt=\"Logo\">\n",
    "        </td>\n",
    "        <td style=\"width: 100%\">\n",
    "            <div style=\"width: 100%; text-align:right\"><font style=\"font-size:38px\"><b>Softwaredesign</b></font></div>\n",
    "            <div style=\"padding-top:0px; width: 100%; text-align:right\"><font size=\"4\"><b>WS 2023</b></font></div>\n",
    "        </td>\n",
    "    </tr>\n",
    "</table>\n",
    "\n",
    "---\n",
    "\n",
    "# Majority Vote Algorithm\n",
    "\n",
    "Implementieren Sie einen Algorithmus mit dem bestimmt werden kann, ob in einer Liste ein Element mit einer absoluten Mehrheit existiert.\n",
    "Damit dies der Fall ist, muss es mindestens $\\frac{n}{2}$-mal vorkommen, wobei $n$ die Anzahl der Elemente in der Liste ist. \n",
    "Ihr Algorithmus soll, falls so ein Element existiert zurück geben um welches Element es sich handelt. Falls kein solches Element existiert soll `None` zurück gegeben werden.\n",
    "\n",
    "## Testdaten\n",
    "Zum Testen werden Sie ihren Algorithmus auf kurze Listen anwenden.\n",
    "```Python\n",
    "my_list   = [2, 8, 7, 4, 1, 5, 2, 3, 1, 2, 2]\n",
    "my_list_2 = [2, 8, 7, 2, 2, 5, 2, 3, 1, 2, 2]\n",
    "```\n",
    "Für `my_list` ist keine absolute Mehrheit vorhanden, ihr Algorithmus soll daher `None` zurück geben.\n",
    "Für `my_list_2` ist die absolute Mehrheit `2`, ihr Algorithmus soll daher `2` zurück geben.\n",
    "\n",
    "## Echte Daten\n",
    "Für den tatsächlichen Fall soll der Algorithmus aber auf Daten angewendet werden, die den gültig abgegebenen Stimmen bei zwei Nationalratswahlen in Österreich entsprechen. Die Länge dieser Listen beläuft sich daher auf ca. 4.8 Millionen Elemente.\n",
    "\n",
    "Dies setzt voraus, dass Sie die Zeitkomplexität Ihres Algorithmus berücksichtigen und hier eine effizient Implementierung wählen. Es lässt sich hier eine Lösung finden die in linearer Zeit ($\\mathcal{O}(n)$) ausgeführt werden kann."
   ]
  },
  {
   "cell_type": "markdown",
   "metadata": {},
   "source": [
    "---\n",
    "## Beginn der Setup-Code-Blöcke\n",
    "Hier werden Daten und Hilfsfunktionen für Sie definiert. Sie müssen diese nicht verstehen, können aber gerne einen Blick darauf werfen.\n",
    "\n",
    "Sie beginnen mit ihrere Implementierung weiter unten im Notebook ab der Überschfit \"Beginn der eigentlichen Implementierung\"."
   ]
  },
  {
   "cell_type": "code",
   "execution_count": 1,
   "metadata": {},
   "outputs": [],
   "source": [
    "import random"
   ]
  },
  {
   "cell_type": "markdown",
   "metadata": {},
   "source": [
    "### Generieren der Testdaten der Nationalratswahl 2019\n",
    "Quelle: https://www.bmi.gv.at/412/Nationalratswahlen/Nationalratswahl_2019/start.aspx  \n",
    "Fiktive Stimmenliste für die Nationalratswahl 2019. Die absolute Anzahl an Stimmen für jede der gelisteten Parteien ist korrekt, jedoch sind die Stimmen und deren Reihenfolge in der Liste fiktiv.  \n",
    "Bei dieser Wahl wurde keine absolute Mehrheit erreicht, daher soll Ihr Algorithmus `None` zurück geben."
   ]
  },
  {
   "cell_type": "code",
   "execution_count": 2,
   "metadata": {},
   "outputs": [
    {
     "name": "stdout",
     "output_type": "stream",
     "text": [
      "Anzahl an Stimmen: 4777246 für 13 Parteien\n"
     ]
    }
   ],
   "source": [
    "parties = [\"ÖVP\", \"SPÖ\", \"FPÖ\", \"NEOS\", \"JETZT\", \"GRÜNE\", \"KPÖ\", \"WANDL\", \"BZÖ\", \"BIER\", \"CPÖ\", \"GILT\", \"SLP\"]\n",
    "amounts = [1789417, 1011868, 772666, 387124, 89169, 664055, 32736, 22168, 760, 4946, 260, 1767, 310]\n",
    "\n",
    "votes_2019 = []\n",
    "for i, amount in enumerate(amounts):\n",
    "    votes_2019.extend([parties[i] for x in range(amount)])\n",
    "\n",
    "random.shuffle(votes_2019)\n",
    "print(F\"Anzahl an Stimmen: {len(votes_2019)} für {len(parties)} Parteien\")"
   ]
  },
  {
   "cell_type": "markdown",
   "metadata": {},
   "source": [
    "### Generieren der Testdaten der Nationalratswahl 1979\n",
    "Quelle: https://www.bmi.gv.at/412/Nationalratswahlen/Nationalratswahl_1979/start.aspx  \n",
    "Fiktive Stimmenliste für die Nationalratswahl 1979. Die absolute Anzahl an Stimmen für jede der gelisteten Parteien ist korrekt, jedoch sind die Stimmen und deren Reihenfolge in der Liste fiktiv.  \n",
    "Dies war die Letzte Nationalratswahl mit absoluter Mehrheit, in diesem Fall für die SPÖ. Ihr Algorithmus soll daher `SPÖ` zurück geben."
   ]
  },
  {
   "cell_type": "code",
   "execution_count": 3,
   "metadata": {},
   "outputs": [
    {
     "name": "stdout",
     "output_type": "stream",
     "text": [
      "Anzahl an Stimmen: 4729251 für 5 Parteien\n"
     ]
    }
   ],
   "source": [
    "parties = [\"ÖVP\", \"SPÖ\", \"FPÖ\", \"KPÖ\", \"CSA\"]\n",
    "amounts = [1981739, 2413226, 286743, 45280, 2263]\n",
    "\n",
    "votes_1979 = []\n",
    "for i, amount in enumerate(amounts):\n",
    "    votes_1979.extend([parties[i] for x in range(amount)])\n",
    "\n",
    "random.shuffle(votes_1979)\n",
    "print(F\"Anzahl an Stimmen: {len(votes_1979)} für {len(parties)} Parteien\")"
   ]
  },
  {
   "cell_type": "markdown",
   "metadata": {},
   "source": [
    "## Definition der simplen Testfälle"
   ]
  },
  {
   "cell_type": "code",
   "execution_count": 4,
   "metadata": {},
   "outputs": [],
   "source": [
    "my_list = [2, 8, 7, 4, 1, 5, 2, 3, 1, 2, 2]\n",
    "my_list_2 = [2, 8, 7, 2, 2, 5, 2, 3, 1, 2, 2]"
   ]
  },
  {
   "cell_type": "markdown",
   "metadata": {},
   "source": [
    "### Löschen von Hilfsvariablen\n",
    "Die Hilfsvariablen die zur Generierung der Listen genutzt wurden werden gelöscht, da diese für die Aufgabenstellung nicht genutzt werden sollen."
   ]
  },
  {
   "cell_type": "code",
   "execution_count": 5,
   "metadata": {},
   "outputs": [],
   "source": [
    "del parties, amounts, i, amount"
   ]
  },
  {
   "cell_type": "markdown",
   "metadata": {},
   "source": [
    "### Timing-Funktion\n",
    "\n",
    "Diese Funktion stellt einen \"Decorator\" dar, der die Laufzeit einer Funktion misst und ausgibt.\n",
    "\n",
    "Die Verwendung sieht wie folgt aus:\n",
    "```Python\n",
    "@timeit\n",
    "def my_function():\n",
    "    # do something\n",
    "    pass\n",
    "\n",
    "#Funktionsaufruf wie gehabt:\n",
    "my_function()\n",
    "```"
   ]
  },
  {
   "cell_type": "code",
   "execution_count": 6,
   "metadata": {},
   "outputs": [],
   "source": [
    "from functools import wraps\n",
    "import time\n",
    "\n",
    "def timeit(func):\n",
    "    @wraps(func)\n",
    "    def timeit_wrapper(*args, **kwargs):\n",
    "        start_time = time.perf_counter()\n",
    "        result = func(*args, **kwargs)\n",
    "        end_time = time.perf_counter()\n",
    "        total_time = end_time - start_time\n",
    "        print(f'@timeit: {func.__name__} took {(total_time*1e3):.4f} milliseconds')\n",
    "        #return result, total_time\n",
    "        return result\n",
    "    return timeit_wrapper"
   ]
  },
  {
   "cell_type": "markdown",
   "metadata": {},
   "source": [
    "---\n",
    "## Beginn der eigentlichen Implementierung\n",
    "Ab hier können Sie mit ihrer eigentlichen Implementierung beginnen."
   ]
  },
  {
   "cell_type": "markdown",
   "metadata": {},
   "source": [
    "## Simpler Ansatz\n",
    "Implementieren Sie hier den ersten Ansatz, der Ihnen einfällt. Dieser muss nicht effizient sein, sollte aber korrekt sein.  \n",
    "Bestimmen Sie für diesen Algorithmus die Zeitkomplexität $\\mathcal{O}$ und geben Sie diese in der Markdown-Zelle weiter unten an.\n",
    "\n",
    "Versehen Sie die Funktion mit dem Decorator `@timeit` um die Laufzeit zu messen."
   ]
  },
  {
   "cell_type": "code",
   "execution_count": 7,
   "metadata": {},
   "outputs": [],
   "source": [
    "@timeit\n",
    "def find_majority_element(a_list):\n",
    "    n = len(a_list)\n",
    "    dict_elements = {}\n",
    "\n",
    "    for element in a_list:\n",
    "        if element not in dict_elements.keys():\n",
    "            dict_elements[element] = 1\n",
    "        elif element in dict_elements.keys():\n",
    "            dict_elements[element] +=1\n",
    "\n",
    "    for key, value in dict_elements.items():\n",
    "        if value >= n/2:\n",
    "            return key\n",
    "        \n"
   ]
  },
  {
   "cell_type": "code",
   "execution_count": 8,
   "metadata": {},
   "outputs": [
    {
     "name": "stdout",
     "output_type": "stream",
     "text": [
      "@timeit: find_majority_element took 0.0145 milliseconds\n",
      "None\n",
      "@timeit: find_majority_element took 0.0057 milliseconds\n",
      "2\n"
     ]
    }
   ],
   "source": [
    "print(find_majority_element(my_list))\n",
    "print(find_majority_element(my_list_2))"
   ]
  },
  {
   "cell_type": "code",
   "execution_count": 9,
   "metadata": {},
   "outputs": [
    {
     "name": "stdout",
     "output_type": "stream",
     "text": [
      "@timeit: find_majority_element took 1088.7739 milliseconds\n",
      "SPÖ\n",
      "@timeit: find_majority_element took 900.2605 milliseconds\n",
      "None\n"
     ]
    }
   ],
   "source": [
    "# Mit hoher Wahrscheinlichkeit müssen Sie ihren naiven Algorithmus abbrechen, wenn er für diese Liste zu lange braucht\n",
    "print(find_majority_element(votes_1979))\n",
    "print(find_majority_element(votes_2019))"
   ]
  },
  {
   "cell_type": "markdown",
   "metadata": {},
   "source": [
    "Hier Lösung einfügen: n\n",
    "Die Zeitkomplexität dieses Algorithmus beträgt: $\\mathcal{O}(\\dots)$"
   ]
  },
  {
   "cell_type": "markdown",
   "metadata": {},
   "source": [
    "---\n",
    "## Effizienter Ansatz\n",
    "Überlegen Sie sich oder recherchieren Sie einen Algorithmus der die Problemstellung effizienter lösen kann.  \n",
    "Es existieren meherere Varianten, eine davon kann in linearer Zeit ($\\mathcal{O}(n)$) ausgeführt werden.\n",
    "\n",
    "Bestimmen Sie für Ihren effizienteren Algorithmus die Zeitkomplexität $\\mathcal{O}$ und geben Sie diese in der Markdown-Zelle weiter unten an."
   ]
  },
  {
   "cell_type": "code",
   "execution_count": 10,
   "metadata": {},
   "outputs": [],
   "source": [
    "@timeit\n",
    "def find_majority_element_efficient(a_list):\n",
    "    n = len(a_list)\n",
    "    dict_elements = {}\n",
    "\n",
    "    for element in a_list:\n",
    "        if element not in dict_elements.keys():\n",
    "            dict_elements[element] = 1\n",
    "        elif element in dict_elements.keys():\n",
    "            dict_elements[element] +=1\n",
    "\n",
    "    for key, value in dict_elements.items():\n",
    "        if value >= n/2:\n",
    "            return key"
   ]
  },
  {
   "cell_type": "code",
   "execution_count": 11,
   "metadata": {},
   "outputs": [
    {
     "name": "stdout",
     "output_type": "stream",
     "text": [
      "@timeit: find_majority_element_efficient took 0.0106 milliseconds\n",
      "None\n",
      "@timeit: find_majority_element_efficient took 0.0049 milliseconds\n",
      "2\n"
     ]
    }
   ],
   "source": [
    "print(find_majority_element_efficient(my_list))\n",
    "print(find_majority_element_efficient(my_list_2))"
   ]
  },
  {
   "cell_type": "code",
   "execution_count": 12,
   "metadata": {},
   "outputs": [
    {
     "name": "stdout",
     "output_type": "stream",
     "text": [
      "@timeit: find_majority_element_efficient took 888.2840 milliseconds\n",
      "None\n",
      "@timeit: find_majority_element_efficient took 1006.4968 milliseconds\n",
      "SPÖ\n"
     ]
    }
   ],
   "source": [
    "print(find_majority_element_efficient(votes_2019))\n",
    "print(find_majority_element_efficient(votes_1979))"
   ]
  },
  {
   "cell_type": "markdown",
   "metadata": {},
   "source": [
    "Hier Lösung einfügen: n \n",
    "Die Zeitkomplexität dieses Algorithmus beträgt: $\\mathcal{O}(\\dots)$"
   ]
  },
  {
   "cell_type": "markdown",
   "metadata": {},
   "source": [
    "---\n",
    "## OPTIONAL: Zweiter effizienter Ansatz\n",
    "\n",
    "Es existieren mehrere effiziente Ansätze, die Problemstellung zu lösen.  \n",
    "Falls Sie noch weitere Ansätze implementieren wollen, können Sie dies hier optional gerne tun."
   ]
  },
  {
   "cell_type": "code",
   "execution_count": 13,
   "metadata": {},
   "outputs": [],
   "source": [
    "from bisect import bisect_left, bisect_right\n",
    "\n",
    "@timeit\n",
    "def find_majority_element_sorting(a_list):\n",
    "    pass"
   ]
  },
  {
   "cell_type": "code",
   "execution_count": 14,
   "metadata": {},
   "outputs": [
    {
     "name": "stdout",
     "output_type": "stream",
     "text": [
      "@timeit: find_majority_element_sorting took 0.0008 milliseconds\n",
      "None\n",
      "@timeit: find_majority_element_sorting took 0.0006 milliseconds\n",
      "None\n",
      "@timeit: find_majority_element_sorting took 0.0004 milliseconds\n",
      "None\n",
      "@timeit: find_majority_element_sorting took 0.0004 milliseconds\n",
      "None\n"
     ]
    }
   ],
   "source": [
    "print(find_majority_element_sorting(my_list))\n",
    "print(find_majority_element_sorting(my_list_2))\n",
    "\n",
    "print(find_majority_element_sorting(votes_1979))\n",
    "print(find_majority_element_sorting(votes_2019))"
   ]
  },
  {
   "cell_type": "markdown",
   "metadata": {},
   "source": [
    "---\n",
    "## Tests für simplen Algorithmus"
   ]
  },
  {
   "cell_type": "code",
   "execution_count": 15,
   "metadata": {},
   "outputs": [
    {
     "name": "stdout",
     "output_type": "stream",
     "text": [
      "@timeit: find_majority_element took 0.0109 milliseconds\n",
      "@timeit: find_majority_element took 0.0088 milliseconds\n",
      "@timeit: find_majority_element took 922.1663 milliseconds\n",
      "@timeit: find_majority_element took 814.8778 milliseconds\n"
     ]
    }
   ],
   "source": [
    "assert find_majority_element(my_list) == None\n",
    "assert find_majority_element(my_list_2) == 2\n",
    "assert find_majority_element(votes_1979) == \"SPÖ\"\n",
    "assert find_majority_element(votes_2019) == None"
   ]
  },
  {
   "cell_type": "markdown",
   "metadata": {},
   "source": [
    "---\n",
    "## Tests für effizienten Algorithmus"
   ]
  },
  {
   "cell_type": "code",
   "execution_count": 16,
   "metadata": {},
   "outputs": [
    {
     "name": "stdout",
     "output_type": "stream",
     "text": [
      "@timeit: find_majority_element_efficient took 0.0065 milliseconds\n",
      "@timeit: find_majority_element_efficient took 0.0049 milliseconds\n",
      "@timeit: find_majority_element_efficient took 956.6974 milliseconds\n",
      "@timeit: find_majority_element_efficient took 974.6562 milliseconds\n"
     ]
    }
   ],
   "source": [
    "assert find_majority_element_efficient(my_list) == None\n",
    "assert find_majority_element_efficient(my_list_2) == 2\n",
    "assert find_majority_element_efficient(votes_1979) == \"SPÖ\"\n",
    "assert find_majority_element_efficient(votes_2019) == None"
   ]
  },
  {
   "cell_type": "markdown",
   "metadata": {},
   "source": [
    "---\n",
    "## OPTIONAL: Tests für 3. Algorithmus"
   ]
  },
  {
   "cell_type": "code",
   "execution_count": 17,
   "metadata": {},
   "outputs": [
    {
     "name": "stdout",
     "output_type": "stream",
     "text": [
      "@timeit: find_majority_element_sorting took 0.0007 milliseconds\n",
      "@timeit: find_majority_element_sorting took 0.0005 milliseconds\n"
     ]
    },
    {
     "ename": "AssertionError",
     "evalue": "",
     "output_type": "error",
     "traceback": [
      "\u001b[1;31m---------------------------------------------------------------------------\u001b[0m",
      "\u001b[1;31mAssertionError\u001b[0m                            Traceback (most recent call last)",
      "\u001b[1;32mc:\\Users\\nicla\\OneDrive\\Documents\\03_04_majority_vote_algorithm_aufgabe.ipynb Cell 33\u001b[0m line \u001b[0;36m2\n\u001b[0;32m      <a href='vscode-notebook-cell:/c%3A/Users/nicla/OneDrive/Documents/03_04_majority_vote_algorithm_aufgabe.ipynb#X44sZmlsZQ%3D%3D?line=0'>1</a>\u001b[0m \u001b[39massert\u001b[39;00m find_majority_element_sorting(my_list) \u001b[39m==\u001b[39m \u001b[39mNone\u001b[39;00m\n\u001b[1;32m----> <a href='vscode-notebook-cell:/c%3A/Users/nicla/OneDrive/Documents/03_04_majority_vote_algorithm_aufgabe.ipynb#X44sZmlsZQ%3D%3D?line=1'>2</a>\u001b[0m \u001b[39massert\u001b[39;00m find_majority_element_sorting(my_list_2) \u001b[39m==\u001b[39m \u001b[39m2\u001b[39m\n\u001b[0;32m      <a href='vscode-notebook-cell:/c%3A/Users/nicla/OneDrive/Documents/03_04_majority_vote_algorithm_aufgabe.ipynb#X44sZmlsZQ%3D%3D?line=2'>3</a>\u001b[0m \u001b[39massert\u001b[39;00m find_majority_element_sorting(votes_1979) \u001b[39m==\u001b[39m \u001b[39m\"\u001b[39m\u001b[39mSPÖ\u001b[39m\u001b[39m\"\u001b[39m\n\u001b[0;32m      <a href='vscode-notebook-cell:/c%3A/Users/nicla/OneDrive/Documents/03_04_majority_vote_algorithm_aufgabe.ipynb#X44sZmlsZQ%3D%3D?line=3'>4</a>\u001b[0m \u001b[39massert\u001b[39;00m find_majority_element_sorting(votes_2019) \u001b[39m==\u001b[39m \u001b[39mNone\u001b[39;00m\n",
      "\u001b[1;31mAssertionError\u001b[0m: "
     ]
    }
   ],
   "source": [
    "assert find_majority_element_sorting(my_list) == None\n",
    "assert find_majority_element_sorting(my_list_2) == 2\n",
    "assert find_majority_element_sorting(votes_1979) == \"SPÖ\"\n",
    "assert find_majority_element_sorting(votes_2019) == None"
   ]
  }
 ],
 "metadata": {
  "kernelspec": {
   "display_name": ".venv",
   "language": "python",
   "name": "python3"
  },
  "language_info": {
   "codemirror_mode": {
    "name": "ipython",
    "version": 3
   },
   "file_extension": ".py",
   "mimetype": "text/x-python",
   "name": "python",
   "nbconvert_exporter": "python",
   "pygments_lexer": "ipython3",
   "version": "3.11.7"
  },
  "orig_nbformat": 4
 },
 "nbformat": 4,
 "nbformat_minor": 2
}
